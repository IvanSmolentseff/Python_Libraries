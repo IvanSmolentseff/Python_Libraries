{
  "nbformat": 4,
  "nbformat_minor": 0,
  "metadata": {
    "colab": {
      "provenance": []
    },
    "kernelspec": {
      "name": "python3",
      "display_name": "Python 3"
    },
    "language_info": {
      "name": "python"
    }
  },
  "cells": [
    {
      "cell_type": "markdown",
      "source": [
        "# Тема “Вычисления с помощью Numpy”"
      ],
      "metadata": {
        "id": "zF7lKl8Oo2Hc"
      }
    },
    {
      "cell_type": "markdown",
      "source": [
        "## Задание 1\n",
        "Создайте массив Numpy под названием a размером 5x2, то есть состоящий из 5 строк\n",
        "и 2 столбцов. Первый столбец должен содержать числа 1, 2, 3, 3, 1, а второй - числа 6, 8, 11, 10, 7. Будем считать, что каждый столбец - это признак, а строка - наблюдение.\n",
        "Затем найдите среднее значение по каждому признаку, используя метод mean массива\n",
        "Numpy. Результат запишите в массив mean_a, в нем должно быть 2 элемента."
      ],
      "metadata": {
        "id": "Elweu1vAo2oo"
      }
    },
    {
      "cell_type": "code",
      "source": [
        "import numpy as np\n",
        "\n",
        "# Создание массива\n",
        "a = np.array([[1, 6], [2, 8], [3, 11], [3, 10], [1, 7]])\n",
        "\n",
        "# Нахождение среднего значения по каждому признаку\n",
        "mean_a = np.mean(a, axis=0)\n",
        "mean_a"
      ],
      "metadata": {
        "colab": {
          "base_uri": "https://localhost:8080/"
        },
        "id": "yc0a6IvfrjHz",
        "outputId": "eab77323-757d-427d-ea73-656f00f12549"
      },
      "execution_count": 1,
      "outputs": [
        {
          "output_type": "execute_result",
          "data": {
            "text/plain": [
              "array([2. , 8.4])"
            ]
          },
          "metadata": {},
          "execution_count": 1
        }
      ]
    },
    {
      "cell_type": "markdown",
      "source": [
        "## Задание 2\n",
        "Вычислите массив a_centered, отняв от значений массива “а” средние значения\n",
        "соответствующих признаков, содержащиеся в массиве mean_a. Вычисление должно\n",
        "производиться в одно действие. Получившийся массив должен иметь размер 5x2."
      ],
      "metadata": {
        "id": "KOQmUYAdo21Z"
      }
    },
    {
      "cell_type": "code",
      "source": [
        "# Вычитание средних значений признаков из соответствующих значений массива a\n",
        "a_centered = a - mean_a\n",
        "a_centered"
      ],
      "metadata": {
        "colab": {
          "base_uri": "https://localhost:8080/"
        },
        "id": "fqw5R_5Yr5GV",
        "outputId": "f2ed6075-9933-433a-95bd-a8777432ccaf"
      },
      "execution_count": 2,
      "outputs": [
        {
          "output_type": "execute_result",
          "data": {
            "text/plain": [
              "array([[-1. , -2.4],\n",
              "       [ 0. , -0.4],\n",
              "       [ 1. ,  2.6],\n",
              "       [ 1. ,  1.6],\n",
              "       [-1. , -1.4]])"
            ]
          },
          "metadata": {},
          "execution_count": 2
        }
      ]
    },
    {
      "cell_type": "markdown",
      "source": [
        "## Задание 3\n",
        "Найдите скалярное произведение столбцов массива a_centered. В результате должна\n",
        "получиться величина _centered_spa. Затем поделите a_centered_sp на N-1, где N - число наблюдений."
      ],
      "metadata": {
        "id": "SjiyP4IMo3Ar"
      }
    },
    {
      "cell_type": "code",
      "source": [
        "# Вычисление скалярного произведения столбцов массива a_centered\n",
        "centered_sp = np.dot(a_centered[:, 0], a_centered[:, 1])\n",
        "\n",
        "# Деление скалярного произведения на N-1\n",
        "N = a.shape[0]\n",
        "centered_spa = centered_sp / (N - 1)\n",
        "centered_sp, centered_spa"
      ],
      "metadata": {
        "colab": {
          "base_uri": "https://localhost:8080/"
        },
        "id": "TK-jBbTjsQ4X",
        "outputId": "790854b3-29f8-44cf-eb02-bf562a18ea1d"
      },
      "execution_count": 3,
      "outputs": [
        {
          "output_type": "execute_result",
          "data": {
            "text/plain": [
              "(8.0, 2.0)"
            ]
          },
          "metadata": {},
          "execution_count": 3
        }
      ]
    },
    {
      "cell_type": "markdown",
      "source": [
        "## Задание 4**\n",
        "Число, которое мы получили в конце задания 3 является ковариацией двух признаков, содержащихся в массиве “а”. В задании 4 мы делили сумму произведений центрированных признаков на N-1, а не на N, поэтому полученная нами величина является несмещенной оценкой ковариации.  \n",
        "В этом задании проверьте получившееся число, вычислив ковариацию еще одним способом - с\n",
        "помощью функции np.cov. В качестве аргумента m функция np.cov должна принимать\n",
        "транспонированный массив “a”. В получившейся ковариационной матрице (массив Numpy размером\n",
        "2x2) искомое значение ковариации будет равно элементу в строке с индексом 0 и столбце с индексом\n",
        "1."
      ],
      "metadata": {
        "id": "UrWKdwPxo3MV"
      }
    },
    {
      "cell_type": "code",
      "source": [
        "# Вычисление ковариационной матрицы с помощью np.cov\n",
        "cov_matrix = np.cov(a.T)\n",
        "\n",
        "# Извлечение искомого значения ковариации\n",
        "cov_value = cov_matrix[0, 1]\n",
        "cov_value"
      ],
      "metadata": {
        "colab": {
          "base_uri": "https://localhost:8080/"
        },
        "id": "DKCtYsHbsxu4",
        "outputId": "f4a02663-5ece-4862-909f-7cd5e1585968"
      },
      "execution_count": 4,
      "outputs": [
        {
          "output_type": "execute_result",
          "data": {
            "text/plain": [
              "2.0"
            ]
          },
          "metadata": {},
          "execution_count": 4
        }
      ]
    },
    {
      "cell_type": "markdown",
      "source": [
        "# Тема “Работа с данными в Pandas”"
      ],
      "metadata": {
        "id": "1t_aK944o3VR"
      }
    },
    {
      "cell_type": "markdown",
      "source": [
        "## Задание 1\n",
        "Импортируйте библиотеку Pandas и дайте ей псевдоним pd. Создайте датафрейм authors со столбцами author_id и author_name, в которых соответственно содержатся данные: [1, 2, 3] и ['Тургенев', 'Чехов', 'Островский'].  \n",
        "Затем создайте датафрейм book cо столбцами author_id, book_title и price, в которых соответственно содержатся данные:\n",
        "[1, 1, 1, 2, 2, 3, 3],  \n",
        "['Отцы и дети', 'Рудин', 'Дворянское гнездо', 'Толстый и тонкий', 'Дама с собачкой', 'Гроза', 'Таланты и поклонники']  \n",
        "Нужны prices!  \n",
        "[500, 400, 300, 350, 450, 600, 200]"
      ],
      "metadata": {
        "id": "M3SSKRq_o3ex"
      }
    },
    {
      "cell_type": "code",
      "source": [
        "import pandas as pd\n",
        "\n",
        "# Создание датафрейма authors\n",
        "authors_data = {\n",
        "    'author_id': [1, 2, 3],\n",
        "    'author_name': ['Тургенев', 'Чехов', 'Островский']\n",
        "}\n",
        "authors = pd.DataFrame(authors_data)\n",
        "\n",
        "# Создание датафрейма book\n",
        "book_data = {\n",
        "    'author_id': [1, 1, 1, 2, 2, 3, 3],\n",
        "    'book_title': ['Отцы и дети', 'Рудин', 'Дворянское гнездо', 'Толстый и тонкий', 'Дама с собачкой', 'Гроза', 'Таланты и поклонники'],\n",
        "    'price': [500, 400, 300, 350, 450, 600, 200]\n",
        "}\n",
        "book = pd.DataFrame(book_data)\n",
        "\n",
        "authors, book"
      ],
      "metadata": {
        "colab": {
          "base_uri": "https://localhost:8080/"
        },
        "id": "dCz0mIQKtkWY",
        "outputId": "38b1bac3-33c9-4960-fdac-920cd3c8fca2"
      },
      "execution_count": 5,
      "outputs": [
        {
          "output_type": "execute_result",
          "data": {
            "text/plain": [
              "(   author_id author_name\n",
              " 0          1    Тургенев\n",
              " 1          2       Чехов\n",
              " 2          3  Островский,\n",
              "    author_id            book_title  price\n",
              " 0          1           Отцы и дети    500\n",
              " 1          1                 Рудин    400\n",
              " 2          1     Дворянское гнездо    300\n",
              " 3          2      Толстый и тонкий    350\n",
              " 4          2       Дама с собачкой    450\n",
              " 5          3                 Гроза    600\n",
              " 6          3  Таланты и поклонники    200)"
            ]
          },
          "metadata": {},
          "execution_count": 5
        }
      ]
    },
    {
      "cell_type": "markdown",
      "source": [
        "## Задание 2\n",
        "Получите датафрейм authors_price, соединив дата фреймы authors и books по полю author_id."
      ],
      "metadata": {
        "id": "FSGjaDf4o3oD"
      }
    },
    {
      "cell_type": "code",
      "source": [
        "# Объединение датафреймов authors и book по полю author_id\n",
        "authors_price = pd.merge(authors, book, on='author_id')\n",
        "\n",
        "# Вывод результата\n",
        "print(authors_price)"
      ],
      "metadata": {
        "colab": {
          "base_uri": "https://localhost:8080/"
        },
        "id": "ruBykMEst2ak",
        "outputId": "c2b8cf35-d55b-495b-e9d2-6e811d126f62"
      },
      "execution_count": 6,
      "outputs": [
        {
          "output_type": "stream",
          "name": "stdout",
          "text": [
            "   author_id author_name            book_title  price\n",
            "0          1    Тургенев           Отцы и дети    500\n",
            "1          1    Тургенев                 Рудин    400\n",
            "2          1    Тургенев     Дворянское гнездо    300\n",
            "3          2       Чехов      Толстый и тонкий    350\n",
            "4          2       Чехов       Дама с собачкой    450\n",
            "5          3  Островский                 Гроза    600\n",
            "6          3  Островский  Таланты и поклонники    200\n"
          ]
        }
      ]
    },
    {
      "cell_type": "markdown",
      "source": [
        "## Задание 3\n",
        "Создайте датафрейм top5, в котором содержатся строки из authors_price с пятью самыми дорогими\n",
        "книгами."
      ],
      "metadata": {
        "id": "Ss45gGybqbW2"
      }
    },
    {
      "cell_type": "code",
      "source": [
        "# Создание датафрейма top5 с пятью самыми дорогими книгами\n",
        "top5 = authors_price.nlargest(5, 'price')\n",
        "\n",
        "# Вывод результата\n",
        "print(top5)"
      ],
      "metadata": {
        "colab": {
          "base_uri": "https://localhost:8080/"
        },
        "id": "6fZrzZK5uHOd",
        "outputId": "8af8a69d-6690-4a9e-a911-60419c3f789a"
      },
      "execution_count": 7,
      "outputs": [
        {
          "output_type": "stream",
          "name": "stdout",
          "text": [
            "   author_id author_name        book_title  price\n",
            "5          3  Островский             Гроза    600\n",
            "0          1    Тургенев       Отцы и дети    500\n",
            "4          2       Чехов   Дама с собачкой    450\n",
            "1          1    Тургенев             Рудин    400\n",
            "3          2       Чехов  Толстый и тонкий    350\n"
          ]
        }
      ]
    },
    {
      "cell_type": "markdown",
      "source": [
        "## Задание 4\n",
        "Создайте датафрейм authors_stat на основе информации из authors_price. В датафрейме authors_stat должны быть четыре столбца:\n",
        "author_name, min_price, max_price и mean_price, в которых должны содержаться соответственно имя автора, минимальная, максимальная и средняя цена на книги этого автора."
      ],
      "metadata": {
        "id": "AwD8vkOqqbIn"
      }
    },
    {
      "cell_type": "code",
      "source": [
        "# Создание датафрейма authors_stat\n",
        "authors_stat = authors_price.groupby('author_name').agg(\n",
        "    min_price=('price', 'min'),\n",
        "    max_price=('price', 'max'),\n",
        "    mean_price=('price', 'mean')\n",
        ").reset_index()\n",
        "\n",
        "# Вывод результата\n",
        "print(authors_stat)"
      ],
      "metadata": {
        "colab": {
          "base_uri": "https://localhost:8080/"
        },
        "id": "gPHkGIERuKLq",
        "outputId": "3b87aa24-df8d-49cb-9fdc-3eab0fc08fd4"
      },
      "execution_count": 8,
      "outputs": [
        {
          "output_type": "stream",
          "name": "stdout",
          "text": [
            "  author_name  min_price  max_price  mean_price\n",
            "0  Островский        200        600       400.0\n",
            "1    Тургенев        300        500       400.0\n",
            "2       Чехов        350        450       400.0\n"
          ]
        }
      ]
    },
    {
      "cell_type": "markdown",
      "source": [
        "## Задание 5**\n",
        "Создайте новый столбец в датафрейме authors_price под названием cover, в нем будут располагаться данные о том, какая обложка у данной книги - твердая или мягкая. В этот столбец поместите данные из следующего списка:\n",
        "['твердая', 'мягкая', 'мягкая', 'твердая', 'твердая', 'мягкая', 'мягкая'].  \n",
        "\n",
        "Просмотрите документацию по функции pd.pivot table с помощью вопросительного знака.  \n",
        "\n",
        "Для каждого автора посчитайте суммарную стоимость книг в твердой и мягкой обложке. Используйте\n",
        "для этого функцию pd.pivot_table. При этом столбцы должны называться \"твердая\" и \"мягкая\", а индексами должны быть фамилии авторов. Пропущенные значения стоимостей заполните нулями, при необходимости загрузите библиотеку Numpy.  \n",
        "\n",
        "Назовите полученный датасет book_info и сохраните его в формат pickle под названием \"book_info.pkl\". Затем загрузите из этого файла датафрейм и назовите его book_info2. Удостоверьтесь, что датафреймы book_info и book_info2 идентичны."
      ],
      "metadata": {
        "id": "hV_1p-wrq2G_"
      }
    },
    {
      "cell_type": "code",
      "source": [
        "# Создание нового столбца cover\n",
        "cover_data = ['твердая', 'мягкая', 'мягкая', 'твердая', 'твердая', 'мягкая', 'мягкая']\n",
        "authors_price['cover'] = cover_data\n",
        "\n",
        "# Создание сводной таблицы с помощью pd.pivot_table\n",
        "book_info = pd.pivot_table(authors_price, values='price', index='author_name', columns='cover', aggfunc=np.sum, fill_value=0)\n",
        "\n",
        "# Переименуем столбцы для удобства\n",
        "book_info.columns.name = None\n",
        "book_info.reset_index(inplace=True)\n",
        "\n",
        "# Сохранение датафрейма book_info в файл формата pickle\n",
        "book_info.to_pickle('book_info.pkl')\n",
        "\n",
        "# Загрузка датафрейма из файла формата pickle\n",
        "book_info2 = pd.read_pickle('book_info.pkl')\n",
        "\n",
        "# Проверка идентичности датафреймов\n",
        "print(book_info.equals(book_info2))\n",
        "print(book_info)\n",
        "print(book_info2)"
      ],
      "metadata": {
        "colab": {
          "base_uri": "https://localhost:8080/"
        },
        "id": "bASghIDerWHn",
        "outputId": "8ccf9a4f-d294-4269-a771-54426dbbaf8d"
      },
      "execution_count": 9,
      "outputs": [
        {
          "output_type": "stream",
          "name": "stdout",
          "text": [
            "True\n",
            "  author_name  мягкая  твердая\n",
            "0  Островский     800        0\n",
            "1    Тургенев     700      500\n",
            "2       Чехов       0      800\n",
            "  author_name  мягкая  твердая\n",
            "0  Островский     800        0\n",
            "1    Тургенев     700      500\n",
            "2       Чехов       0      800\n"
          ]
        }
      ]
    }
  ]
}