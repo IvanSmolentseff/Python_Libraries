{
  "nbformat": 4,
  "nbformat_minor": 0,
  "metadata": {
    "colab": {
      "provenance": []
    },
    "kernelspec": {
      "name": "python3",
      "display_name": "Python 3"
    },
    "language_info": {
      "name": "python"
    }
  },
  "cells": [
    {
      "cell_type": "markdown",
      "source": [
        "# Тема “Визуализация данных в Matplotlib”"
      ],
      "metadata": {
        "id": "G8_ZbtWt9VEd"
      }
    },
    {
      "cell_type": "markdown",
      "source": [
        "## Задание 1\n",
        "Загрузите модуль pyplot библиотеки matplotlib с псевдонимом plt, а также библиотеку numpy с псевдонимом np.  \n",
        "\n",
        "Примените магическую функцию %matplotlib inline для отображения графиков в Jupyter Notebook и настройки конфигурации ноутбука со значением 'svg' для более четкого отображения графиков.  \n",
        "\n",
        "Создайте список под названием x с числами 1, 2, 3, 4, 5, 6, 7 и список y с числами 3.5, 3.8, 4.2, 4.5, 5, 5.5, 7.  \n",
        "\n",
        "С помощью функции plot постройте график, соединяющий линиями точки с горизонтальными координатами из списка x и вертикальными - из списка y.\n",
        "  \n",
        "Затем в следующей ячейке постройте диаграмму рассеяния (другие названия - диаграмма разброса, scatter plot)."
      ],
      "metadata": {
        "id": "RI0Cr6b69VBt"
      }
    },
    {
      "cell_type": "code",
      "source": [
        "import matplotlib.pyplot as plt\n",
        "import numpy as np\n",
        "\n",
        "# Для отображения графиков в Jupyter Notebook\n",
        "%matplotlib inline\n",
        "\n",
        "# Настройка для более четкого отображения графиков\n",
        "%config InlineBackend.figure_format = 'svg'\n",
        "\n",
        "# Создаём списки x и y\n",
        "x = [1, 2, 3, 4, 5, 6, 7]\n",
        "y = [3.5, 3.8, 4.2, 4.5, 5, 5.5, 7]\n",
        "\n",
        "# Строим график с помощью функции plot\n",
        "plt.plot(x, y)\n",
        "plt.xlabel('x')\n",
        "plt.ylabel('y')\n",
        "plt.title('Line Plot of y vs x')\n",
        "plt.show()\n",
        "\n",
        "# Строим диаграмму рассеяния (scatter plot)\n",
        "plt.scatter(x, y)\n",
        "plt.xlabel('x')\n",
        "plt.ylabel('y')\n",
        "plt.title('Scatter Plot of y vs x')\n",
        "plt.show()\n"
      ],
      "metadata": {
        "colab": {
          "base_uri": "https://localhost:8080/",
          "height": 967
        },
        "id": "12QLM3qsO3wI",
        "outputId": "88d4ff41-2b4d-451c-90aa-83bda5972d90"
      },
      "execution_count": 4,
      "outputs": [
        {
          "output_type": "display_data",
          "data": {
            "text/plain": [
              "<Figure size 640x480 with 1 Axes>"
            ],
            "image/svg+xml": "<?xml version=\"1.0\" encoding=\"utf-8\" standalone=\"no\"?>\n<!DOCTYPE svg PUBLIC \"-//W3C//DTD SVG 1.1//EN\"\n  \"http://www.w3.org/Graphics/SVG/1.1/DTD/svg11.dtd\">\n<svg xmlns:xlink=\"http://www.w3.org/1999/xlink\" width=\"461.319625pt\" height=\"352.963075pt\" viewBox=\"0 0 461.319625 352.963075\" xmlns=\"http://www.w3.org/2000/svg\" version=\"1.1\">\n <metadata>\n  <rdf:RDF xmlns:dc=\"http://purl.org/dc/elements/1.1/\" xmlns:cc=\"http://creativecommons.org/ns#\" xmlns:rdf=\"http://www.w3.org/1999/02/22-rdf-syntax-ns#\">\n   <cc:Work>\n    <dc:type rdf:resource=\"http://purl.org/dc/dcmitype/StillImage\"/>\n    <dc:date>2024-07-21T12:19:31.657352</dc:date>\n    <dc:format>image/svg+xml</dc:format>\n    <dc:creator>\n     <cc:Agent>\n      <dc:title>Matplotlib v3.7.1, https://matplotlib.org/</dc:title>\n     </cc:Agent>\n    </dc:creator>\n   </cc:Work>\n  </rdf:RDF>\n </metadata>\n <defs>\n  <style type=\"text/css\">*{stroke-linejoin: round; stroke-linecap: butt}</style>\n </defs>\n <g id=\"figure_1\">\n  <g id=\"patch_1\">\n   <path d=\"M 0 352.963075 \nL 461.319625 352.963075 \nL 461.319625 0 \nL 0 0 \nz\n\" style=\"fill: #f0f0f0\"/>\n  </g>\n  <g id=\"axes_1\">\n   <g id=\"patch_2\">\n    <path d=\"M 53.223625 308.45445 \nL 454.119625 308.45445 \nL 454.119625 28.51845 \nL 53.223625 28.51845 \nz\n\" style=\"fill: #f0f0f0\"/>\n   </g>\n   <g id=\"matplotlib.axis_1\">\n    <g id=\"xtick_1\">\n     <g id=\"line2d_1\">\n      <path d=\"M 71.44617 308.45445 \nL 71.44617 28.51845 \n\" clip-path=\"url(#p9ab464ff84)\" style=\"fill: none; stroke: #cbcbcb\"/>\n     </g>\n     <g id=\"line2d_2\"/>\n     <g id=\"text_1\">\n      <!-- 1 -->\n      <g transform=\"translate(66.99242 322.592262) scale(0.14 -0.14)\">\n       <defs>\n        <path id=\"DejaVuSans-31\" d=\"M 794 531 \nL 1825 531 \nL 1825 4091 \nL 703 3866 \nL 703 4441 \nL 1819 4666 \nL 2450 4666 \nL 2450 531 \nL 3481 531 \nL 3481 0 \nL 794 0 \nL 794 531 \nz\n\" transform=\"scale(0.015625)\"/>\n       </defs>\n       <use xlink:href=\"#DejaVuSans-31\"/>\n      </g>\n     </g>\n    </g>\n    <g id=\"xtick_2\">\n     <g id=\"line2d_3\">\n      <path d=\"M 132.187989 308.45445 \nL 132.187989 28.51845 \n\" clip-path=\"url(#p9ab464ff84)\" style=\"fill: none; stroke: #cbcbcb\"/>\n     </g>\n     <g id=\"line2d_4\"/>\n     <g id=\"text_2\">\n      <!-- 2 -->\n      <g transform=\"translate(127.734239 322.592262) scale(0.14 -0.14)\">\n       <defs>\n        <path id=\"DejaVuSans-32\" d=\"M 1228 531 \nL 3431 531 \nL 3431 0 \nL 469 0 \nL 469 531 \nQ 828 903 1448 1529 \nQ 2069 2156 2228 2338 \nQ 2531 2678 2651 2914 \nQ 2772 3150 2772 3378 \nQ 2772 3750 2511 3984 \nQ 2250 4219 1831 4219 \nQ 1534 4219 1204 4116 \nQ 875 4013 500 3803 \nL 500 4441 \nQ 881 4594 1212 4672 \nQ 1544 4750 1819 4750 \nQ 2544 4750 2975 4387 \nQ 3406 4025 3406 3419 \nQ 3406 3131 3298 2873 \nQ 3191 2616 2906 2266 \nQ 2828 2175 2409 1742 \nQ 1991 1309 1228 531 \nz\n\" transform=\"scale(0.015625)\"/>\n       </defs>\n       <use xlink:href=\"#DejaVuSans-32\"/>\n      </g>\n     </g>\n    </g>\n    <g id=\"xtick_3\">\n     <g id=\"line2d_5\">\n      <path d=\"M 192.929807 308.45445 \nL 192.929807 28.51845 \n\" clip-path=\"url(#p9ab464ff84)\" style=\"fill: none; stroke: #cbcbcb\"/>\n     </g>\n     <g id=\"line2d_6\"/>\n     <g id=\"text_3\">\n      <!-- 3 -->\n      <g transform=\"translate(188.476057 322.592262) scale(0.14 -0.14)\">\n       <defs>\n        <path id=\"DejaVuSans-33\" d=\"M 2597 2516 \nQ 3050 2419 3304 2112 \nQ 3559 1806 3559 1356 \nQ 3559 666 3084 287 \nQ 2609 -91 1734 -91 \nQ 1441 -91 1130 -33 \nQ 819 25 488 141 \nL 488 750 \nQ 750 597 1062 519 \nQ 1375 441 1716 441 \nQ 2309 441 2620 675 \nQ 2931 909 2931 1356 \nQ 2931 1769 2642 2001 \nQ 2353 2234 1838 2234 \nL 1294 2234 \nL 1294 2753 \nL 1863 2753 \nQ 2328 2753 2575 2939 \nQ 2822 3125 2822 3475 \nQ 2822 3834 2567 4026 \nQ 2313 4219 1838 4219 \nQ 1578 4219 1281 4162 \nQ 984 4106 628 3988 \nL 628 4550 \nQ 988 4650 1302 4700 \nQ 1616 4750 1894 4750 \nQ 2613 4750 3031 4423 \nQ 3450 4097 3450 3541 \nQ 3450 3153 3228 2886 \nQ 3006 2619 2597 2516 \nz\n\" transform=\"scale(0.015625)\"/>\n       </defs>\n       <use xlink:href=\"#DejaVuSans-33\"/>\n      </g>\n     </g>\n    </g>\n    <g id=\"xtick_4\">\n     <g id=\"line2d_7\">\n      <path d=\"M 253.671625 308.45445 \nL 253.671625 28.51845 \n\" clip-path=\"url(#p9ab464ff84)\" style=\"fill: none; stroke: #cbcbcb\"/>\n     </g>\n     <g id=\"line2d_8\"/>\n     <g id=\"text_4\">\n      <!-- 4 -->\n      <g transform=\"translate(249.217875 322.592262) scale(0.14 -0.14)\">\n       <defs>\n        <path id=\"DejaVuSans-34\" d=\"M 2419 4116 \nL 825 1625 \nL 2419 1625 \nL 2419 4116 \nz\nM 2253 4666 \nL 3047 4666 \nL 3047 1625 \nL 3713 1625 \nL 3713 1100 \nL 3047 1100 \nL 3047 0 \nL 2419 0 \nL 2419 1100 \nL 313 1100 \nL 313 1709 \nL 2253 4666 \nz\n\" transform=\"scale(0.015625)\"/>\n       </defs>\n       <use xlink:href=\"#DejaVuSans-34\"/>\n      </g>\n     </g>\n    </g>\n    <g id=\"xtick_5\">\n     <g id=\"line2d_9\">\n      <path d=\"M 314.413443 308.45445 \nL 314.413443 28.51845 \n\" clip-path=\"url(#p9ab464ff84)\" style=\"fill: none; stroke: #cbcbcb\"/>\n     </g>\n     <g id=\"line2d_10\"/>\n     <g id=\"text_5\">\n      <!-- 5 -->\n      <g transform=\"translate(309.959693 322.592262) scale(0.14 -0.14)\">\n       <defs>\n        <path id=\"DejaVuSans-35\" d=\"M 691 4666 \nL 3169 4666 \nL 3169 4134 \nL 1269 4134 \nL 1269 2991 \nQ 1406 3038 1543 3061 \nQ 1681 3084 1819 3084 \nQ 2600 3084 3056 2656 \nQ 3513 2228 3513 1497 \nQ 3513 744 3044 326 \nQ 2575 -91 1722 -91 \nQ 1428 -91 1123 -41 \nQ 819 9 494 109 \nL 494 744 \nQ 775 591 1075 516 \nQ 1375 441 1709 441 \nQ 2250 441 2565 725 \nQ 2881 1009 2881 1497 \nQ 2881 1984 2565 2268 \nQ 2250 2553 1709 2553 \nQ 1456 2553 1204 2497 \nQ 953 2441 691 2322 \nL 691 4666 \nz\n\" transform=\"scale(0.015625)\"/>\n       </defs>\n       <use xlink:href=\"#DejaVuSans-35\"/>\n      </g>\n     </g>\n    </g>\n    <g id=\"xtick_6\">\n     <g id=\"line2d_11\">\n      <path d=\"M 375.155261 308.45445 \nL 375.155261 28.51845 \n\" clip-path=\"url(#p9ab464ff84)\" style=\"fill: none; stroke: #cbcbcb\"/>\n     </g>\n     <g id=\"line2d_12\"/>\n     <g id=\"text_6\">\n      <!-- 6 -->\n      <g transform=\"translate(370.701511 322.592262) scale(0.14 -0.14)\">\n       <defs>\n        <path id=\"DejaVuSans-36\" d=\"M 2113 2584 \nQ 1688 2584 1439 2293 \nQ 1191 2003 1191 1497 \nQ 1191 994 1439 701 \nQ 1688 409 2113 409 \nQ 2538 409 2786 701 \nQ 3034 994 3034 1497 \nQ 3034 2003 2786 2293 \nQ 2538 2584 2113 2584 \nz\nM 3366 4563 \nL 3366 3988 \nQ 3128 4100 2886 4159 \nQ 2644 4219 2406 4219 \nQ 1781 4219 1451 3797 \nQ 1122 3375 1075 2522 \nQ 1259 2794 1537 2939 \nQ 1816 3084 2150 3084 \nQ 2853 3084 3261 2657 \nQ 3669 2231 3669 1497 \nQ 3669 778 3244 343 \nQ 2819 -91 2113 -91 \nQ 1303 -91 875 529 \nQ 447 1150 447 2328 \nQ 447 3434 972 4092 \nQ 1497 4750 2381 4750 \nQ 2619 4750 2861 4703 \nQ 3103 4656 3366 4563 \nz\n\" transform=\"scale(0.015625)\"/>\n       </defs>\n       <use xlink:href=\"#DejaVuSans-36\"/>\n      </g>\n     </g>\n    </g>\n    <g id=\"xtick_7\">\n     <g id=\"line2d_13\">\n      <path d=\"M 435.89708 308.45445 \nL 435.89708 28.51845 \n\" clip-path=\"url(#p9ab464ff84)\" style=\"fill: none; stroke: #cbcbcb\"/>\n     </g>\n     <g id=\"line2d_14\"/>\n     <g id=\"text_7\">\n      <!-- 7 -->\n      <g transform=\"translate(431.44333 322.592262) scale(0.14 -0.14)\">\n       <defs>\n        <path id=\"DejaVuSans-37\" d=\"M 525 4666 \nL 3525 4666 \nL 3525 4397 \nL 1831 0 \nL 1172 0 \nL 2766 4134 \nL 525 4134 \nL 525 4666 \nz\n\" transform=\"scale(0.015625)\"/>\n       </defs>\n       <use xlink:href=\"#DejaVuSans-37\"/>\n      </g>\n     </g>\n    </g>\n    <g id=\"text_8\">\n     <!-- x -->\n     <g transform=\"translate(248.699875 342.2692) scale(0.168 -0.168)\">\n      <defs>\n       <path id=\"DejaVuSans-78\" d=\"M 3513 3500 \nL 2247 1797 \nL 3578 0 \nL 2900 0 \nL 1881 1375 \nL 863 0 \nL 184 0 \nL 1544 1831 \nL 300 3500 \nL 978 3500 \nL 1906 2253 \nL 2834 3500 \nL 3513 3500 \nz\n\" transform=\"scale(0.015625)\"/>\n      </defs>\n      <use xlink:href=\"#DejaVuSans-78\"/>\n     </g>\n    </g>\n   </g>\n   <g id=\"matplotlib.axis_2\">\n    <g id=\"ytick_1\">\n     <g id=\"line2d_15\">\n      <path d=\"M 53.223625 295.730086 \nL 454.119625 295.730086 \n\" clip-path=\"url(#p9ab464ff84)\" style=\"fill: none; stroke: #cbcbcb\"/>\n     </g>\n     <g id=\"line2d_16\"/>\n     <g id=\"text_9\">\n      <!-- 3.5 -->\n      <g transform=\"translate(27.45925 301.048993) scale(0.14 -0.14)\">\n       <defs>\n        <path id=\"DejaVuSans-2e\" d=\"M 684 794 \nL 1344 794 \nL 1344 0 \nL 684 0 \nL 684 794 \nz\n\" transform=\"scale(0.015625)\"/>\n       </defs>\n       <use xlink:href=\"#DejaVuSans-33\"/>\n       <use xlink:href=\"#DejaVuSans-2e\" x=\"63.623047\"/>\n       <use xlink:href=\"#DejaVuSans-35\" x=\"95.410156\"/>\n      </g>\n     </g>\n    </g>\n    <g id=\"ytick_2\">\n     <g id=\"line2d_17\">\n      <path d=\"M 53.223625 259.374762 \nL 454.119625 259.374762 \n\" clip-path=\"url(#p9ab464ff84)\" style=\"fill: none; stroke: #cbcbcb\"/>\n     </g>\n     <g id=\"line2d_18\"/>\n     <g id=\"text_10\">\n      <!-- 4.0 -->\n      <g transform=\"translate(27.45925 264.693668) scale(0.14 -0.14)\">\n       <defs>\n        <path id=\"DejaVuSans-30\" d=\"M 2034 4250 \nQ 1547 4250 1301 3770 \nQ 1056 3291 1056 2328 \nQ 1056 1369 1301 889 \nQ 1547 409 2034 409 \nQ 2525 409 2770 889 \nQ 3016 1369 3016 2328 \nQ 3016 3291 2770 3770 \nQ 2525 4250 2034 4250 \nz\nM 2034 4750 \nQ 2819 4750 3233 4129 \nQ 3647 3509 3647 2328 \nQ 3647 1150 3233 529 \nQ 2819 -91 2034 -91 \nQ 1250 -91 836 529 \nQ 422 1150 422 2328 \nQ 422 3509 836 4129 \nQ 1250 4750 2034 4750 \nz\n\" transform=\"scale(0.015625)\"/>\n       </defs>\n       <use xlink:href=\"#DejaVuSans-34\"/>\n       <use xlink:href=\"#DejaVuSans-2e\" x=\"63.623047\"/>\n       <use xlink:href=\"#DejaVuSans-30\" x=\"95.410156\"/>\n      </g>\n     </g>\n    </g>\n    <g id=\"ytick_3\">\n     <g id=\"line2d_19\">\n      <path d=\"M 53.223625 223.019437 \nL 454.119625 223.019437 \n\" clip-path=\"url(#p9ab464ff84)\" style=\"fill: none; stroke: #cbcbcb\"/>\n     </g>\n     <g id=\"line2d_20\"/>\n     <g id=\"text_11\">\n      <!-- 4.5 -->\n      <g transform=\"translate(27.45925 228.338343) scale(0.14 -0.14)\">\n       <use xlink:href=\"#DejaVuSans-34\"/>\n       <use xlink:href=\"#DejaVuSans-2e\" x=\"63.623047\"/>\n       <use xlink:href=\"#DejaVuSans-35\" x=\"95.410156\"/>\n      </g>\n     </g>\n    </g>\n    <g id=\"ytick_4\">\n     <g id=\"line2d_21\">\n      <path d=\"M 53.223625 186.664112 \nL 454.119625 186.664112 \n\" clip-path=\"url(#p9ab464ff84)\" style=\"fill: none; stroke: #cbcbcb\"/>\n     </g>\n     <g id=\"line2d_22\"/>\n     <g id=\"text_12\">\n      <!-- 5.0 -->\n      <g transform=\"translate(27.45925 191.983019) scale(0.14 -0.14)\">\n       <use xlink:href=\"#DejaVuSans-35\"/>\n       <use xlink:href=\"#DejaVuSans-2e\" x=\"63.623047\"/>\n       <use xlink:href=\"#DejaVuSans-30\" x=\"95.410156\"/>\n      </g>\n     </g>\n    </g>\n    <g id=\"ytick_5\">\n     <g id=\"line2d_23\">\n      <path d=\"M 53.223625 150.308788 \nL 454.119625 150.308788 \n\" clip-path=\"url(#p9ab464ff84)\" style=\"fill: none; stroke: #cbcbcb\"/>\n     </g>\n     <g id=\"line2d_24\"/>\n     <g id=\"text_13\">\n      <!-- 5.5 -->\n      <g transform=\"translate(27.45925 155.627694) scale(0.14 -0.14)\">\n       <use xlink:href=\"#DejaVuSans-35\"/>\n       <use xlink:href=\"#DejaVuSans-2e\" x=\"63.623047\"/>\n       <use xlink:href=\"#DejaVuSans-35\" x=\"95.410156\"/>\n      </g>\n     </g>\n    </g>\n    <g id=\"ytick_6\">\n     <g id=\"line2d_25\">\n      <path d=\"M 53.223625 113.953463 \nL 454.119625 113.953463 \n\" clip-path=\"url(#p9ab464ff84)\" style=\"fill: none; stroke: #cbcbcb\"/>\n     </g>\n     <g id=\"line2d_26\"/>\n     <g id=\"text_14\">\n      <!-- 6.0 -->\n      <g transform=\"translate(27.45925 119.272369) scale(0.14 -0.14)\">\n       <use xlink:href=\"#DejaVuSans-36\"/>\n       <use xlink:href=\"#DejaVuSans-2e\" x=\"63.623047\"/>\n       <use xlink:href=\"#DejaVuSans-30\" x=\"95.410156\"/>\n      </g>\n     </g>\n    </g>\n    <g id=\"ytick_7\">\n     <g id=\"line2d_27\">\n      <path d=\"M 53.223625 77.598138 \nL 454.119625 77.598138 \n\" clip-path=\"url(#p9ab464ff84)\" style=\"fill: none; stroke: #cbcbcb\"/>\n     </g>\n     <g id=\"line2d_28\"/>\n     <g id=\"text_15\">\n      <!-- 6.5 -->\n      <g transform=\"translate(27.45925 82.917045) scale(0.14 -0.14)\">\n       <use xlink:href=\"#DejaVuSans-36\"/>\n       <use xlink:href=\"#DejaVuSans-2e\" x=\"63.623047\"/>\n       <use xlink:href=\"#DejaVuSans-35\" x=\"95.410156\"/>\n      </g>\n     </g>\n    </g>\n    <g id=\"ytick_8\">\n     <g id=\"line2d_29\">\n      <path d=\"M 53.223625 41.242814 \nL 454.119625 41.242814 \n\" clip-path=\"url(#p9ab464ff84)\" style=\"fill: none; stroke: #cbcbcb\"/>\n     </g>\n     <g id=\"line2d_30\"/>\n     <g id=\"text_16\">\n      <!-- 7.0 -->\n      <g transform=\"translate(27.45925 46.56172) scale(0.14 -0.14)\">\n       <use xlink:href=\"#DejaVuSans-37\"/>\n       <use xlink:href=\"#DejaVuSans-2e\" x=\"63.623047\"/>\n       <use xlink:href=\"#DejaVuSans-30\" x=\"95.410156\"/>\n      </g>\n     </g>\n    </g>\n    <g id=\"text_17\">\n     <!-- y -->\n     <g transform=\"translate(19.965375 173.4582) rotate(-90) scale(0.168 -0.168)\">\n      <defs>\n       <path id=\"DejaVuSans-79\" d=\"M 2059 -325 \nQ 1816 -950 1584 -1140 \nQ 1353 -1331 966 -1331 \nL 506 -1331 \nL 506 -850 \nL 844 -850 \nQ 1081 -850 1212 -737 \nQ 1344 -625 1503 -206 \nL 1606 56 \nL 191 3500 \nL 800 3500 \nL 1894 763 \nL 2988 3500 \nL 3597 3500 \nL 2059 -325 \nz\n\" transform=\"scale(0.015625)\"/>\n      </defs>\n      <use xlink:href=\"#DejaVuSans-79\"/>\n     </g>\n    </g>\n   </g>\n   <g id=\"line2d_31\">\n    <path d=\"M 71.44617 295.730086 \nL 132.187989 273.916892 \nL 192.929807 244.832632 \nL 253.671625 223.019437 \nL 314.413443 186.664112 \nL 375.155261 150.308788 \nL 435.89708 41.242814 \n\" clip-path=\"url(#p9ab464ff84)\" style=\"fill: none; stroke: #008fd5; stroke-width: 4\"/>\n   </g>\n   <g id=\"patch_3\">\n    <path d=\"M 53.223625 308.45445 \nL 53.223625 28.51845 \n\" style=\"fill: none; stroke: #f0f0f0; stroke-width: 3; stroke-linejoin: miter; stroke-linecap: square\"/>\n   </g>\n   <g id=\"patch_4\">\n    <path d=\"M 454.119625 308.45445 \nL 454.119625 28.51845 \n\" style=\"fill: none; stroke: #f0f0f0; stroke-width: 3; stroke-linejoin: miter; stroke-linecap: square\"/>\n   </g>\n   <g id=\"patch_5\">\n    <path d=\"M 53.223625 308.45445 \nL 454.119625 308.45445 \n\" style=\"fill: none; stroke: #f0f0f0; stroke-width: 3; stroke-linejoin: miter; stroke-linecap: square\"/>\n   </g>\n   <g id=\"patch_6\">\n    <path d=\"M 53.223625 28.51845 \nL 454.119625 28.51845 \n\" style=\"fill: none; stroke: #f0f0f0; stroke-width: 3; stroke-linejoin: miter; stroke-linecap: square\"/>\n   </g>\n   <g id=\"text_18\">\n    <!-- Line Plot of y vs x -->\n    <g transform=\"translate(164.78335 22.51845) scale(0.2016 -0.2016)\">\n     <defs>\n      <path id=\"DejaVuSans-4c\" d=\"M 628 4666 \nL 1259 4666 \nL 1259 531 \nL 3531 531 \nL 3531 0 \nL 628 0 \nL 628 4666 \nz\n\" transform=\"scale(0.015625)\"/>\n      <path id=\"DejaVuSans-69\" d=\"M 603 3500 \nL 1178 3500 \nL 1178 0 \nL 603 0 \nL 603 3500 \nz\nM 603 4863 \nL 1178 4863 \nL 1178 4134 \nL 603 4134 \nL 603 4863 \nz\n\" transform=\"scale(0.015625)\"/>\n      <path id=\"DejaVuSans-6e\" d=\"M 3513 2113 \nL 3513 0 \nL 2938 0 \nL 2938 2094 \nQ 2938 2591 2744 2837 \nQ 2550 3084 2163 3084 \nQ 1697 3084 1428 2787 \nQ 1159 2491 1159 1978 \nL 1159 0 \nL 581 0 \nL 581 3500 \nL 1159 3500 \nL 1159 2956 \nQ 1366 3272 1645 3428 \nQ 1925 3584 2291 3584 \nQ 2894 3584 3203 3211 \nQ 3513 2838 3513 2113 \nz\n\" transform=\"scale(0.015625)\"/>\n      <path id=\"DejaVuSans-65\" d=\"M 3597 1894 \nL 3597 1613 \nL 953 1613 \nQ 991 1019 1311 708 \nQ 1631 397 2203 397 \nQ 2534 397 2845 478 \nQ 3156 559 3463 722 \nL 3463 178 \nQ 3153 47 2828 -22 \nQ 2503 -91 2169 -91 \nQ 1331 -91 842 396 \nQ 353 884 353 1716 \nQ 353 2575 817 3079 \nQ 1281 3584 2069 3584 \nQ 2775 3584 3186 3129 \nQ 3597 2675 3597 1894 \nz\nM 3022 2063 \nQ 3016 2534 2758 2815 \nQ 2500 3097 2075 3097 \nQ 1594 3097 1305 2825 \nQ 1016 2553 972 2059 \nL 3022 2063 \nz\n\" transform=\"scale(0.015625)\"/>\n      <path id=\"DejaVuSans-20\" transform=\"scale(0.015625)\"/>\n      <path id=\"DejaVuSans-50\" d=\"M 1259 4147 \nL 1259 2394 \nL 2053 2394 \nQ 2494 2394 2734 2622 \nQ 2975 2850 2975 3272 \nQ 2975 3691 2734 3919 \nQ 2494 4147 2053 4147 \nL 1259 4147 \nz\nM 628 4666 \nL 2053 4666 \nQ 2838 4666 3239 4311 \nQ 3641 3956 3641 3272 \nQ 3641 2581 3239 2228 \nQ 2838 1875 2053 1875 \nL 1259 1875 \nL 1259 0 \nL 628 0 \nL 628 4666 \nz\n\" transform=\"scale(0.015625)\"/>\n      <path id=\"DejaVuSans-6c\" d=\"M 603 4863 \nL 1178 4863 \nL 1178 0 \nL 603 0 \nL 603 4863 \nz\n\" transform=\"scale(0.015625)\"/>\n      <path id=\"DejaVuSans-6f\" d=\"M 1959 3097 \nQ 1497 3097 1228 2736 \nQ 959 2375 959 1747 \nQ 959 1119 1226 758 \nQ 1494 397 1959 397 \nQ 2419 397 2687 759 \nQ 2956 1122 2956 1747 \nQ 2956 2369 2687 2733 \nQ 2419 3097 1959 3097 \nz\nM 1959 3584 \nQ 2709 3584 3137 3096 \nQ 3566 2609 3566 1747 \nQ 3566 888 3137 398 \nQ 2709 -91 1959 -91 \nQ 1206 -91 779 398 \nQ 353 888 353 1747 \nQ 353 2609 779 3096 \nQ 1206 3584 1959 3584 \nz\n\" transform=\"scale(0.015625)\"/>\n      <path id=\"DejaVuSans-74\" d=\"M 1172 4494 \nL 1172 3500 \nL 2356 3500 \nL 2356 3053 \nL 1172 3053 \nL 1172 1153 \nQ 1172 725 1289 603 \nQ 1406 481 1766 481 \nL 2356 481 \nL 2356 0 \nL 1766 0 \nQ 1100 0 847 248 \nQ 594 497 594 1153 \nL 594 3053 \nL 172 3053 \nL 172 3500 \nL 594 3500 \nL 594 4494 \nL 1172 4494 \nz\n\" transform=\"scale(0.015625)\"/>\n      <path id=\"DejaVuSans-66\" d=\"M 2375 4863 \nL 2375 4384 \nL 1825 4384 \nQ 1516 4384 1395 4259 \nQ 1275 4134 1275 3809 \nL 1275 3500 \nL 2222 3500 \nL 2222 3053 \nL 1275 3053 \nL 1275 0 \nL 697 0 \nL 697 3053 \nL 147 3053 \nL 147 3500 \nL 697 3500 \nL 697 3744 \nQ 697 4328 969 4595 \nQ 1241 4863 1831 4863 \nL 2375 4863 \nz\n\" transform=\"scale(0.015625)\"/>\n      <path id=\"DejaVuSans-76\" d=\"M 191 3500 \nL 800 3500 \nL 1894 563 \nL 2988 3500 \nL 3597 3500 \nL 2284 0 \nL 1503 0 \nL 191 3500 \nz\n\" transform=\"scale(0.015625)\"/>\n      <path id=\"DejaVuSans-73\" d=\"M 2834 3397 \nL 2834 2853 \nQ 2591 2978 2328 3040 \nQ 2066 3103 1784 3103 \nQ 1356 3103 1142 2972 \nQ 928 2841 928 2578 \nQ 928 2378 1081 2264 \nQ 1234 2150 1697 2047 \nL 1894 2003 \nQ 2506 1872 2764 1633 \nQ 3022 1394 3022 966 \nQ 3022 478 2636 193 \nQ 2250 -91 1575 -91 \nQ 1294 -91 989 -36 \nQ 684 19 347 128 \nL 347 722 \nQ 666 556 975 473 \nQ 1284 391 1588 391 \nQ 1994 391 2212 530 \nQ 2431 669 2431 922 \nQ 2431 1156 2273 1281 \nQ 2116 1406 1581 1522 \nL 1381 1569 \nQ 847 1681 609 1914 \nQ 372 2147 372 2553 \nQ 372 3047 722 3315 \nQ 1072 3584 1716 3584 \nQ 2034 3584 2315 3537 \nQ 2597 3491 2834 3397 \nz\n\" transform=\"scale(0.015625)\"/>\n     </defs>\n     <use xlink:href=\"#DejaVuSans-4c\"/>\n     <use xlink:href=\"#DejaVuSans-69\" x=\"55.712891\"/>\n     <use xlink:href=\"#DejaVuSans-6e\" x=\"83.496094\"/>\n     <use xlink:href=\"#DejaVuSans-65\" x=\"146.875\"/>\n     <use xlink:href=\"#DejaVuSans-20\" x=\"208.398438\"/>\n     <use xlink:href=\"#DejaVuSans-50\" x=\"240.185547\"/>\n     <use xlink:href=\"#DejaVuSans-6c\" x=\"300.488281\"/>\n     <use xlink:href=\"#DejaVuSans-6f\" x=\"328.271484\"/>\n     <use xlink:href=\"#DejaVuSans-74\" x=\"389.453125\"/>\n     <use xlink:href=\"#DejaVuSans-20\" x=\"428.662109\"/>\n     <use xlink:href=\"#DejaVuSans-6f\" x=\"460.449219\"/>\n     <use xlink:href=\"#DejaVuSans-66\" x=\"521.630859\"/>\n     <use xlink:href=\"#DejaVuSans-20\" x=\"556.835938\"/>\n     <use xlink:href=\"#DejaVuSans-79\" x=\"588.623047\"/>\n     <use xlink:href=\"#DejaVuSans-20\" x=\"647.802734\"/>\n     <use xlink:href=\"#DejaVuSans-76\" x=\"679.589844\"/>\n     <use xlink:href=\"#DejaVuSans-73\" x=\"738.769531\"/>\n     <use xlink:href=\"#DejaVuSans-20\" x=\"790.869141\"/>\n     <use xlink:href=\"#DejaVuSans-78\" x=\"822.65625\"/>\n    </g>\n   </g>\n  </g>\n </g>\n <defs>\n  <clipPath id=\"p9ab464ff84\">\n   <rect x=\"53.223625\" y=\"28.51845\" width=\"400.896\" height=\"279.936\"/>\n  </clipPath>\n </defs>\n</svg>\n"
          },
          "metadata": {}
        },
        {
          "output_type": "display_data",
          "data": {
            "text/plain": [
              "<Figure size 640x480 with 1 Axes>"
            ],
            "image/svg+xml": "<?xml version=\"1.0\" encoding=\"utf-8\" standalone=\"no\"?>\n<!DOCTYPE svg PUBLIC \"-//W3C//DTD SVG 1.1//EN\"\n  \"http://www.w3.org/Graphics/SVG/1.1/DTD/svg11.dtd\">\n<svg xmlns:xlink=\"http://www.w3.org/1999/xlink\" width=\"461.319625pt\" height=\"352.963075pt\" viewBox=\"0 0 461.319625 352.963075\" xmlns=\"http://www.w3.org/2000/svg\" version=\"1.1\">\n <metadata>\n  <rdf:RDF xmlns:dc=\"http://purl.org/dc/elements/1.1/\" xmlns:cc=\"http://creativecommons.org/ns#\" xmlns:rdf=\"http://www.w3.org/1999/02/22-rdf-syntax-ns#\">\n   <cc:Work>\n    <dc:type rdf:resource=\"http://purl.org/dc/dcmitype/StillImage\"/>\n    <dc:date>2024-07-21T12:19:31.959680</dc:date>\n    <dc:format>image/svg+xml</dc:format>\n    <dc:creator>\n     <cc:Agent>\n      <dc:title>Matplotlib v3.7.1, https://matplotlib.org/</dc:title>\n     </cc:Agent>\n    </dc:creator>\n   </cc:Work>\n  </rdf:RDF>\n </metadata>\n <defs>\n  <style type=\"text/css\">*{stroke-linejoin: round; stroke-linecap: butt}</style>\n </defs>\n <g id=\"figure_1\">\n  <g id=\"patch_1\">\n   <path d=\"M 0 352.963075 \nL 461.319625 352.963075 \nL 461.319625 0 \nL 0 0 \nz\n\" style=\"fill: #f0f0f0\"/>\n  </g>\n  <g id=\"axes_1\">\n   <g id=\"patch_2\">\n    <path d=\"M 53.223625 308.45445 \nL 454.119625 308.45445 \nL 454.119625 28.51845 \nL 53.223625 28.51845 \nz\n\" style=\"fill: #f0f0f0\"/>\n   </g>\n   <g id=\"matplotlib.axis_1\">\n    <g id=\"xtick_1\">\n     <g id=\"line2d_1\">\n      <path d=\"M 71.44617 308.45445 \nL 71.44617 28.51845 \n\" clip-path=\"url(#p279ded594a)\" style=\"fill: none; stroke: #cbcbcb\"/>\n     </g>\n     <g id=\"line2d_2\"/>\n     <g id=\"text_1\">\n      <!-- 1 -->\n      <g transform=\"translate(66.99242 322.592262) scale(0.14 -0.14)\">\n       <defs>\n        <path id=\"DejaVuSans-31\" d=\"M 794 531 \nL 1825 531 \nL 1825 4091 \nL 703 3866 \nL 703 4441 \nL 1819 4666 \nL 2450 4666 \nL 2450 531 \nL 3481 531 \nL 3481 0 \nL 794 0 \nL 794 531 \nz\n\" transform=\"scale(0.015625)\"/>\n       </defs>\n       <use xlink:href=\"#DejaVuSans-31\"/>\n      </g>\n     </g>\n    </g>\n    <g id=\"xtick_2\">\n     <g id=\"line2d_3\">\n      <path d=\"M 132.187989 308.45445 \nL 132.187989 28.51845 \n\" clip-path=\"url(#p279ded594a)\" style=\"fill: none; stroke: #cbcbcb\"/>\n     </g>\n     <g id=\"line2d_4\"/>\n     <g id=\"text_2\">\n      <!-- 2 -->\n      <g transform=\"translate(127.734239 322.592262) scale(0.14 -0.14)\">\n       <defs>\n        <path id=\"DejaVuSans-32\" d=\"M 1228 531 \nL 3431 531 \nL 3431 0 \nL 469 0 \nL 469 531 \nQ 828 903 1448 1529 \nQ 2069 2156 2228 2338 \nQ 2531 2678 2651 2914 \nQ 2772 3150 2772 3378 \nQ 2772 3750 2511 3984 \nQ 2250 4219 1831 4219 \nQ 1534 4219 1204 4116 \nQ 875 4013 500 3803 \nL 500 4441 \nQ 881 4594 1212 4672 \nQ 1544 4750 1819 4750 \nQ 2544 4750 2975 4387 \nQ 3406 4025 3406 3419 \nQ 3406 3131 3298 2873 \nQ 3191 2616 2906 2266 \nQ 2828 2175 2409 1742 \nQ 1991 1309 1228 531 \nz\n\" transform=\"scale(0.015625)\"/>\n       </defs>\n       <use xlink:href=\"#DejaVuSans-32\"/>\n      </g>\n     </g>\n    </g>\n    <g id=\"xtick_3\">\n     <g id=\"line2d_5\">\n      <path d=\"M 192.929807 308.45445 \nL 192.929807 28.51845 \n\" clip-path=\"url(#p279ded594a)\" style=\"fill: none; stroke: #cbcbcb\"/>\n     </g>\n     <g id=\"line2d_6\"/>\n     <g id=\"text_3\">\n      <!-- 3 -->\n      <g transform=\"translate(188.476057 322.592262) scale(0.14 -0.14)\">\n       <defs>\n        <path id=\"DejaVuSans-33\" d=\"M 2597 2516 \nQ 3050 2419 3304 2112 \nQ 3559 1806 3559 1356 \nQ 3559 666 3084 287 \nQ 2609 -91 1734 -91 \nQ 1441 -91 1130 -33 \nQ 819 25 488 141 \nL 488 750 \nQ 750 597 1062 519 \nQ 1375 441 1716 441 \nQ 2309 441 2620 675 \nQ 2931 909 2931 1356 \nQ 2931 1769 2642 2001 \nQ 2353 2234 1838 2234 \nL 1294 2234 \nL 1294 2753 \nL 1863 2753 \nQ 2328 2753 2575 2939 \nQ 2822 3125 2822 3475 \nQ 2822 3834 2567 4026 \nQ 2313 4219 1838 4219 \nQ 1578 4219 1281 4162 \nQ 984 4106 628 3988 \nL 628 4550 \nQ 988 4650 1302 4700 \nQ 1616 4750 1894 4750 \nQ 2613 4750 3031 4423 \nQ 3450 4097 3450 3541 \nQ 3450 3153 3228 2886 \nQ 3006 2619 2597 2516 \nz\n\" transform=\"scale(0.015625)\"/>\n       </defs>\n       <use xlink:href=\"#DejaVuSans-33\"/>\n      </g>\n     </g>\n    </g>\n    <g id=\"xtick_4\">\n     <g id=\"line2d_7\">\n      <path d=\"M 253.671625 308.45445 \nL 253.671625 28.51845 \n\" clip-path=\"url(#p279ded594a)\" style=\"fill: none; stroke: #cbcbcb\"/>\n     </g>\n     <g id=\"line2d_8\"/>\n     <g id=\"text_4\">\n      <!-- 4 -->\n      <g transform=\"translate(249.217875 322.592262) scale(0.14 -0.14)\">\n       <defs>\n        <path id=\"DejaVuSans-34\" d=\"M 2419 4116 \nL 825 1625 \nL 2419 1625 \nL 2419 4116 \nz\nM 2253 4666 \nL 3047 4666 \nL 3047 1625 \nL 3713 1625 \nL 3713 1100 \nL 3047 1100 \nL 3047 0 \nL 2419 0 \nL 2419 1100 \nL 313 1100 \nL 313 1709 \nL 2253 4666 \nz\n\" transform=\"scale(0.015625)\"/>\n       </defs>\n       <use xlink:href=\"#DejaVuSans-34\"/>\n      </g>\n     </g>\n    </g>\n    <g id=\"xtick_5\">\n     <g id=\"line2d_9\">\n      <path d=\"M 314.413443 308.45445 \nL 314.413443 28.51845 \n\" clip-path=\"url(#p279ded594a)\" style=\"fill: none; stroke: #cbcbcb\"/>\n     </g>\n     <g id=\"line2d_10\"/>\n     <g id=\"text_5\">\n      <!-- 5 -->\n      <g transform=\"translate(309.959693 322.592262) scale(0.14 -0.14)\">\n       <defs>\n        <path id=\"DejaVuSans-35\" d=\"M 691 4666 \nL 3169 4666 \nL 3169 4134 \nL 1269 4134 \nL 1269 2991 \nQ 1406 3038 1543 3061 \nQ 1681 3084 1819 3084 \nQ 2600 3084 3056 2656 \nQ 3513 2228 3513 1497 \nQ 3513 744 3044 326 \nQ 2575 -91 1722 -91 \nQ 1428 -91 1123 -41 \nQ 819 9 494 109 \nL 494 744 \nQ 775 591 1075 516 \nQ 1375 441 1709 441 \nQ 2250 441 2565 725 \nQ 2881 1009 2881 1497 \nQ 2881 1984 2565 2268 \nQ 2250 2553 1709 2553 \nQ 1456 2553 1204 2497 \nQ 953 2441 691 2322 \nL 691 4666 \nz\n\" transform=\"scale(0.015625)\"/>\n       </defs>\n       <use xlink:href=\"#DejaVuSans-35\"/>\n      </g>\n     </g>\n    </g>\n    <g id=\"xtick_6\">\n     <g id=\"line2d_11\">\n      <path d=\"M 375.155261 308.45445 \nL 375.155261 28.51845 \n\" clip-path=\"url(#p279ded594a)\" style=\"fill: none; stroke: #cbcbcb\"/>\n     </g>\n     <g id=\"line2d_12\"/>\n     <g id=\"text_6\">\n      <!-- 6 -->\n      <g transform=\"translate(370.701511 322.592262) scale(0.14 -0.14)\">\n       <defs>\n        <path id=\"DejaVuSans-36\" d=\"M 2113 2584 \nQ 1688 2584 1439 2293 \nQ 1191 2003 1191 1497 \nQ 1191 994 1439 701 \nQ 1688 409 2113 409 \nQ 2538 409 2786 701 \nQ 3034 994 3034 1497 \nQ 3034 2003 2786 2293 \nQ 2538 2584 2113 2584 \nz\nM 3366 4563 \nL 3366 3988 \nQ 3128 4100 2886 4159 \nQ 2644 4219 2406 4219 \nQ 1781 4219 1451 3797 \nQ 1122 3375 1075 2522 \nQ 1259 2794 1537 2939 \nQ 1816 3084 2150 3084 \nQ 2853 3084 3261 2657 \nQ 3669 2231 3669 1497 \nQ 3669 778 3244 343 \nQ 2819 -91 2113 -91 \nQ 1303 -91 875 529 \nQ 447 1150 447 2328 \nQ 447 3434 972 4092 \nQ 1497 4750 2381 4750 \nQ 2619 4750 2861 4703 \nQ 3103 4656 3366 4563 \nz\n\" transform=\"scale(0.015625)\"/>\n       </defs>\n       <use xlink:href=\"#DejaVuSans-36\"/>\n      </g>\n     </g>\n    </g>\n    <g id=\"xtick_7\">\n     <g id=\"line2d_13\">\n      <path d=\"M 435.89708 308.45445 \nL 435.89708 28.51845 \n\" clip-path=\"url(#p279ded594a)\" style=\"fill: none; stroke: #cbcbcb\"/>\n     </g>\n     <g id=\"line2d_14\"/>\n     <g id=\"text_7\">\n      <!-- 7 -->\n      <g transform=\"translate(431.44333 322.592262) scale(0.14 -0.14)\">\n       <defs>\n        <path id=\"DejaVuSans-37\" d=\"M 525 4666 \nL 3525 4666 \nL 3525 4397 \nL 1831 0 \nL 1172 0 \nL 2766 4134 \nL 525 4134 \nL 525 4666 \nz\n\" transform=\"scale(0.015625)\"/>\n       </defs>\n       <use xlink:href=\"#DejaVuSans-37\"/>\n      </g>\n     </g>\n    </g>\n    <g id=\"text_8\">\n     <!-- x -->\n     <g transform=\"translate(248.699875 342.2692) scale(0.168 -0.168)\">\n      <defs>\n       <path id=\"DejaVuSans-78\" d=\"M 3513 3500 \nL 2247 1797 \nL 3578 0 \nL 2900 0 \nL 1881 1375 \nL 863 0 \nL 184 0 \nL 1544 1831 \nL 300 3500 \nL 978 3500 \nL 1906 2253 \nL 2834 3500 \nL 3513 3500 \nz\n\" transform=\"scale(0.015625)\"/>\n      </defs>\n      <use xlink:href=\"#DejaVuSans-78\"/>\n     </g>\n    </g>\n   </g>\n   <g id=\"matplotlib.axis_2\">\n    <g id=\"ytick_1\">\n     <g id=\"line2d_15\">\n      <path d=\"M 53.223625 295.730086 \nL 454.119625 295.730086 \n\" clip-path=\"url(#p279ded594a)\" style=\"fill: none; stroke: #cbcbcb\"/>\n     </g>\n     <g id=\"line2d_16\"/>\n     <g id=\"text_9\">\n      <!-- 3.5 -->\n      <g transform=\"translate(27.45925 301.048993) scale(0.14 -0.14)\">\n       <defs>\n        <path id=\"DejaVuSans-2e\" d=\"M 684 794 \nL 1344 794 \nL 1344 0 \nL 684 0 \nL 684 794 \nz\n\" transform=\"scale(0.015625)\"/>\n       </defs>\n       <use xlink:href=\"#DejaVuSans-33\"/>\n       <use xlink:href=\"#DejaVuSans-2e\" x=\"63.623047\"/>\n       <use xlink:href=\"#DejaVuSans-35\" x=\"95.410156\"/>\n      </g>\n     </g>\n    </g>\n    <g id=\"ytick_2\">\n     <g id=\"line2d_17\">\n      <path d=\"M 53.223625 259.374762 \nL 454.119625 259.374762 \n\" clip-path=\"url(#p279ded594a)\" style=\"fill: none; stroke: #cbcbcb\"/>\n     </g>\n     <g id=\"line2d_18\"/>\n     <g id=\"text_10\">\n      <!-- 4.0 -->\n      <g transform=\"translate(27.45925 264.693668) scale(0.14 -0.14)\">\n       <defs>\n        <path id=\"DejaVuSans-30\" d=\"M 2034 4250 \nQ 1547 4250 1301 3770 \nQ 1056 3291 1056 2328 \nQ 1056 1369 1301 889 \nQ 1547 409 2034 409 \nQ 2525 409 2770 889 \nQ 3016 1369 3016 2328 \nQ 3016 3291 2770 3770 \nQ 2525 4250 2034 4250 \nz\nM 2034 4750 \nQ 2819 4750 3233 4129 \nQ 3647 3509 3647 2328 \nQ 3647 1150 3233 529 \nQ 2819 -91 2034 -91 \nQ 1250 -91 836 529 \nQ 422 1150 422 2328 \nQ 422 3509 836 4129 \nQ 1250 4750 2034 4750 \nz\n\" transform=\"scale(0.015625)\"/>\n       </defs>\n       <use xlink:href=\"#DejaVuSans-34\"/>\n       <use xlink:href=\"#DejaVuSans-2e\" x=\"63.623047\"/>\n       <use xlink:href=\"#DejaVuSans-30\" x=\"95.410156\"/>\n      </g>\n     </g>\n    </g>\n    <g id=\"ytick_3\">\n     <g id=\"line2d_19\">\n      <path d=\"M 53.223625 223.019437 \nL 454.119625 223.019437 \n\" clip-path=\"url(#p279ded594a)\" style=\"fill: none; stroke: #cbcbcb\"/>\n     </g>\n     <g id=\"line2d_20\"/>\n     <g id=\"text_11\">\n      <!-- 4.5 -->\n      <g transform=\"translate(27.45925 228.338343) scale(0.14 -0.14)\">\n       <use xlink:href=\"#DejaVuSans-34\"/>\n       <use xlink:href=\"#DejaVuSans-2e\" x=\"63.623047\"/>\n       <use xlink:href=\"#DejaVuSans-35\" x=\"95.410156\"/>\n      </g>\n     </g>\n    </g>\n    <g id=\"ytick_4\">\n     <g id=\"line2d_21\">\n      <path d=\"M 53.223625 186.664112 \nL 454.119625 186.664112 \n\" clip-path=\"url(#p279ded594a)\" style=\"fill: none; stroke: #cbcbcb\"/>\n     </g>\n     <g id=\"line2d_22\"/>\n     <g id=\"text_12\">\n      <!-- 5.0 -->\n      <g transform=\"translate(27.45925 191.983019) scale(0.14 -0.14)\">\n       <use xlink:href=\"#DejaVuSans-35\"/>\n       <use xlink:href=\"#DejaVuSans-2e\" x=\"63.623047\"/>\n       <use xlink:href=\"#DejaVuSans-30\" x=\"95.410156\"/>\n      </g>\n     </g>\n    </g>\n    <g id=\"ytick_5\">\n     <g id=\"line2d_23\">\n      <path d=\"M 53.223625 150.308788 \nL 454.119625 150.308788 \n\" clip-path=\"url(#p279ded594a)\" style=\"fill: none; stroke: #cbcbcb\"/>\n     </g>\n     <g id=\"line2d_24\"/>\n     <g id=\"text_13\">\n      <!-- 5.5 -->\n      <g transform=\"translate(27.45925 155.627694) scale(0.14 -0.14)\">\n       <use xlink:href=\"#DejaVuSans-35\"/>\n       <use xlink:href=\"#DejaVuSans-2e\" x=\"63.623047\"/>\n       <use xlink:href=\"#DejaVuSans-35\" x=\"95.410156\"/>\n      </g>\n     </g>\n    </g>\n    <g id=\"ytick_6\">\n     <g id=\"line2d_25\">\n      <path d=\"M 53.223625 113.953463 \nL 454.119625 113.953463 \n\" clip-path=\"url(#p279ded594a)\" style=\"fill: none; stroke: #cbcbcb\"/>\n     </g>\n     <g id=\"line2d_26\"/>\n     <g id=\"text_14\">\n      <!-- 6.0 -->\n      <g transform=\"translate(27.45925 119.272369) scale(0.14 -0.14)\">\n       <use xlink:href=\"#DejaVuSans-36\"/>\n       <use xlink:href=\"#DejaVuSans-2e\" x=\"63.623047\"/>\n       <use xlink:href=\"#DejaVuSans-30\" x=\"95.410156\"/>\n      </g>\n     </g>\n    </g>\n    <g id=\"ytick_7\">\n     <g id=\"line2d_27\">\n      <path d=\"M 53.223625 77.598138 \nL 454.119625 77.598138 \n\" clip-path=\"url(#p279ded594a)\" style=\"fill: none; stroke: #cbcbcb\"/>\n     </g>\n     <g id=\"line2d_28\"/>\n     <g id=\"text_15\">\n      <!-- 6.5 -->\n      <g transform=\"translate(27.45925 82.917045) scale(0.14 -0.14)\">\n       <use xlink:href=\"#DejaVuSans-36\"/>\n       <use xlink:href=\"#DejaVuSans-2e\" x=\"63.623047\"/>\n       <use xlink:href=\"#DejaVuSans-35\" x=\"95.410156\"/>\n      </g>\n     </g>\n    </g>\n    <g id=\"ytick_8\">\n     <g id=\"line2d_29\">\n      <path d=\"M 53.223625 41.242814 \nL 454.119625 41.242814 \n\" clip-path=\"url(#p279ded594a)\" style=\"fill: none; stroke: #cbcbcb\"/>\n     </g>\n     <g id=\"line2d_30\"/>\n     <g id=\"text_16\">\n      <!-- 7.0 -->\n      <g transform=\"translate(27.45925 46.56172) scale(0.14 -0.14)\">\n       <use xlink:href=\"#DejaVuSans-37\"/>\n       <use xlink:href=\"#DejaVuSans-2e\" x=\"63.623047\"/>\n       <use xlink:href=\"#DejaVuSans-30\" x=\"95.410156\"/>\n      </g>\n     </g>\n    </g>\n    <g id=\"text_17\">\n     <!-- y -->\n     <g transform=\"translate(19.965375 173.4582) rotate(-90) scale(0.168 -0.168)\">\n      <defs>\n       <path id=\"DejaVuSans-79\" d=\"M 2059 -325 \nQ 1816 -950 1584 -1140 \nQ 1353 -1331 966 -1331 \nL 506 -1331 \nL 506 -850 \nL 844 -850 \nQ 1081 -850 1212 -737 \nQ 1344 -625 1503 -206 \nL 1606 56 \nL 191 3500 \nL 800 3500 \nL 1894 763 \nL 2988 3500 \nL 3597 3500 \nL 2059 -325 \nz\n\" transform=\"scale(0.015625)\"/>\n      </defs>\n      <use xlink:href=\"#DejaVuSans-79\"/>\n     </g>\n    </g>\n   </g>\n   <g id=\"PathCollection_1\">\n    <defs>\n     <path id=\"mf03f997101\" d=\"M 0 3 \nC 0.795609 3 1.55874 2.683901 2.12132 2.12132 \nC 2.683901 1.55874 3 0.795609 3 0 \nC 3 -0.795609 2.683901 -1.55874 2.12132 -2.12132 \nC 1.55874 -2.683901 0.795609 -3 0 -3 \nC -0.795609 -3 -1.55874 -2.683901 -2.12132 -2.12132 \nC -2.683901 -1.55874 -3 -0.795609 -3 0 \nC -3 0.795609 -2.683901 1.55874 -2.12132 2.12132 \nC -1.55874 2.683901 -0.795609 3 0 3 \nz\n\" style=\"stroke: #008fd5; stroke-width: 0.5\"/>\n    </defs>\n    <g clip-path=\"url(#p279ded594a)\">\n     <use xlink:href=\"#mf03f997101\" x=\"71.44617\" y=\"295.730086\" style=\"fill: #008fd5; stroke: #008fd5; stroke-width: 0.5\"/>\n     <use xlink:href=\"#mf03f997101\" x=\"132.187989\" y=\"273.916892\" style=\"fill: #008fd5; stroke: #008fd5; stroke-width: 0.5\"/>\n     <use xlink:href=\"#mf03f997101\" x=\"192.929807\" y=\"244.832632\" style=\"fill: #008fd5; stroke: #008fd5; stroke-width: 0.5\"/>\n     <use xlink:href=\"#mf03f997101\" x=\"253.671625\" y=\"223.019437\" style=\"fill: #008fd5; stroke: #008fd5; stroke-width: 0.5\"/>\n     <use xlink:href=\"#mf03f997101\" x=\"314.413443\" y=\"186.664112\" style=\"fill: #008fd5; stroke: #008fd5; stroke-width: 0.5\"/>\n     <use xlink:href=\"#mf03f997101\" x=\"375.155261\" y=\"150.308788\" style=\"fill: #008fd5; stroke: #008fd5; stroke-width: 0.5\"/>\n     <use xlink:href=\"#mf03f997101\" x=\"435.89708\" y=\"41.242814\" style=\"fill: #008fd5; stroke: #008fd5; stroke-width: 0.5\"/>\n    </g>\n   </g>\n   <g id=\"patch_3\">\n    <path d=\"M 53.223625 308.45445 \nL 53.223625 28.51845 \n\" style=\"fill: none; stroke: #f0f0f0; stroke-width: 3; stroke-linejoin: miter; stroke-linecap: square\"/>\n   </g>\n   <g id=\"patch_4\">\n    <path d=\"M 454.119625 308.45445 \nL 454.119625 28.51845 \n\" style=\"fill: none; stroke: #f0f0f0; stroke-width: 3; stroke-linejoin: miter; stroke-linecap: square\"/>\n   </g>\n   <g id=\"patch_5\">\n    <path d=\"M 53.223625 308.45445 \nL 454.119625 308.45445 \n\" style=\"fill: none; stroke: #f0f0f0; stroke-width: 3; stroke-linejoin: miter; stroke-linecap: square\"/>\n   </g>\n   <g id=\"patch_6\">\n    <path d=\"M 53.223625 28.51845 \nL 454.119625 28.51845 \n\" style=\"fill: none; stroke: #f0f0f0; stroke-width: 3; stroke-linejoin: miter; stroke-linecap: square\"/>\n   </g>\n   <g id=\"text_18\">\n    <!-- Scatter Plot of y vs x -->\n    <g transform=\"translate(149.422375 22.51845) scale(0.2016 -0.2016)\">\n     <defs>\n      <path id=\"DejaVuSans-53\" d=\"M 3425 4513 \nL 3425 3897 \nQ 3066 4069 2747 4153 \nQ 2428 4238 2131 4238 \nQ 1616 4238 1336 4038 \nQ 1056 3838 1056 3469 \nQ 1056 3159 1242 3001 \nQ 1428 2844 1947 2747 \nL 2328 2669 \nQ 3034 2534 3370 2195 \nQ 3706 1856 3706 1288 \nQ 3706 609 3251 259 \nQ 2797 -91 1919 -91 \nQ 1588 -91 1214 -16 \nQ 841 59 441 206 \nL 441 856 \nQ 825 641 1194 531 \nQ 1563 422 1919 422 \nQ 2459 422 2753 634 \nQ 3047 847 3047 1241 \nQ 3047 1584 2836 1778 \nQ 2625 1972 2144 2069 \nL 1759 2144 \nQ 1053 2284 737 2584 \nQ 422 2884 422 3419 \nQ 422 4038 858 4394 \nQ 1294 4750 2059 4750 \nQ 2388 4750 2728 4690 \nQ 3069 4631 3425 4513 \nz\n\" transform=\"scale(0.015625)\"/>\n      <path id=\"DejaVuSans-63\" d=\"M 3122 3366 \nL 3122 2828 \nQ 2878 2963 2633 3030 \nQ 2388 3097 2138 3097 \nQ 1578 3097 1268 2742 \nQ 959 2388 959 1747 \nQ 959 1106 1268 751 \nQ 1578 397 2138 397 \nQ 2388 397 2633 464 \nQ 2878 531 3122 666 \nL 3122 134 \nQ 2881 22 2623 -34 \nQ 2366 -91 2075 -91 \nQ 1284 -91 818 406 \nQ 353 903 353 1747 \nQ 353 2603 823 3093 \nQ 1294 3584 2113 3584 \nQ 2378 3584 2631 3529 \nQ 2884 3475 3122 3366 \nz\n\" transform=\"scale(0.015625)\"/>\n      <path id=\"DejaVuSans-61\" d=\"M 2194 1759 \nQ 1497 1759 1228 1600 \nQ 959 1441 959 1056 \nQ 959 750 1161 570 \nQ 1363 391 1709 391 \nQ 2188 391 2477 730 \nQ 2766 1069 2766 1631 \nL 2766 1759 \nL 2194 1759 \nz\nM 3341 1997 \nL 3341 0 \nL 2766 0 \nL 2766 531 \nQ 2569 213 2275 61 \nQ 1981 -91 1556 -91 \nQ 1019 -91 701 211 \nQ 384 513 384 1019 \nQ 384 1609 779 1909 \nQ 1175 2209 1959 2209 \nL 2766 2209 \nL 2766 2266 \nQ 2766 2663 2505 2880 \nQ 2244 3097 1772 3097 \nQ 1472 3097 1187 3025 \nQ 903 2953 641 2809 \nL 641 3341 \nQ 956 3463 1253 3523 \nQ 1550 3584 1831 3584 \nQ 2591 3584 2966 3190 \nQ 3341 2797 3341 1997 \nz\n\" transform=\"scale(0.015625)\"/>\n      <path id=\"DejaVuSans-74\" d=\"M 1172 4494 \nL 1172 3500 \nL 2356 3500 \nL 2356 3053 \nL 1172 3053 \nL 1172 1153 \nQ 1172 725 1289 603 \nQ 1406 481 1766 481 \nL 2356 481 \nL 2356 0 \nL 1766 0 \nQ 1100 0 847 248 \nQ 594 497 594 1153 \nL 594 3053 \nL 172 3053 \nL 172 3500 \nL 594 3500 \nL 594 4494 \nL 1172 4494 \nz\n\" transform=\"scale(0.015625)\"/>\n      <path id=\"DejaVuSans-65\" d=\"M 3597 1894 \nL 3597 1613 \nL 953 1613 \nQ 991 1019 1311 708 \nQ 1631 397 2203 397 \nQ 2534 397 2845 478 \nQ 3156 559 3463 722 \nL 3463 178 \nQ 3153 47 2828 -22 \nQ 2503 -91 2169 -91 \nQ 1331 -91 842 396 \nQ 353 884 353 1716 \nQ 353 2575 817 3079 \nQ 1281 3584 2069 3584 \nQ 2775 3584 3186 3129 \nQ 3597 2675 3597 1894 \nz\nM 3022 2063 \nQ 3016 2534 2758 2815 \nQ 2500 3097 2075 3097 \nQ 1594 3097 1305 2825 \nQ 1016 2553 972 2059 \nL 3022 2063 \nz\n\" transform=\"scale(0.015625)\"/>\n      <path id=\"DejaVuSans-72\" d=\"M 2631 2963 \nQ 2534 3019 2420 3045 \nQ 2306 3072 2169 3072 \nQ 1681 3072 1420 2755 \nQ 1159 2438 1159 1844 \nL 1159 0 \nL 581 0 \nL 581 3500 \nL 1159 3500 \nL 1159 2956 \nQ 1341 3275 1631 3429 \nQ 1922 3584 2338 3584 \nQ 2397 3584 2469 3576 \nQ 2541 3569 2628 3553 \nL 2631 2963 \nz\n\" transform=\"scale(0.015625)\"/>\n      <path id=\"DejaVuSans-20\" transform=\"scale(0.015625)\"/>\n      <path id=\"DejaVuSans-50\" d=\"M 1259 4147 \nL 1259 2394 \nL 2053 2394 \nQ 2494 2394 2734 2622 \nQ 2975 2850 2975 3272 \nQ 2975 3691 2734 3919 \nQ 2494 4147 2053 4147 \nL 1259 4147 \nz\nM 628 4666 \nL 2053 4666 \nQ 2838 4666 3239 4311 \nQ 3641 3956 3641 3272 \nQ 3641 2581 3239 2228 \nQ 2838 1875 2053 1875 \nL 1259 1875 \nL 1259 0 \nL 628 0 \nL 628 4666 \nz\n\" transform=\"scale(0.015625)\"/>\n      <path id=\"DejaVuSans-6c\" d=\"M 603 4863 \nL 1178 4863 \nL 1178 0 \nL 603 0 \nL 603 4863 \nz\n\" transform=\"scale(0.015625)\"/>\n      <path id=\"DejaVuSans-6f\" d=\"M 1959 3097 \nQ 1497 3097 1228 2736 \nQ 959 2375 959 1747 \nQ 959 1119 1226 758 \nQ 1494 397 1959 397 \nQ 2419 397 2687 759 \nQ 2956 1122 2956 1747 \nQ 2956 2369 2687 2733 \nQ 2419 3097 1959 3097 \nz\nM 1959 3584 \nQ 2709 3584 3137 3096 \nQ 3566 2609 3566 1747 \nQ 3566 888 3137 398 \nQ 2709 -91 1959 -91 \nQ 1206 -91 779 398 \nQ 353 888 353 1747 \nQ 353 2609 779 3096 \nQ 1206 3584 1959 3584 \nz\n\" transform=\"scale(0.015625)\"/>\n      <path id=\"DejaVuSans-66\" d=\"M 2375 4863 \nL 2375 4384 \nL 1825 4384 \nQ 1516 4384 1395 4259 \nQ 1275 4134 1275 3809 \nL 1275 3500 \nL 2222 3500 \nL 2222 3053 \nL 1275 3053 \nL 1275 0 \nL 697 0 \nL 697 3053 \nL 147 3053 \nL 147 3500 \nL 697 3500 \nL 697 3744 \nQ 697 4328 969 4595 \nQ 1241 4863 1831 4863 \nL 2375 4863 \nz\n\" transform=\"scale(0.015625)\"/>\n      <path id=\"DejaVuSans-76\" d=\"M 191 3500 \nL 800 3500 \nL 1894 563 \nL 2988 3500 \nL 3597 3500 \nL 2284 0 \nL 1503 0 \nL 191 3500 \nz\n\" transform=\"scale(0.015625)\"/>\n      <path id=\"DejaVuSans-73\" d=\"M 2834 3397 \nL 2834 2853 \nQ 2591 2978 2328 3040 \nQ 2066 3103 1784 3103 \nQ 1356 3103 1142 2972 \nQ 928 2841 928 2578 \nQ 928 2378 1081 2264 \nQ 1234 2150 1697 2047 \nL 1894 2003 \nQ 2506 1872 2764 1633 \nQ 3022 1394 3022 966 \nQ 3022 478 2636 193 \nQ 2250 -91 1575 -91 \nQ 1294 -91 989 -36 \nQ 684 19 347 128 \nL 347 722 \nQ 666 556 975 473 \nQ 1284 391 1588 391 \nQ 1994 391 2212 530 \nQ 2431 669 2431 922 \nQ 2431 1156 2273 1281 \nQ 2116 1406 1581 1522 \nL 1381 1569 \nQ 847 1681 609 1914 \nQ 372 2147 372 2553 \nQ 372 3047 722 3315 \nQ 1072 3584 1716 3584 \nQ 2034 3584 2315 3537 \nQ 2597 3491 2834 3397 \nz\n\" transform=\"scale(0.015625)\"/>\n     </defs>\n     <use xlink:href=\"#DejaVuSans-53\"/>\n     <use xlink:href=\"#DejaVuSans-63\" x=\"63.476562\"/>\n     <use xlink:href=\"#DejaVuSans-61\" x=\"118.457031\"/>\n     <use xlink:href=\"#DejaVuSans-74\" x=\"179.736328\"/>\n     <use xlink:href=\"#DejaVuSans-74\" x=\"218.945312\"/>\n     <use xlink:href=\"#DejaVuSans-65\" x=\"258.154297\"/>\n     <use xlink:href=\"#DejaVuSans-72\" x=\"319.677734\"/>\n     <use xlink:href=\"#DejaVuSans-20\" x=\"360.791016\"/>\n     <use xlink:href=\"#DejaVuSans-50\" x=\"392.578125\"/>\n     <use xlink:href=\"#DejaVuSans-6c\" x=\"452.880859\"/>\n     <use xlink:href=\"#DejaVuSans-6f\" x=\"480.664062\"/>\n     <use xlink:href=\"#DejaVuSans-74\" x=\"541.845703\"/>\n     <use xlink:href=\"#DejaVuSans-20\" x=\"581.054688\"/>\n     <use xlink:href=\"#DejaVuSans-6f\" x=\"612.841797\"/>\n     <use xlink:href=\"#DejaVuSans-66\" x=\"674.023438\"/>\n     <use xlink:href=\"#DejaVuSans-20\" x=\"709.228516\"/>\n     <use xlink:href=\"#DejaVuSans-79\" x=\"741.015625\"/>\n     <use xlink:href=\"#DejaVuSans-20\" x=\"800.195312\"/>\n     <use xlink:href=\"#DejaVuSans-76\" x=\"831.982422\"/>\n     <use xlink:href=\"#DejaVuSans-73\" x=\"891.162109\"/>\n     <use xlink:href=\"#DejaVuSans-20\" x=\"943.261719\"/>\n     <use xlink:href=\"#DejaVuSans-78\" x=\"975.048828\"/>\n    </g>\n   </g>\n  </g>\n </g>\n <defs>\n  <clipPath id=\"p279ded594a\">\n   <rect x=\"53.223625\" y=\"28.51845\" width=\"400.896\" height=\"279.936\"/>\n  </clipPath>\n </defs>\n</svg>\n"
          },
          "metadata": {}
        }
      ]
    },
    {
      "cell_type": "markdown",
      "source": [
        "## Задание 2\n",
        "С помощью функции linspace из библиотеки Numpy создайте массив t из 51 числа от 0 до 10 включительно.  \n",
        "\n",
        "Создайте массив Numpy под названием f, содержащий косинусы элементов массива t.  \n",
        "\n",
        "Постройте линейную диаграмму, используя массив t для координат по горизонтали,а массив f - для координат по вертикали. Линия графика должна быть зеленого цвета.  \n",
        "\n",
        "Выведите название диаграммы - 'График f(t)'. Также добавьте названия для горизонтальной оси - 'Значения t' и для вертикальной - 'Значения f'.  \n",
        "\n",
        "Ограничьте график по оси x значениями 0.5 и 9.5, а по оси y - значениями -2.5 и 2.5."
      ],
      "metadata": {
        "id": "Qgl670dW9U-q"
      }
    },
    {
      "cell_type": "code",
      "source": [
        "import numpy as np\n",
        "import matplotlib.pyplot as plt\n",
        "\n",
        "# Создаём массив t с помощью функции linspace\n",
        "t = np.linspace(0, 10, 51)\n",
        "\n",
        "# Создаём массив f, содержащий косинусы элементов массива t\n",
        "f = np.cos(t)\n",
        "\n",
        "# Строим линейную диаграмму с заданными условиями\n",
        "plt.plot(t, f, color='green')\n",
        "plt.title('График f(t)')\n",
        "plt.xlabel('Значения t')\n",
        "plt.ylabel('Значения f')\n",
        "plt.xlim(0.5, 9.5)\n",
        "plt.ylim(-2.5, 2.5)\n",
        "plt.show()\n"
      ],
      "metadata": {
        "colab": {
          "base_uri": "https://localhost:8080/",
          "height": 492
        },
        "id": "1kBG88QHPiBs",
        "outputId": "09bfab77-0439-4020-df5c-bc6055cfb8ce"
      },
      "execution_count": 5,
      "outputs": [
        {
          "output_type": "display_data",
          "data": {
            "text/plain": [
              "<Figure size 640x480 with 1 Axes>"
            ],
            "image/svg+xml": "<?xml version=\"1.0\" encoding=\"utf-8\" standalone=\"no\"?>\n<!DOCTYPE svg PUBLIC \"-//W3C//DTD SVG 1.1//EN\"\n  \"http://www.w3.org/Graphics/SVG/1.1/DTD/svg11.dtd\">\n<svg xmlns:xlink=\"http://www.w3.org/1999/xlink\" width=\"459.694312pt\" height=\"352.963075pt\" viewBox=\"0 0 459.694312 352.963075\" xmlns=\"http://www.w3.org/2000/svg\" version=\"1.1\">\n <metadata>\n  <rdf:RDF xmlns:dc=\"http://purl.org/dc/elements/1.1/\" xmlns:cc=\"http://creativecommons.org/ns#\" xmlns:rdf=\"http://www.w3.org/1999/02/22-rdf-syntax-ns#\">\n   <cc:Work>\n    <dc:type rdf:resource=\"http://purl.org/dc/dcmitype/StillImage\"/>\n    <dc:date>2024-07-21T12:22:43.858032</dc:date>\n    <dc:format>image/svg+xml</dc:format>\n    <dc:creator>\n     <cc:Agent>\n      <dc:title>Matplotlib v3.7.1, https://matplotlib.org/</dc:title>\n     </cc:Agent>\n    </dc:creator>\n   </cc:Work>\n  </rdf:RDF>\n </metadata>\n <defs>\n  <style type=\"text/css\">*{stroke-linejoin: round; stroke-linecap: butt}</style>\n </defs>\n <g id=\"figure_1\">\n  <g id=\"patch_1\">\n   <path d=\"M 0 352.963075 \nL 459.694312 352.963075 \nL 459.694312 0 \nL 0 0 \nz\n\" style=\"fill: #f0f0f0\"/>\n  </g>\n  <g id=\"axes_1\">\n   <g id=\"patch_2\">\n    <path d=\"M 51.598313 308.45445 \nL 452.494312 308.45445 \nL 452.494312 28.51845 \nL 51.598313 28.51845 \nz\n\" style=\"fill: #f0f0f0\"/>\n   </g>\n   <g id=\"matplotlib.axis_1\">\n    <g id=\"xtick_1\">\n     <g id=\"line2d_1\">\n      <path d=\"M 73.870312 308.45445 \nL 73.870312 28.51845 \n\" clip-path=\"url(#p8557bcdb12)\" style=\"fill: none; stroke: #cbcbcb\"/>\n     </g>\n     <g id=\"line2d_2\"/>\n     <g id=\"text_1\">\n      <!-- 1 -->\n      <g transform=\"translate(69.416562 322.592262) scale(0.14 -0.14)\">\n       <defs>\n        <path id=\"DejaVuSans-31\" d=\"M 794 531 \nL 1825 531 \nL 1825 4091 \nL 703 3866 \nL 703 4441 \nL 1819 4666 \nL 2450 4666 \nL 2450 531 \nL 3481 531 \nL 3481 0 \nL 794 0 \nL 794 531 \nz\n\" transform=\"scale(0.015625)\"/>\n       </defs>\n       <use xlink:href=\"#DejaVuSans-31\"/>\n      </g>\n     </g>\n    </g>\n    <g id=\"xtick_2\">\n     <g id=\"line2d_3\">\n      <path d=\"M 118.414312 308.45445 \nL 118.414312 28.51845 \n\" clip-path=\"url(#p8557bcdb12)\" style=\"fill: none; stroke: #cbcbcb\"/>\n     </g>\n     <g id=\"line2d_4\"/>\n     <g id=\"text_2\">\n      <!-- 2 -->\n      <g transform=\"translate(113.960562 322.592262) scale(0.14 -0.14)\">\n       <defs>\n        <path id=\"DejaVuSans-32\" d=\"M 1228 531 \nL 3431 531 \nL 3431 0 \nL 469 0 \nL 469 531 \nQ 828 903 1448 1529 \nQ 2069 2156 2228 2338 \nQ 2531 2678 2651 2914 \nQ 2772 3150 2772 3378 \nQ 2772 3750 2511 3984 \nQ 2250 4219 1831 4219 \nQ 1534 4219 1204 4116 \nQ 875 4013 500 3803 \nL 500 4441 \nQ 881 4594 1212 4672 \nQ 1544 4750 1819 4750 \nQ 2544 4750 2975 4387 \nQ 3406 4025 3406 3419 \nQ 3406 3131 3298 2873 \nQ 3191 2616 2906 2266 \nQ 2828 2175 2409 1742 \nQ 1991 1309 1228 531 \nz\n\" transform=\"scale(0.015625)\"/>\n       </defs>\n       <use xlink:href=\"#DejaVuSans-32\"/>\n      </g>\n     </g>\n    </g>\n    <g id=\"xtick_3\">\n     <g id=\"line2d_5\">\n      <path d=\"M 162.958312 308.45445 \nL 162.958312 28.51845 \n\" clip-path=\"url(#p8557bcdb12)\" style=\"fill: none; stroke: #cbcbcb\"/>\n     </g>\n     <g id=\"line2d_6\"/>\n     <g id=\"text_3\">\n      <!-- 3 -->\n      <g transform=\"translate(158.504562 322.592262) scale(0.14 -0.14)\">\n       <defs>\n        <path id=\"DejaVuSans-33\" d=\"M 2597 2516 \nQ 3050 2419 3304 2112 \nQ 3559 1806 3559 1356 \nQ 3559 666 3084 287 \nQ 2609 -91 1734 -91 \nQ 1441 -91 1130 -33 \nQ 819 25 488 141 \nL 488 750 \nQ 750 597 1062 519 \nQ 1375 441 1716 441 \nQ 2309 441 2620 675 \nQ 2931 909 2931 1356 \nQ 2931 1769 2642 2001 \nQ 2353 2234 1838 2234 \nL 1294 2234 \nL 1294 2753 \nL 1863 2753 \nQ 2328 2753 2575 2939 \nQ 2822 3125 2822 3475 \nQ 2822 3834 2567 4026 \nQ 2313 4219 1838 4219 \nQ 1578 4219 1281 4162 \nQ 984 4106 628 3988 \nL 628 4550 \nQ 988 4650 1302 4700 \nQ 1616 4750 1894 4750 \nQ 2613 4750 3031 4423 \nQ 3450 4097 3450 3541 \nQ 3450 3153 3228 2886 \nQ 3006 2619 2597 2516 \nz\n\" transform=\"scale(0.015625)\"/>\n       </defs>\n       <use xlink:href=\"#DejaVuSans-33\"/>\n      </g>\n     </g>\n    </g>\n    <g id=\"xtick_4\">\n     <g id=\"line2d_7\">\n      <path d=\"M 207.502312 308.45445 \nL 207.502312 28.51845 \n\" clip-path=\"url(#p8557bcdb12)\" style=\"fill: none; stroke: #cbcbcb\"/>\n     </g>\n     <g id=\"line2d_8\"/>\n     <g id=\"text_4\">\n      <!-- 4 -->\n      <g transform=\"translate(203.048562 322.592262) scale(0.14 -0.14)\">\n       <defs>\n        <path id=\"DejaVuSans-34\" d=\"M 2419 4116 \nL 825 1625 \nL 2419 1625 \nL 2419 4116 \nz\nM 2253 4666 \nL 3047 4666 \nL 3047 1625 \nL 3713 1625 \nL 3713 1100 \nL 3047 1100 \nL 3047 0 \nL 2419 0 \nL 2419 1100 \nL 313 1100 \nL 313 1709 \nL 2253 4666 \nz\n\" transform=\"scale(0.015625)\"/>\n       </defs>\n       <use xlink:href=\"#DejaVuSans-34\"/>\n      </g>\n     </g>\n    </g>\n    <g id=\"xtick_5\">\n     <g id=\"line2d_9\">\n      <path d=\"M 252.046312 308.45445 \nL 252.046312 28.51845 \n\" clip-path=\"url(#p8557bcdb12)\" style=\"fill: none; stroke: #cbcbcb\"/>\n     </g>\n     <g id=\"line2d_10\"/>\n     <g id=\"text_5\">\n      <!-- 5 -->\n      <g transform=\"translate(247.592562 322.592262) scale(0.14 -0.14)\">\n       <defs>\n        <path id=\"DejaVuSans-35\" d=\"M 691 4666 \nL 3169 4666 \nL 3169 4134 \nL 1269 4134 \nL 1269 2991 \nQ 1406 3038 1543 3061 \nQ 1681 3084 1819 3084 \nQ 2600 3084 3056 2656 \nQ 3513 2228 3513 1497 \nQ 3513 744 3044 326 \nQ 2575 -91 1722 -91 \nQ 1428 -91 1123 -41 \nQ 819 9 494 109 \nL 494 744 \nQ 775 591 1075 516 \nQ 1375 441 1709 441 \nQ 2250 441 2565 725 \nQ 2881 1009 2881 1497 \nQ 2881 1984 2565 2268 \nQ 2250 2553 1709 2553 \nQ 1456 2553 1204 2497 \nQ 953 2441 691 2322 \nL 691 4666 \nz\n\" transform=\"scale(0.015625)\"/>\n       </defs>\n       <use xlink:href=\"#DejaVuSans-35\"/>\n      </g>\n     </g>\n    </g>\n    <g id=\"xtick_6\">\n     <g id=\"line2d_11\">\n      <path d=\"M 296.590312 308.45445 \nL 296.590312 28.51845 \n\" clip-path=\"url(#p8557bcdb12)\" style=\"fill: none; stroke: #cbcbcb\"/>\n     </g>\n     <g id=\"line2d_12\"/>\n     <g id=\"text_6\">\n      <!-- 6 -->\n      <g transform=\"translate(292.136562 322.592262) scale(0.14 -0.14)\">\n       <defs>\n        <path id=\"DejaVuSans-36\" d=\"M 2113 2584 \nQ 1688 2584 1439 2293 \nQ 1191 2003 1191 1497 \nQ 1191 994 1439 701 \nQ 1688 409 2113 409 \nQ 2538 409 2786 701 \nQ 3034 994 3034 1497 \nQ 3034 2003 2786 2293 \nQ 2538 2584 2113 2584 \nz\nM 3366 4563 \nL 3366 3988 \nQ 3128 4100 2886 4159 \nQ 2644 4219 2406 4219 \nQ 1781 4219 1451 3797 \nQ 1122 3375 1075 2522 \nQ 1259 2794 1537 2939 \nQ 1816 3084 2150 3084 \nQ 2853 3084 3261 2657 \nQ 3669 2231 3669 1497 \nQ 3669 778 3244 343 \nQ 2819 -91 2113 -91 \nQ 1303 -91 875 529 \nQ 447 1150 447 2328 \nQ 447 3434 972 4092 \nQ 1497 4750 2381 4750 \nQ 2619 4750 2861 4703 \nQ 3103 4656 3366 4563 \nz\n\" transform=\"scale(0.015625)\"/>\n       </defs>\n       <use xlink:href=\"#DejaVuSans-36\"/>\n      </g>\n     </g>\n    </g>\n    <g id=\"xtick_7\">\n     <g id=\"line2d_13\">\n      <path d=\"M 341.134312 308.45445 \nL 341.134312 28.51845 \n\" clip-path=\"url(#p8557bcdb12)\" style=\"fill: none; stroke: #cbcbcb\"/>\n     </g>\n     <g id=\"line2d_14\"/>\n     <g id=\"text_7\">\n      <!-- 7 -->\n      <g transform=\"translate(336.680562 322.592262) scale(0.14 -0.14)\">\n       <defs>\n        <path id=\"DejaVuSans-37\" d=\"M 525 4666 \nL 3525 4666 \nL 3525 4397 \nL 1831 0 \nL 1172 0 \nL 2766 4134 \nL 525 4134 \nL 525 4666 \nz\n\" transform=\"scale(0.015625)\"/>\n       </defs>\n       <use xlink:href=\"#DejaVuSans-37\"/>\n      </g>\n     </g>\n    </g>\n    <g id=\"xtick_8\">\n     <g id=\"line2d_15\">\n      <path d=\"M 385.678312 308.45445 \nL 385.678312 28.51845 \n\" clip-path=\"url(#p8557bcdb12)\" style=\"fill: none; stroke: #cbcbcb\"/>\n     </g>\n     <g id=\"line2d_16\"/>\n     <g id=\"text_8\">\n      <!-- 8 -->\n      <g transform=\"translate(381.224562 322.592262) scale(0.14 -0.14)\">\n       <defs>\n        <path id=\"DejaVuSans-38\" d=\"M 2034 2216 \nQ 1584 2216 1326 1975 \nQ 1069 1734 1069 1313 \nQ 1069 891 1326 650 \nQ 1584 409 2034 409 \nQ 2484 409 2743 651 \nQ 3003 894 3003 1313 \nQ 3003 1734 2745 1975 \nQ 2488 2216 2034 2216 \nz\nM 1403 2484 \nQ 997 2584 770 2862 \nQ 544 3141 544 3541 \nQ 544 4100 942 4425 \nQ 1341 4750 2034 4750 \nQ 2731 4750 3128 4425 \nQ 3525 4100 3525 3541 \nQ 3525 3141 3298 2862 \nQ 3072 2584 2669 2484 \nQ 3125 2378 3379 2068 \nQ 3634 1759 3634 1313 \nQ 3634 634 3220 271 \nQ 2806 -91 2034 -91 \nQ 1263 -91 848 271 \nQ 434 634 434 1313 \nQ 434 1759 690 2068 \nQ 947 2378 1403 2484 \nz\nM 1172 3481 \nQ 1172 3119 1398 2916 \nQ 1625 2713 2034 2713 \nQ 2441 2713 2670 2916 \nQ 2900 3119 2900 3481 \nQ 2900 3844 2670 4047 \nQ 2441 4250 2034 4250 \nQ 1625 4250 1398 4047 \nQ 1172 3844 1172 3481 \nz\n\" transform=\"scale(0.015625)\"/>\n       </defs>\n       <use xlink:href=\"#DejaVuSans-38\"/>\n      </g>\n     </g>\n    </g>\n    <g id=\"xtick_9\">\n     <g id=\"line2d_17\">\n      <path d=\"M 430.222312 308.45445 \nL 430.222312 28.51845 \n\" clip-path=\"url(#p8557bcdb12)\" style=\"fill: none; stroke: #cbcbcb\"/>\n     </g>\n     <g id=\"line2d_18\"/>\n     <g id=\"text_9\">\n      <!-- 9 -->\n      <g transform=\"translate(425.768562 322.592262) scale(0.14 -0.14)\">\n       <defs>\n        <path id=\"DejaVuSans-39\" d=\"M 703 97 \nL 703 672 \nQ 941 559 1184 500 \nQ 1428 441 1663 441 \nQ 2288 441 2617 861 \nQ 2947 1281 2994 2138 \nQ 2813 1869 2534 1725 \nQ 2256 1581 1919 1581 \nQ 1219 1581 811 2004 \nQ 403 2428 403 3163 \nQ 403 3881 828 4315 \nQ 1253 4750 1959 4750 \nQ 2769 4750 3195 4129 \nQ 3622 3509 3622 2328 \nQ 3622 1225 3098 567 \nQ 2575 -91 1691 -91 \nQ 1453 -91 1209 -44 \nQ 966 3 703 97 \nz\nM 1959 2075 \nQ 2384 2075 2632 2365 \nQ 2881 2656 2881 3163 \nQ 2881 3666 2632 3958 \nQ 2384 4250 1959 4250 \nQ 1534 4250 1286 3958 \nQ 1038 3666 1038 3163 \nQ 1038 2656 1286 2365 \nQ 1534 2075 1959 2075 \nz\n\" transform=\"scale(0.015625)\"/>\n       </defs>\n       <use xlink:href=\"#DejaVuSans-39\"/>\n      </g>\n     </g>\n    </g>\n    <g id=\"text_10\">\n     <!-- Значения t -->\n     <g transform=\"translate(203.924813 342.2692) scale(0.168 -0.168)\">\n      <defs>\n       <path id=\"DejaVuSans-417\" d=\"M 1828 4750 \nQ 2597 4750 3084 4423 \nQ 3572 4097 3572 3541 \nQ 3572 3153 3350 2886 \nQ 3128 2619 2719 2516 \nQ 3172 2419 3426 2112 \nQ 3681 1806 3681 1356 \nQ 3681 638 3126 273 \nQ 2572 -91 1828 -91 \nQ 1447 -91 1003 12 \nQ 559 116 422 203 \nL 422 853 \nQ 900 575 1164 508 \nQ 1428 441 1816 441 \nQ 2403 441 2728 666 \nQ 3053 891 3053 1356 \nQ 3053 1769 2764 2001 \nQ 2475 2234 1866 2234 \nL 1228 2234 \nL 1228 2753 \nL 1891 2753 \nQ 2450 2753 2697 2939 \nQ 2944 3125 2944 3475 \nQ 2944 3834 2689 4026 \nQ 2434 4219 1816 4219 \nQ 1397 4219 1253 4181 \nQ 1109 4144 469 3903 \nL 469 4519 \nQ 822 4644 1190 4697 \nQ 1559 4750 1828 4750 \nz\n\" transform=\"scale(0.015625)\"/>\n       <path id=\"DejaVuSans-43d\" d=\"M 581 3500 \nL 1159 3500 \nL 1159 2072 \nL 3025 2072 \nL 3025 3500 \nL 3603 3500 \nL 3603 0 \nL 3025 0 \nL 3025 1613 \nL 1159 1613 \nL 1159 0 \nL 581 0 \nL 581 3500 \nz\n\" transform=\"scale(0.015625)\"/>\n       <path id=\"DejaVuSans-430\" d=\"M 2194 1759 \nQ 1497 1759 1228 1600 \nQ 959 1441 959 1056 \nQ 959 750 1161 570 \nQ 1363 391 1709 391 \nQ 2188 391 2477 730 \nQ 2766 1069 2766 1631 \nL 2766 1759 \nL 2194 1759 \nz\nM 3341 1997 \nL 3341 0 \nL 2766 0 \nL 2766 531 \nQ 2569 213 2275 61 \nQ 1981 -91 1556 -91 \nQ 1019 -91 701 211 \nQ 384 513 384 1019 \nQ 384 1609 779 1909 \nQ 1175 2209 1959 2209 \nL 2766 2209 \nL 2766 2266 \nQ 2766 2663 2505 2880 \nQ 2244 3097 1772 3097 \nQ 1472 3097 1187 3025 \nQ 903 2953 641 2809 \nL 641 3341 \nQ 956 3463 1253 3523 \nQ 1550 3584 1831 3584 \nQ 2591 3584 2966 3190 \nQ 3341 2797 3341 1997 \nz\n\" transform=\"scale(0.015625)\"/>\n       <path id=\"DejaVuSans-447\" d=\"M 2625 0 \nL 2625 1472 \nL 1553 1472 \nQ 1075 1472 756 1769 \nQ 469 2038 469 2613 \nL 469 3500 \nL 1044 3500 \nL 1044 2666 \nQ 1044 2300 1206 2116 \nQ 1372 1931 1697 1931 \nL 2625 1931 \nL 2625 3500 \nL 3200 3500 \nL 3200 0 \nL 2625 0 \nz\n\" transform=\"scale(0.015625)\"/>\n       <path id=\"DejaVuSans-435\" d=\"M 3597 1894 \nL 3597 1613 \nL 953 1613 \nQ 991 1019 1311 708 \nQ 1631 397 2203 397 \nQ 2534 397 2845 478 \nQ 3156 559 3463 722 \nL 3463 178 \nQ 3153 47 2828 -22 \nQ 2503 -91 2169 -91 \nQ 1331 -91 842 396 \nQ 353 884 353 1716 \nQ 353 2575 817 3079 \nQ 1281 3584 2069 3584 \nQ 2775 3584 3186 3129 \nQ 3597 2675 3597 1894 \nz\nM 3022 2063 \nQ 3016 2534 2758 2815 \nQ 2500 3097 2075 3097 \nQ 1594 3097 1305 2825 \nQ 1016 2553 972 2059 \nL 3022 2063 \nz\n\" transform=\"scale(0.015625)\"/>\n       <path id=\"DejaVuSans-438\" d=\"M 3578 3500 \nL 3578 0 \nL 3006 0 \nL 3006 2809 \nL 1319 0 \nL 581 0 \nL 581 3500 \nL 1153 3500 \nL 1153 697 \nL 2838 3500 \nL 3578 3500 \nz\n\" transform=\"scale(0.015625)\"/>\n       <path id=\"DejaVuSans-44f\" d=\"M 1181 2491 \nQ 1181 2231 1381 2084 \nQ 1581 1938 1953 1938 \nL 2728 1938 \nL 2728 3041 \nL 1953 3041 \nQ 1581 3041 1381 2897 \nQ 1181 2753 1181 2491 \nz\nM 363 0 \nL 1431 1534 \nQ 1069 1616 828 1830 \nQ 588 2044 588 2491 \nQ 588 2997 923 3248 \nQ 1259 3500 1938 3500 \nL 3306 3500 \nL 3306 0 \nL 2728 0 \nL 2728 1478 \nL 2013 1478 \nL 981 0 \nL 363 0 \nz\n\" transform=\"scale(0.015625)\"/>\n       <path id=\"DejaVuSans-20\" transform=\"scale(0.015625)\"/>\n       <path id=\"DejaVuSans-74\" d=\"M 1172 4494 \nL 1172 3500 \nL 2356 3500 \nL 2356 3053 \nL 1172 3053 \nL 1172 1153 \nQ 1172 725 1289 603 \nQ 1406 481 1766 481 \nL 2356 481 \nL 2356 0 \nL 1766 0 \nQ 1100 0 847 248 \nQ 594 497 594 1153 \nL 594 3053 \nL 172 3053 \nL 172 3500 \nL 594 3500 \nL 594 4494 \nL 1172 4494 \nz\n\" transform=\"scale(0.015625)\"/>\n      </defs>\n      <use xlink:href=\"#DejaVuSans-417\"/>\n      <use xlink:href=\"#DejaVuSans-43d\" x=\"64.111328\"/>\n      <use xlink:href=\"#DejaVuSans-430\" x=\"129.492188\"/>\n      <use xlink:href=\"#DejaVuSans-447\" x=\"190.771484\"/>\n      <use xlink:href=\"#DejaVuSans-435\" x=\"249.853516\"/>\n      <use xlink:href=\"#DejaVuSans-43d\" x=\"311.376953\"/>\n      <use xlink:href=\"#DejaVuSans-438\" x=\"376.757812\"/>\n      <use xlink:href=\"#DejaVuSans-44f\" x=\"441.748047\"/>\n      <use xlink:href=\"#DejaVuSans-20\" x=\"501.904297\"/>\n      <use xlink:href=\"#DejaVuSans-74\" x=\"533.691406\"/>\n     </g>\n    </g>\n   </g>\n   <g id=\"matplotlib.axis_2\">\n    <g id=\"ytick_1\">\n     <g id=\"line2d_19\">\n      <path d=\"M 51.598313 280.46085 \nL 452.494312 280.46085 \n\" clip-path=\"url(#p8557bcdb12)\" style=\"fill: none; stroke: #cbcbcb\"/>\n     </g>\n     <g id=\"line2d_20\"/>\n     <g id=\"text_11\">\n      <!-- −2 -->\n      <g transform=\"translate(27.45925 285.779756) scale(0.14 -0.14)\">\n       <defs>\n        <path id=\"DejaVuSans-2212\" d=\"M 678 2272 \nL 4684 2272 \nL 4684 1741 \nL 678 1741 \nL 678 2272 \nz\n\" transform=\"scale(0.015625)\"/>\n       </defs>\n       <use xlink:href=\"#DejaVuSans-2212\"/>\n       <use xlink:href=\"#DejaVuSans-32\" x=\"83.789062\"/>\n      </g>\n     </g>\n    </g>\n    <g id=\"ytick_2\">\n     <g id=\"line2d_21\">\n      <path d=\"M 51.598313 224.47365 \nL 452.494312 224.47365 \n\" clip-path=\"url(#p8557bcdb12)\" style=\"fill: none; stroke: #cbcbcb\"/>\n     </g>\n     <g id=\"line2d_22\"/>\n     <g id=\"text_12\">\n      <!-- −1 -->\n      <g transform=\"translate(27.45925 229.792556) scale(0.14 -0.14)\">\n       <use xlink:href=\"#DejaVuSans-2212\"/>\n       <use xlink:href=\"#DejaVuSans-31\" x=\"83.789062\"/>\n      </g>\n     </g>\n    </g>\n    <g id=\"ytick_3\">\n     <g id=\"line2d_23\">\n      <path d=\"M 51.598313 168.48645 \nL 452.494312 168.48645 \n\" clip-path=\"url(#p8557bcdb12)\" style=\"fill: none; stroke: #cbcbcb\"/>\n     </g>\n     <g id=\"line2d_24\"/>\n     <g id=\"text_13\">\n      <!-- 0 -->\n      <g transform=\"translate(39.190813 173.805356) scale(0.14 -0.14)\">\n       <defs>\n        <path id=\"DejaVuSans-30\" d=\"M 2034 4250 \nQ 1547 4250 1301 3770 \nQ 1056 3291 1056 2328 \nQ 1056 1369 1301 889 \nQ 1547 409 2034 409 \nQ 2525 409 2770 889 \nQ 3016 1369 3016 2328 \nQ 3016 3291 2770 3770 \nQ 2525 4250 2034 4250 \nz\nM 2034 4750 \nQ 2819 4750 3233 4129 \nQ 3647 3509 3647 2328 \nQ 3647 1150 3233 529 \nQ 2819 -91 2034 -91 \nQ 1250 -91 836 529 \nQ 422 1150 422 2328 \nQ 422 3509 836 4129 \nQ 1250 4750 2034 4750 \nz\n\" transform=\"scale(0.015625)\"/>\n       </defs>\n       <use xlink:href=\"#DejaVuSans-30\"/>\n      </g>\n     </g>\n    </g>\n    <g id=\"ytick_4\">\n     <g id=\"line2d_25\">\n      <path d=\"M 51.598313 112.49925 \nL 452.494312 112.49925 \n\" clip-path=\"url(#p8557bcdb12)\" style=\"fill: none; stroke: #cbcbcb\"/>\n     </g>\n     <g id=\"line2d_26\"/>\n     <g id=\"text_14\">\n      <!-- 1 -->\n      <g transform=\"translate(39.190813 117.818156) scale(0.14 -0.14)\">\n       <use xlink:href=\"#DejaVuSans-31\"/>\n      </g>\n     </g>\n    </g>\n    <g id=\"ytick_5\">\n     <g id=\"line2d_27\">\n      <path d=\"M 51.598313 56.51205 \nL 452.494312 56.51205 \n\" clip-path=\"url(#p8557bcdb12)\" style=\"fill: none; stroke: #cbcbcb\"/>\n     </g>\n     <g id=\"line2d_28\"/>\n     <g id=\"text_15\">\n      <!-- 2 -->\n      <g transform=\"translate(39.190813 61.830956) scale(0.14 -0.14)\">\n       <use xlink:href=\"#DejaVuSans-32\"/>\n      </g>\n     </g>\n    </g>\n    <g id=\"text_16\">\n     <!-- Значения f -->\n     <g transform=\"translate(19.965375 216.27195) rotate(-90) scale(0.168 -0.168)\">\n      <defs>\n       <path id=\"DejaVuSans-66\" d=\"M 2375 4863 \nL 2375 4384 \nL 1825 4384 \nQ 1516 4384 1395 4259 \nQ 1275 4134 1275 3809 \nL 1275 3500 \nL 2222 3500 \nL 2222 3053 \nL 1275 3053 \nL 1275 0 \nL 697 0 \nL 697 3053 \nL 147 3053 \nL 147 3500 \nL 697 3500 \nL 697 3744 \nQ 697 4328 969 4595 \nQ 1241 4863 1831 4863 \nL 2375 4863 \nz\n\" transform=\"scale(0.015625)\"/>\n      </defs>\n      <use xlink:href=\"#DejaVuSans-417\"/>\n      <use xlink:href=\"#DejaVuSans-43d\" x=\"64.111328\"/>\n      <use xlink:href=\"#DejaVuSans-430\" x=\"129.492188\"/>\n      <use xlink:href=\"#DejaVuSans-447\" x=\"190.771484\"/>\n      <use xlink:href=\"#DejaVuSans-435\" x=\"249.853516\"/>\n      <use xlink:href=\"#DejaVuSans-43d\" x=\"311.376953\"/>\n      <use xlink:href=\"#DejaVuSans-438\" x=\"376.757812\"/>\n      <use xlink:href=\"#DejaVuSans-44f\" x=\"441.748047\"/>\n      <use xlink:href=\"#DejaVuSans-20\" x=\"501.904297\"/>\n      <use xlink:href=\"#DejaVuSans-66\" x=\"533.691406\"/>\n     </g>\n    </g>\n   </g>\n   <g id=\"line2d_29\">\n    <path d=\"M 29.326313 112.49925 \nL 38.235113 113.615266 \nL 47.143913 116.918824 \nL 56.052713 122.27822 \nL 64.961512 129.479792 \nL 73.870312 138.236437 \nL 82.779113 148.199054 \nL 91.687912 158.970466 \nL 100.596712 170.121249 \nL 109.505512 181.206859 \nL 118.414312 191.785346 \nL 127.323112 201.43498 \nL 136.231912 209.771059 \nL 145.140712 216.461252 \nL 154.049512 221.238841 \nL 162.958312 223.913358 \nL 171.867112 224.378179 \nL 180.775912 222.614774 \nL 189.684712 218.693443 \nL 198.593512 212.770517 \nL 207.502312 205.082126 \nL 216.411112 195.934781 \nL 225.319912 185.693157 \nL 234.228712 174.765556 \nL 243.137512 163.587627 \nL 252.046312 152.604998 \nL 260.955112 142.255513 \nL 269.863912 132.951773 \nL 278.772712 125.064688 \nL 287.681512 118.908692 \nL 296.590312 114.729204 \nL 305.499112 112.692848 \nL 314.407912 112.880807 \nL 323.316712 115.285588 \nL 332.225512 119.811319 \nL 341.134312 126.277574 \nL 350.043112 134.426563 \nL 358.951912 143.933413 \nL 367.860712 154.419115 \nL 376.769512 165.465637 \nL 385.678312 176.632589 \nL 394.587112 187.474781 \nL 403.495912 197.559968 \nL 412.404712 206.486085 \nL 421.313512 213.897277 \nL 430.222312 219.498082 \nL 439.131112 223.065215 \nL 448.039912 224.456464 \nL 456.948712 223.616366 \nL 460.694312 222.339094 \n\" clip-path=\"url(#p8557bcdb12)\" style=\"fill: none; stroke: #008000; stroke-width: 4\"/>\n   </g>\n   <g id=\"patch_3\">\n    <path d=\"M 51.598313 308.45445 \nL 51.598313 28.51845 \n\" style=\"fill: none; stroke: #f0f0f0; stroke-width: 3; stroke-linejoin: miter; stroke-linecap: square\"/>\n   </g>\n   <g id=\"patch_4\">\n    <path d=\"M 452.494312 308.45445 \nL 452.494312 28.51845 \n\" style=\"fill: none; stroke: #f0f0f0; stroke-width: 3; stroke-linejoin: miter; stroke-linecap: square\"/>\n   </g>\n   <g id=\"patch_5\">\n    <path d=\"M 51.598313 308.45445 \nL 452.494312 308.45445 \n\" style=\"fill: none; stroke: #f0f0f0; stroke-width: 3; stroke-linejoin: miter; stroke-linecap: square\"/>\n   </g>\n   <g id=\"patch_6\">\n    <path d=\"M 51.598313 28.51845 \nL 452.494312 28.51845 \n\" style=\"fill: none; stroke: #f0f0f0; stroke-width: 3; stroke-linejoin: miter; stroke-linecap: square\"/>\n   </g>\n   <g id=\"text_17\">\n    <!-- График f(t) -->\n    <g transform=\"translate(193.495688 22.51845) scale(0.2016 -0.2016)\">\n     <defs>\n      <path id=\"DejaVuSans-413\" d=\"M 628 0 \nL 628 4666 \nL 3531 4666 \nL 3531 4134 \nL 1259 4134 \nL 1259 0 \nL 628 0 \nz\n\" transform=\"scale(0.015625)\"/>\n      <path id=\"DejaVuSans-440\" d=\"M 1159 525 \nL 1159 -1331 \nL 581 -1331 \nL 581 3500 \nL 1159 3500 \nL 1159 2969 \nQ 1341 3281 1617 3432 \nQ 1894 3584 2278 3584 \nQ 2916 3584 3314 3078 \nQ 3713 2572 3713 1747 \nQ 3713 922 3314 415 \nQ 2916 -91 2278 -91 \nQ 1894 -91 1617 61 \nQ 1341 213 1159 525 \nz\nM 3116 1747 \nQ 3116 2381 2855 2742 \nQ 2594 3103 2138 3103 \nQ 1681 3103 1420 2742 \nQ 1159 2381 1159 1747 \nQ 1159 1113 1420 752 \nQ 1681 391 2138 391 \nQ 2594 391 2855 752 \nQ 3116 1113 3116 1747 \nz\n\" transform=\"scale(0.015625)\"/>\n      <path id=\"DejaVuSans-444\" d=\"M 947 1747 \nQ 947 1013 1173 702 \nQ 1400 391 1784 391 \nQ 2091 391 2447 916 \nL 2447 2578 \nQ 2091 3103 1784 3103 \nQ 1400 3103 1173 2792 \nQ 947 2481 947 1747 \nz\nM 2447 -1331 \nL 2447 447 \nQ 2269 153 2064 31 \nQ 1859 -91 1600 -91 \nQ 1078 -91 714 392 \nQ 350 875 350 1734 \nQ 350 2594 714 3089 \nQ 1078 3584 1600 3584 \nQ 1859 3584 2064 3465 \nQ 2269 3347 2447 3053 \nL 2447 4666 \nL 3025 4666 \nL 3025 3053 \nQ 3203 3347 3408 3465 \nQ 3613 3584 3872 3584 \nQ 4394 3584 4758 3089 \nQ 5122 2594 5122 1734 \nQ 5122 875 4758 392 \nQ 4394 -91 3872 -91 \nQ 3613 -91 3408 31 \nQ 3203 153 3025 447 \nL 3025 -1331 \nL 2447 -1331 \nz\nM 4525 1747 \nQ 4525 2481 4298 2792 \nQ 4072 3103 3688 3103 \nQ 3381 3103 3025 2578 \nL 3025 916 \nQ 3381 391 3688 391 \nQ 4072 391 4298 702 \nQ 4525 1013 4525 1747 \nz\n\" transform=\"scale(0.015625)\"/>\n      <path id=\"DejaVuSans-43a\" d=\"M 581 3500 \nL 1153 3500 \nL 1153 1856 \nL 2775 3500 \nL 3481 3500 \nL 2144 2147 \nL 3653 0 \nL 3009 0 \nL 1769 1766 \nL 1153 1141 \nL 1153 0 \nL 581 0 \nL 581 3500 \nz\n\" transform=\"scale(0.015625)\"/>\n      <path id=\"DejaVuSans-28\" d=\"M 1984 4856 \nQ 1566 4138 1362 3434 \nQ 1159 2731 1159 2009 \nQ 1159 1288 1364 580 \nQ 1569 -128 1984 -844 \nL 1484 -844 \nQ 1016 -109 783 600 \nQ 550 1309 550 2009 \nQ 550 2706 781 3412 \nQ 1013 4119 1484 4856 \nL 1984 4856 \nz\n\" transform=\"scale(0.015625)\"/>\n      <path id=\"DejaVuSans-29\" d=\"M 513 4856 \nL 1013 4856 \nQ 1481 4119 1714 3412 \nQ 1947 2706 1947 2009 \nQ 1947 1309 1714 600 \nQ 1481 -109 1013 -844 \nL 513 -844 \nQ 928 -128 1133 580 \nQ 1338 1288 1338 2009 \nQ 1338 2731 1133 3434 \nQ 928 4138 513 4856 \nz\n\" transform=\"scale(0.015625)\"/>\n     </defs>\n     <use xlink:href=\"#DejaVuSans-413\"/>\n     <use xlink:href=\"#DejaVuSans-440\" x=\"60.986328\"/>\n     <use xlink:href=\"#DejaVuSans-430\" x=\"124.462891\"/>\n     <use xlink:href=\"#DejaVuSans-444\" x=\"185.742188\"/>\n     <use xlink:href=\"#DejaVuSans-438\" x=\"271.240234\"/>\n     <use xlink:href=\"#DejaVuSans-43a\" x=\"336.230469\"/>\n     <use xlink:href=\"#DejaVuSans-20\" x=\"396.630859\"/>\n     <use xlink:href=\"#DejaVuSans-66\" x=\"428.417969\"/>\n     <use xlink:href=\"#DejaVuSans-28\" x=\"463.623047\"/>\n     <use xlink:href=\"#DejaVuSans-74\" x=\"502.636719\"/>\n     <use xlink:href=\"#DejaVuSans-29\" x=\"541.845703\"/>\n    </g>\n   </g>\n  </g>\n </g>\n <defs>\n  <clipPath id=\"p8557bcdb12\">\n   <rect x=\"51.598313\" y=\"28.51845\" width=\"400.896\" height=\"279.936\"/>\n  </clipPath>\n </defs>\n</svg>\n"
          },
          "metadata": {}
        }
      ]
    },
    {
      "cell_type": "markdown",
      "source": [
        "## *Задание 3\n",
        "С помощью функции linspace библиотеки Numpy создайте массив x из 51 числа от -3 до 3 включительно.  \n",
        "\n",
        "Создайте массивы y1, y2, y3, y4 по следующим формулам:  \n",
        "y1 = x**2  \n",
        "y2 = 2 * x + 0.5  \n",
        "y3 = -3 * x - 1.5  \n",
        "y4 = sin(x)  \n",
        "\n",
        "Используя функцию subplots модуля matplotlib.pyplot, создайте объект matplotlib.figure.Figure с названием fig и массив объектов Axes под названием ax,причем так, чтобы у вас было 4 отдельных графика в сетке, состоящей из двух строк и двух столбцов. В каждом графике массив x используется для координат по горизонтали.В левом верхнем графике для координат по вертикали используйте\n",
        "y1,в правом верхнем - y2, в левом нижнем - y3, в правом нижнем - y4.Дайте название графикам: 'График y1', 'График y2' и т.д.  \n",
        "\n",
        "Для графика в левом верхнем углу установите границы по оси x от -5 до 5.  \n",
        "\n",
        "Установите размеры фигуры 8 дюймов по горизонтали и 6 дюймов по вертикали.  \n",
        "\n",
        "Вертикальные и горизонтальные зазоры между графиками должны составлять 0.3."
      ],
      "metadata": {
        "id": "r5alkp9T9U88"
      }
    },
    {
      "cell_type": "code",
      "source": [
        "# Создаём массив x с помощью функции linspace:\n",
        "x = np.linspace(-3, 3, 51)\n",
        "\n",
        "# Создаём массивы y1, y2, y3, y4 по заданным формулам:\n",
        "y1 = x**2\n",
        "y2 = 2 * x + 0.5\n",
        "y3 = -3 * x - 1.5\n",
        "y4 = np.sin(x)\n",
        "\n",
        "# Создаём объект figure и массив объектов Axes с помощью функции subplots:\n",
        "fig, ax = plt.subplots(2, 2, figsize=(8, 6))\n",
        "plt.subplots_adjust(wspace=0.3, hspace=0.3)\n",
        "\n",
        "# Левый верхний график\n",
        "ax[0, 0].plot(x, y1)\n",
        "ax[0, 0].set_title('График y1')\n",
        "ax[0, 0].set_xlim(-5, 5)\n",
        "\n",
        "# Правый верхний график\n",
        "ax[0, 1].plot(x, y2)\n",
        "ax[0, 1].set_title('График y2')\n",
        "\n",
        "# Левый нижний график\n",
        "ax[1, 0].plot(x, y3)\n",
        "ax[1, 0].set_title('График y3')\n",
        "\n",
        "# Правый нижний график\n",
        "ax[1, 1].plot(x, y4)\n",
        "ax[1, 1].set_title('График y4')\n",
        "\n",
        "plt.show()\n",
        "\n"
      ],
      "metadata": {
        "colab": {
          "base_uri": "https://localhost:8080/",
          "height": 558
        },
        "id": "1y3y3BnTPf9N",
        "outputId": "af1e04d3-399c-4b0a-8515-14bbebf8f417"
      },
      "execution_count": 6,
      "outputs": [
        {
          "output_type": "display_data",
          "data": {
            "text/plain": [
              "<Figure size 800x600 with 4 Axes>"
            ],
            "image/svg+xml": "<?xml version=\"1.0\" encoding=\"utf-8\" standalone=\"no\"?>\n<!DOCTYPE svg PUBLIC \"-//W3C//DTD SVG 1.1//EN\"\n  \"http://www.w3.org/Graphics/SVG/1.1/DTD/svg11.dtd\">\n<svg xmlns:xlink=\"http://www.w3.org/1999/xlink\" width=\"548.566563pt\" height=\"402.687825pt\" viewBox=\"0 0 548.566563 402.687825\" xmlns=\"http://www.w3.org/2000/svg\" version=\"1.1\">\n <metadata>\n  <rdf:RDF xmlns:dc=\"http://purl.org/dc/elements/1.1/\" xmlns:cc=\"http://creativecommons.org/ns#\" xmlns:rdf=\"http://www.w3.org/1999/02/22-rdf-syntax-ns#\">\n   <cc:Work>\n    <dc:type rdf:resource=\"http://purl.org/dc/dcmitype/StillImage\"/>\n    <dc:date>2024-07-21T12:26:36.688119</dc:date>\n    <dc:format>image/svg+xml</dc:format>\n    <dc:creator>\n     <cc:Agent>\n      <dc:title>Matplotlib v3.7.1, https://matplotlib.org/</dc:title>\n     </cc:Agent>\n    </dc:creator>\n   </cc:Work>\n  </rdf:RDF>\n </metadata>\n <defs>\n  <style type=\"text/css\">*{stroke-linejoin: round; stroke-linecap: butt}</style>\n </defs>\n <g id=\"figure_1\">\n  <g id=\"patch_1\">\n   <path d=\"M 0 402.687825 \nL 548.566563 402.687825 \nL 548.566563 0 \nL 0 0 \nz\n\" style=\"fill: #f0f0f0\"/>\n  </g>\n  <g id=\"axes_1\">\n   <g id=\"patch_2\">\n    <path d=\"M 40.246563 180.65758 \nL 258.124823 180.65758 \nL 258.124823 28.51845 \nL 40.246563 28.51845 \nz\n\" style=\"fill: #f0f0f0\"/>\n   </g>\n   <g id=\"matplotlib.axis_1\">\n    <g id=\"xtick_1\">\n     <g id=\"line2d_1\">\n      <path d=\"M 62.034389 180.65758 \nL 62.034389 28.51845 \n\" clip-path=\"url(#p3e1a7911e5)\" style=\"fill: none; stroke: #cbcbcb\"/>\n     </g>\n     <g id=\"line2d_2\"/>\n     <g id=\"text_1\">\n      <!-- −4 -->\n      <g transform=\"translate(51.714857 194.795393) scale(0.14 -0.14)\">\n       <defs>\n        <path id=\"DejaVuSans-2212\" d=\"M 678 2272 \nL 4684 2272 \nL 4684 1741 \nL 678 1741 \nL 678 2272 \nz\n\" transform=\"scale(0.015625)\"/>\n        <path id=\"DejaVuSans-34\" d=\"M 2419 4116 \nL 825 1625 \nL 2419 1625 \nL 2419 4116 \nz\nM 2253 4666 \nL 3047 4666 \nL 3047 1625 \nL 3713 1625 \nL 3713 1100 \nL 3047 1100 \nL 3047 0 \nL 2419 0 \nL 2419 1100 \nL 313 1100 \nL 313 1709 \nL 2253 4666 \nz\n\" transform=\"scale(0.015625)\"/>\n       </defs>\n       <use xlink:href=\"#DejaVuSans-2212\"/>\n       <use xlink:href=\"#DejaVuSans-34\" x=\"83.789062\"/>\n      </g>\n     </g>\n    </g>\n    <g id=\"xtick_2\">\n     <g id=\"line2d_3\">\n      <path d=\"M 105.610041 180.65758 \nL 105.610041 28.51845 \n\" clip-path=\"url(#p3e1a7911e5)\" style=\"fill: none; stroke: #cbcbcb\"/>\n     </g>\n     <g id=\"line2d_4\"/>\n     <g id=\"text_2\">\n      <!-- −2 -->\n      <g transform=\"translate(95.29051 194.795393) scale(0.14 -0.14)\">\n       <defs>\n        <path id=\"DejaVuSans-32\" d=\"M 1228 531 \nL 3431 531 \nL 3431 0 \nL 469 0 \nL 469 531 \nQ 828 903 1448 1529 \nQ 2069 2156 2228 2338 \nQ 2531 2678 2651 2914 \nQ 2772 3150 2772 3378 \nQ 2772 3750 2511 3984 \nQ 2250 4219 1831 4219 \nQ 1534 4219 1204 4116 \nQ 875 4013 500 3803 \nL 500 4441 \nQ 881 4594 1212 4672 \nQ 1544 4750 1819 4750 \nQ 2544 4750 2975 4387 \nQ 3406 4025 3406 3419 \nQ 3406 3131 3298 2873 \nQ 3191 2616 2906 2266 \nQ 2828 2175 2409 1742 \nQ 1991 1309 1228 531 \nz\n\" transform=\"scale(0.015625)\"/>\n       </defs>\n       <use xlink:href=\"#DejaVuSans-2212\"/>\n       <use xlink:href=\"#DejaVuSans-32\" x=\"83.789062\"/>\n      </g>\n     </g>\n    </g>\n    <g id=\"xtick_3\">\n     <g id=\"line2d_5\">\n      <path d=\"M 149.185693 180.65758 \nL 149.185693 28.51845 \n\" clip-path=\"url(#p3e1a7911e5)\" style=\"fill: none; stroke: #cbcbcb\"/>\n     </g>\n     <g id=\"line2d_6\"/>\n     <g id=\"text_3\">\n      <!-- 0 -->\n      <g transform=\"translate(144.731943 194.795393) scale(0.14 -0.14)\">\n       <defs>\n        <path id=\"DejaVuSans-30\" d=\"M 2034 4250 \nQ 1547 4250 1301 3770 \nQ 1056 3291 1056 2328 \nQ 1056 1369 1301 889 \nQ 1547 409 2034 409 \nQ 2525 409 2770 889 \nQ 3016 1369 3016 2328 \nQ 3016 3291 2770 3770 \nQ 2525 4250 2034 4250 \nz\nM 2034 4750 \nQ 2819 4750 3233 4129 \nQ 3647 3509 3647 2328 \nQ 3647 1150 3233 529 \nQ 2819 -91 2034 -91 \nQ 1250 -91 836 529 \nQ 422 1150 422 2328 \nQ 422 3509 836 4129 \nQ 1250 4750 2034 4750 \nz\n\" transform=\"scale(0.015625)\"/>\n       </defs>\n       <use xlink:href=\"#DejaVuSans-30\"/>\n      </g>\n     </g>\n    </g>\n    <g id=\"xtick_4\">\n     <g id=\"line2d_7\">\n      <path d=\"M 192.761345 180.65758 \nL 192.761345 28.51845 \n\" clip-path=\"url(#p3e1a7911e5)\" style=\"fill: none; stroke: #cbcbcb\"/>\n     </g>\n     <g id=\"line2d_8\"/>\n     <g id=\"text_4\">\n      <!-- 2 -->\n      <g transform=\"translate(188.307595 194.795393) scale(0.14 -0.14)\">\n       <use xlink:href=\"#DejaVuSans-32\"/>\n      </g>\n     </g>\n    </g>\n    <g id=\"xtick_5\">\n     <g id=\"line2d_9\">\n      <path d=\"M 236.336997 180.65758 \nL 236.336997 28.51845 \n\" clip-path=\"url(#p3e1a7911e5)\" style=\"fill: none; stroke: #cbcbcb\"/>\n     </g>\n     <g id=\"line2d_10\"/>\n     <g id=\"text_5\">\n      <!-- 4 -->\n      <g transform=\"translate(231.883247 194.795393) scale(0.14 -0.14)\">\n       <use xlink:href=\"#DejaVuSans-34\"/>\n      </g>\n     </g>\n    </g>\n   </g>\n   <g id=\"matplotlib.axis_2\">\n    <g id=\"ytick_1\">\n     <g id=\"line2d_11\">\n      <path d=\"M 40.246563 173.742165 \nL 258.124823 173.742165 \n\" clip-path=\"url(#p3e1a7911e5)\" style=\"fill: none; stroke: #cbcbcb\"/>\n     </g>\n     <g id=\"line2d_12\"/>\n     <g id=\"text_6\">\n      <!-- 0 -->\n      <g transform=\"translate(27.839063 179.061072) scale(0.14 -0.14)\">\n       <use xlink:href=\"#DejaVuSans-30\"/>\n      </g>\n     </g>\n    </g>\n    <g id=\"ytick_2\">\n     <g id=\"line2d_13\">\n      <path d=\"M 40.246563 143.006988 \nL 258.124823 143.006988 \n\" clip-path=\"url(#p3e1a7911e5)\" style=\"fill: none; stroke: #cbcbcb\"/>\n     </g>\n     <g id=\"line2d_14\"/>\n     <g id=\"text_7\">\n      <!-- 2 -->\n      <g transform=\"translate(27.839063 148.325894) scale(0.14 -0.14)\">\n       <use xlink:href=\"#DejaVuSans-32\"/>\n      </g>\n     </g>\n    </g>\n    <g id=\"ytick_3\">\n     <g id=\"line2d_15\">\n      <path d=\"M 40.246563 112.27181 \nL 258.124823 112.27181 \n\" clip-path=\"url(#p3e1a7911e5)\" style=\"fill: none; stroke: #cbcbcb\"/>\n     </g>\n     <g id=\"line2d_16\"/>\n     <g id=\"text_8\">\n      <!-- 4 -->\n      <g transform=\"translate(27.839063 117.590716) scale(0.14 -0.14)\">\n       <use xlink:href=\"#DejaVuSans-34\"/>\n      </g>\n     </g>\n    </g>\n    <g id=\"ytick_4\">\n     <g id=\"line2d_17\">\n      <path d=\"M 40.246563 81.536632 \nL 258.124823 81.536632 \n\" clip-path=\"url(#p3e1a7911e5)\" style=\"fill: none; stroke: #cbcbcb\"/>\n     </g>\n     <g id=\"line2d_18\"/>\n     <g id=\"text_9\">\n      <!-- 6 -->\n      <g transform=\"translate(27.839063 86.855538) scale(0.14 -0.14)\">\n       <defs>\n        <path id=\"DejaVuSans-36\" d=\"M 2113 2584 \nQ 1688 2584 1439 2293 \nQ 1191 2003 1191 1497 \nQ 1191 994 1439 701 \nQ 1688 409 2113 409 \nQ 2538 409 2786 701 \nQ 3034 994 3034 1497 \nQ 3034 2003 2786 2293 \nQ 2538 2584 2113 2584 \nz\nM 3366 4563 \nL 3366 3988 \nQ 3128 4100 2886 4159 \nQ 2644 4219 2406 4219 \nQ 1781 4219 1451 3797 \nQ 1122 3375 1075 2522 \nQ 1259 2794 1537 2939 \nQ 1816 3084 2150 3084 \nQ 2853 3084 3261 2657 \nQ 3669 2231 3669 1497 \nQ 3669 778 3244 343 \nQ 2819 -91 2113 -91 \nQ 1303 -91 875 529 \nQ 447 1150 447 2328 \nQ 447 3434 972 4092 \nQ 1497 4750 2381 4750 \nQ 2619 4750 2861 4703 \nQ 3103 4656 3366 4563 \nz\n\" transform=\"scale(0.015625)\"/>\n       </defs>\n       <use xlink:href=\"#DejaVuSans-36\"/>\n      </g>\n     </g>\n    </g>\n    <g id=\"ytick_5\">\n     <g id=\"line2d_19\">\n      <path d=\"M 40.246563 50.801454 \nL 258.124823 50.801454 \n\" clip-path=\"url(#p3e1a7911e5)\" style=\"fill: none; stroke: #cbcbcb\"/>\n     </g>\n     <g id=\"line2d_20\"/>\n     <g id=\"text_10\">\n      <!-- 8 -->\n      <g transform=\"translate(27.839063 56.12036) scale(0.14 -0.14)\">\n       <defs>\n        <path id=\"DejaVuSans-38\" d=\"M 2034 2216 \nQ 1584 2216 1326 1975 \nQ 1069 1734 1069 1313 \nQ 1069 891 1326 650 \nQ 1584 409 2034 409 \nQ 2484 409 2743 651 \nQ 3003 894 3003 1313 \nQ 3003 1734 2745 1975 \nQ 2488 2216 2034 2216 \nz\nM 1403 2484 \nQ 997 2584 770 2862 \nQ 544 3141 544 3541 \nQ 544 4100 942 4425 \nQ 1341 4750 2034 4750 \nQ 2731 4750 3128 4425 \nQ 3525 4100 3525 3541 \nQ 3525 3141 3298 2862 \nQ 3072 2584 2669 2484 \nQ 3125 2378 3379 2068 \nQ 3634 1759 3634 1313 \nQ 3634 634 3220 271 \nQ 2806 -91 2034 -91 \nQ 1263 -91 848 271 \nQ 434 634 434 1313 \nQ 434 1759 690 2068 \nQ 947 2378 1403 2484 \nz\nM 1172 3481 \nQ 1172 3119 1398 2916 \nQ 1625 2713 2034 2713 \nQ 2441 2713 2670 2916 \nQ 2900 3119 2900 3481 \nQ 2900 3844 2670 4047 \nQ 2441 4250 2034 4250 \nQ 1625 4250 1398 4047 \nQ 1172 3844 1172 3481 \nz\n\" transform=\"scale(0.015625)\"/>\n       </defs>\n       <use xlink:href=\"#DejaVuSans-38\"/>\n      </g>\n     </g>\n    </g>\n   </g>\n   <g id=\"line2d_21\">\n    <path d=\"M 83.822215 35.433865 \nL 86.436754 46.277236 \nL 89.051293 56.67802 \nL 91.665832 66.636218 \nL 94.280371 76.151829 \nL 96.89491 85.224853 \nL 99.509449 93.855291 \nL 102.123989 102.043142 \nL 104.738528 109.788407 \nL 107.353067 117.091086 \nL 109.967606 123.951177 \nL 112.582145 130.368682 \nL 115.196684 136.343601 \nL 117.811223 141.875933 \nL 120.425763 146.965678 \nL 123.040302 151.612837 \nL 125.654841 155.81741 \nL 128.26938 159.579395 \nL 130.883919 162.898795 \nL 133.498458 165.775607 \nL 136.112997 168.209833 \nL 138.727536 170.201473 \nL 141.342076 171.750526 \nL 143.956615 172.856992 \nL 146.571154 173.520872 \nL 149.185693 173.742165 \nL 151.800232 173.520872 \nL 154.414771 172.856992 \nL 157.02931 171.750526 \nL 159.643849 170.201473 \nL 162.258389 168.209833 \nL 164.872928 165.775607 \nL 167.487467 162.898795 \nL 170.102006 159.579395 \nL 172.716545 155.81741 \nL 175.331084 151.612837 \nL 177.945623 146.965678 \nL 180.560163 141.875933 \nL 183.174702 136.343601 \nL 185.789241 130.368682 \nL 188.40378 123.951177 \nL 191.018319 117.091086 \nL 193.632858 109.788407 \nL 196.247397 102.043142 \nL 198.861936 93.855291 \nL 201.476476 85.224853 \nL 204.091015 76.151829 \nL 206.705554 66.636218 \nL 209.320093 56.67802 \nL 211.934632 46.277236 \nL 214.549171 35.433865 \n\" clip-path=\"url(#p3e1a7911e5)\" style=\"fill: none; stroke: #008fd5; stroke-width: 4\"/>\n   </g>\n   <g id=\"patch_3\">\n    <path d=\"M 40.246563 180.65758 \nL 40.246563 28.51845 \n\" style=\"fill: none; stroke: #f0f0f0; stroke-width: 3; stroke-linejoin: miter; stroke-linecap: square\"/>\n   </g>\n   <g id=\"patch_4\">\n    <path d=\"M 258.124823 180.65758 \nL 258.124823 28.51845 \n\" style=\"fill: none; stroke: #f0f0f0; stroke-width: 3; stroke-linejoin: miter; stroke-linecap: square\"/>\n   </g>\n   <g id=\"patch_5\">\n    <path d=\"M 40.246562 180.65758 \nL 258.124823 180.65758 \n\" style=\"fill: none; stroke: #f0f0f0; stroke-width: 3; stroke-linejoin: miter; stroke-linecap: square\"/>\n   </g>\n   <g id=\"patch_6\">\n    <path d=\"M 40.246562 28.51845 \nL 258.124823 28.51845 \n\" style=\"fill: none; stroke: #f0f0f0; stroke-width: 3; stroke-linejoin: miter; stroke-linecap: square\"/>\n   </g>\n   <g id=\"text_11\">\n    <!-- График y1 -->\n    <g transform=\"translate(93.621268 22.51845) scale(0.2016 -0.2016)\">\n     <defs>\n      <path id=\"DejaVuSans-413\" d=\"M 628 0 \nL 628 4666 \nL 3531 4666 \nL 3531 4134 \nL 1259 4134 \nL 1259 0 \nL 628 0 \nz\n\" transform=\"scale(0.015625)\"/>\n      <path id=\"DejaVuSans-440\" d=\"M 1159 525 \nL 1159 -1331 \nL 581 -1331 \nL 581 3500 \nL 1159 3500 \nL 1159 2969 \nQ 1341 3281 1617 3432 \nQ 1894 3584 2278 3584 \nQ 2916 3584 3314 3078 \nQ 3713 2572 3713 1747 \nQ 3713 922 3314 415 \nQ 2916 -91 2278 -91 \nQ 1894 -91 1617 61 \nQ 1341 213 1159 525 \nz\nM 3116 1747 \nQ 3116 2381 2855 2742 \nQ 2594 3103 2138 3103 \nQ 1681 3103 1420 2742 \nQ 1159 2381 1159 1747 \nQ 1159 1113 1420 752 \nQ 1681 391 2138 391 \nQ 2594 391 2855 752 \nQ 3116 1113 3116 1747 \nz\n\" transform=\"scale(0.015625)\"/>\n      <path id=\"DejaVuSans-430\" d=\"M 2194 1759 \nQ 1497 1759 1228 1600 \nQ 959 1441 959 1056 \nQ 959 750 1161 570 \nQ 1363 391 1709 391 \nQ 2188 391 2477 730 \nQ 2766 1069 2766 1631 \nL 2766 1759 \nL 2194 1759 \nz\nM 3341 1997 \nL 3341 0 \nL 2766 0 \nL 2766 531 \nQ 2569 213 2275 61 \nQ 1981 -91 1556 -91 \nQ 1019 -91 701 211 \nQ 384 513 384 1019 \nQ 384 1609 779 1909 \nQ 1175 2209 1959 2209 \nL 2766 2209 \nL 2766 2266 \nQ 2766 2663 2505 2880 \nQ 2244 3097 1772 3097 \nQ 1472 3097 1187 3025 \nQ 903 2953 641 2809 \nL 641 3341 \nQ 956 3463 1253 3523 \nQ 1550 3584 1831 3584 \nQ 2591 3584 2966 3190 \nQ 3341 2797 3341 1997 \nz\n\" transform=\"scale(0.015625)\"/>\n      <path id=\"DejaVuSans-444\" d=\"M 947 1747 \nQ 947 1013 1173 702 \nQ 1400 391 1784 391 \nQ 2091 391 2447 916 \nL 2447 2578 \nQ 2091 3103 1784 3103 \nQ 1400 3103 1173 2792 \nQ 947 2481 947 1747 \nz\nM 2447 -1331 \nL 2447 447 \nQ 2269 153 2064 31 \nQ 1859 -91 1600 -91 \nQ 1078 -91 714 392 \nQ 350 875 350 1734 \nQ 350 2594 714 3089 \nQ 1078 3584 1600 3584 \nQ 1859 3584 2064 3465 \nQ 2269 3347 2447 3053 \nL 2447 4666 \nL 3025 4666 \nL 3025 3053 \nQ 3203 3347 3408 3465 \nQ 3613 3584 3872 3584 \nQ 4394 3584 4758 3089 \nQ 5122 2594 5122 1734 \nQ 5122 875 4758 392 \nQ 4394 -91 3872 -91 \nQ 3613 -91 3408 31 \nQ 3203 153 3025 447 \nL 3025 -1331 \nL 2447 -1331 \nz\nM 4525 1747 \nQ 4525 2481 4298 2792 \nQ 4072 3103 3688 3103 \nQ 3381 3103 3025 2578 \nL 3025 916 \nQ 3381 391 3688 391 \nQ 4072 391 4298 702 \nQ 4525 1013 4525 1747 \nz\n\" transform=\"scale(0.015625)\"/>\n      <path id=\"DejaVuSans-438\" d=\"M 3578 3500 \nL 3578 0 \nL 3006 0 \nL 3006 2809 \nL 1319 0 \nL 581 0 \nL 581 3500 \nL 1153 3500 \nL 1153 697 \nL 2838 3500 \nL 3578 3500 \nz\n\" transform=\"scale(0.015625)\"/>\n      <path id=\"DejaVuSans-43a\" d=\"M 581 3500 \nL 1153 3500 \nL 1153 1856 \nL 2775 3500 \nL 3481 3500 \nL 2144 2147 \nL 3653 0 \nL 3009 0 \nL 1769 1766 \nL 1153 1141 \nL 1153 0 \nL 581 0 \nL 581 3500 \nz\n\" transform=\"scale(0.015625)\"/>\n      <path id=\"DejaVuSans-20\" transform=\"scale(0.015625)\"/>\n      <path id=\"DejaVuSans-79\" d=\"M 2059 -325 \nQ 1816 -950 1584 -1140 \nQ 1353 -1331 966 -1331 \nL 506 -1331 \nL 506 -850 \nL 844 -850 \nQ 1081 -850 1212 -737 \nQ 1344 -625 1503 -206 \nL 1606 56 \nL 191 3500 \nL 800 3500 \nL 1894 763 \nL 2988 3500 \nL 3597 3500 \nL 2059 -325 \nz\n\" transform=\"scale(0.015625)\"/>\n      <path id=\"DejaVuSans-31\" d=\"M 794 531 \nL 1825 531 \nL 1825 4091 \nL 703 3866 \nL 703 4441 \nL 1819 4666 \nL 2450 4666 \nL 2450 531 \nL 3481 531 \nL 3481 0 \nL 794 0 \nL 794 531 \nz\n\" transform=\"scale(0.015625)\"/>\n     </defs>\n     <use xlink:href=\"#DejaVuSans-413\"/>\n     <use xlink:href=\"#DejaVuSans-440\" x=\"60.986328\"/>\n     <use xlink:href=\"#DejaVuSans-430\" x=\"124.462891\"/>\n     <use xlink:href=\"#DejaVuSans-444\" x=\"185.742188\"/>\n     <use xlink:href=\"#DejaVuSans-438\" x=\"271.240234\"/>\n     <use xlink:href=\"#DejaVuSans-43a\" x=\"336.230469\"/>\n     <use xlink:href=\"#DejaVuSans-20\" x=\"396.630859\"/>\n     <use xlink:href=\"#DejaVuSans-79\" x=\"428.417969\"/>\n     <use xlink:href=\"#DejaVuSans-31\" x=\"487.597656\"/>\n    </g>\n   </g>\n  </g>\n  <g id=\"axes_2\">\n   <g id=\"patch_7\">\n    <path d=\"M 323.488302 180.65758 \nL 541.366563 180.65758 \nL 541.366563 28.51845 \nL 323.488302 28.51845 \nz\n\" style=\"fill: #f0f0f0\"/>\n   </g>\n   <g id=\"matplotlib.axis_3\">\n    <g id=\"xtick_6\">\n     <g id=\"line2d_22\">\n      <path d=\"M 366.403717 180.65758 \nL 366.403717 28.51845 \n\" clip-path=\"url(#pa466a319d6)\" style=\"fill: none; stroke: #cbcbcb\"/>\n     </g>\n     <g id=\"line2d_23\"/>\n     <g id=\"text_12\">\n      <!-- −2 -->\n      <g transform=\"translate(356.084185 194.795393) scale(0.14 -0.14)\">\n       <use xlink:href=\"#DejaVuSans-2212\"/>\n       <use xlink:href=\"#DejaVuSans-32\" x=\"83.789062\"/>\n      </g>\n     </g>\n    </g>\n    <g id=\"xtick_7\">\n     <g id=\"line2d_24\">\n      <path d=\"M 432.427432 180.65758 \nL 432.427432 28.51845 \n\" clip-path=\"url(#pa466a319d6)\" style=\"fill: none; stroke: #cbcbcb\"/>\n     </g>\n     <g id=\"line2d_25\"/>\n     <g id=\"text_13\">\n      <!-- 0 -->\n      <g transform=\"translate(427.973682 194.795393) scale(0.14 -0.14)\">\n       <use xlink:href=\"#DejaVuSans-30\"/>\n      </g>\n     </g>\n    </g>\n    <g id=\"xtick_8\">\n     <g id=\"line2d_26\">\n      <path d=\"M 498.451147 180.65758 \nL 498.451147 28.51845 \n\" clip-path=\"url(#pa466a319d6)\" style=\"fill: none; stroke: #cbcbcb\"/>\n     </g>\n     <g id=\"line2d_27\"/>\n     <g id=\"text_14\">\n      <!-- 2 -->\n      <g transform=\"translate(493.997397 194.795393) scale(0.14 -0.14)\">\n       <use xlink:href=\"#DejaVuSans-32\"/>\n      </g>\n     </g>\n    </g>\n   </g>\n   <g id=\"matplotlib.axis_4\">\n    <g id=\"ytick_6\">\n     <g id=\"line2d_28\">\n      <path d=\"M 323.488302 167.97932 \nL 541.366563 167.97932 \n\" clip-path=\"url(#pa466a319d6)\" style=\"fill: none; stroke: #cbcbcb\"/>\n     </g>\n     <g id=\"line2d_29\"/>\n     <g id=\"text_15\">\n      <!-- −5 -->\n      <g transform=\"translate(299.349239 173.298226) scale(0.14 -0.14)\">\n       <defs>\n        <path id=\"DejaVuSans-35\" d=\"M 691 4666 \nL 3169 4666 \nL 3169 4134 \nL 1269 4134 \nL 1269 2991 \nQ 1406 3038 1543 3061 \nQ 1681 3084 1819 3084 \nQ 2600 3084 3056 2656 \nQ 3513 2228 3513 1497 \nQ 3513 744 3044 326 \nQ 2575 -91 1722 -91 \nQ 1428 -91 1123 -41 \nQ 819 9 494 109 \nL 494 744 \nQ 775 591 1075 516 \nQ 1375 441 1709 441 \nQ 2250 441 2565 725 \nQ 2881 1009 2881 1497 \nQ 2881 1984 2565 2268 \nQ 2250 2553 1709 2553 \nQ 1456 2553 1204 2497 \nQ 953 2441 691 2322 \nL 691 4666 \nz\n\" transform=\"scale(0.015625)\"/>\n       </defs>\n       <use xlink:href=\"#DejaVuSans-2212\"/>\n       <use xlink:href=\"#DejaVuSans-35\" x=\"83.789062\"/>\n      </g>\n     </g>\n    </g>\n    <g id=\"ytick_7\">\n     <g id=\"line2d_30\">\n      <path d=\"M 323.488302 110.350861 \nL 541.366563 110.350861 \n\" clip-path=\"url(#pa466a319d6)\" style=\"fill: none; stroke: #cbcbcb\"/>\n     </g>\n     <g id=\"line2d_31\"/>\n     <g id=\"text_16\">\n      <!-- 0 -->\n      <g transform=\"translate(311.080802 115.669767) scale(0.14 -0.14)\">\n       <use xlink:href=\"#DejaVuSans-30\"/>\n      </g>\n     </g>\n    </g>\n    <g id=\"ytick_8\">\n     <g id=\"line2d_32\">\n      <path d=\"M 323.488302 52.722403 \nL 541.366563 52.722403 \n\" clip-path=\"url(#pa466a319d6)\" style=\"fill: none; stroke: #cbcbcb\"/>\n     </g>\n     <g id=\"line2d_33\"/>\n     <g id=\"text_17\">\n      <!-- 5 -->\n      <g transform=\"translate(311.080802 58.041309) scale(0.14 -0.14)\">\n       <use xlink:href=\"#DejaVuSans-35\"/>\n      </g>\n     </g>\n    </g>\n   </g>\n   <g id=\"line2d_34\">\n    <path d=\"M 333.391859 173.742165 \nL 337.353282 170.975999 \nL 341.314705 168.209833 \nL 345.276128 165.443667 \nL 349.237551 162.677501 \nL 353.198974 159.911335 \nL 357.160396 157.145169 \nL 361.121819 154.379003 \nL 365.083242 151.612837 \nL 369.044665 148.846671 \nL 373.006088 146.080505 \nL 376.967511 143.314339 \nL 380.928934 140.548173 \nL 384.890357 137.782007 \nL 388.85178 135.015841 \nL 392.813203 132.249675 \nL 396.774626 129.483509 \nL 400.736049 126.717343 \nL 404.697472 123.951177 \nL 408.658895 121.185011 \nL 412.620317 118.418845 \nL 416.58174 115.652679 \nL 420.543163 112.886513 \nL 424.504586 110.120347 \nL 428.466009 107.354181 \nL 432.427432 104.588015 \nL 436.388855 101.821849 \nL 440.350278 99.055683 \nL 444.311701 96.289517 \nL 448.273124 93.523351 \nL 452.234547 90.757185 \nL 456.19597 87.991019 \nL 460.157393 85.224853 \nL 464.118815 82.458687 \nL 468.080238 79.692521 \nL 472.041661 76.926355 \nL 476.003084 74.160189 \nL 479.964507 71.394023 \nL 483.92593 68.627857 \nL 487.887353 65.861691 \nL 491.848776 63.095525 \nL 495.810199 60.329359 \nL 499.771622 57.563193 \nL 503.733045 54.797027 \nL 507.694468 52.030861 \nL 511.655891 49.264695 \nL 515.617313 46.498529 \nL 519.578736 43.732363 \nL 523.540159 40.966197 \nL 527.501582 38.200031 \nL 531.463005 35.433865 \n\" clip-path=\"url(#pa466a319d6)\" style=\"fill: none; stroke: #008fd5; stroke-width: 4\"/>\n   </g>\n   <g id=\"patch_8\">\n    <path d=\"M 323.488302 180.65758 \nL 323.488302 28.51845 \n\" style=\"fill: none; stroke: #f0f0f0; stroke-width: 3; stroke-linejoin: miter; stroke-linecap: square\"/>\n   </g>\n   <g id=\"patch_9\">\n    <path d=\"M 541.366563 180.65758 \nL 541.366563 28.51845 \n\" style=\"fill: none; stroke: #f0f0f0; stroke-width: 3; stroke-linejoin: miter; stroke-linecap: square\"/>\n   </g>\n   <g id=\"patch_10\">\n    <path d=\"M 323.488302 180.65758 \nL 541.366563 180.65758 \n\" style=\"fill: none; stroke: #f0f0f0; stroke-width: 3; stroke-linejoin: miter; stroke-linecap: square\"/>\n   </g>\n   <g id=\"patch_11\">\n    <path d=\"M 323.488302 28.51845 \nL 541.366563 28.51845 \n\" style=\"fill: none; stroke: #f0f0f0; stroke-width: 3; stroke-linejoin: miter; stroke-linecap: square\"/>\n   </g>\n   <g id=\"text_18\">\n    <!-- График y2 -->\n    <g transform=\"translate(376.863007 22.51845) scale(0.2016 -0.2016)\">\n     <use xlink:href=\"#DejaVuSans-413\"/>\n     <use xlink:href=\"#DejaVuSans-440\" x=\"60.986328\"/>\n     <use xlink:href=\"#DejaVuSans-430\" x=\"124.462891\"/>\n     <use xlink:href=\"#DejaVuSans-444\" x=\"185.742188\"/>\n     <use xlink:href=\"#DejaVuSans-438\" x=\"271.240234\"/>\n     <use xlink:href=\"#DejaVuSans-43a\" x=\"336.230469\"/>\n     <use xlink:href=\"#DejaVuSans-20\" x=\"396.630859\"/>\n     <use xlink:href=\"#DejaVuSans-79\" x=\"428.417969\"/>\n     <use xlink:href=\"#DejaVuSans-32\" x=\"487.597656\"/>\n    </g>\n   </g>\n  </g>\n  <g id=\"axes_3\">\n   <g id=\"patch_12\">\n    <path d=\"M 40.246563 378.43845 \nL 258.124823 378.43845 \nL 258.124823 226.29932 \nL 40.246563 226.29932 \nz\n\" style=\"fill: #f0f0f0\"/>\n   </g>\n   <g id=\"matplotlib.axis_5\">\n    <g id=\"xtick_9\">\n     <g id=\"line2d_35\">\n      <path d=\"M 83.161978 378.43845 \nL 83.161978 226.29932 \n\" clip-path=\"url(#p52d775a3ff)\" style=\"fill: none; stroke: #cbcbcb\"/>\n     </g>\n     <g id=\"line2d_36\"/>\n     <g id=\"text_19\">\n      <!-- −2 -->\n      <g transform=\"translate(72.842446 392.576263) scale(0.14 -0.14)\">\n       <use xlink:href=\"#DejaVuSans-2212\"/>\n       <use xlink:href=\"#DejaVuSans-32\" x=\"83.789062\"/>\n      </g>\n     </g>\n    </g>\n    <g id=\"xtick_10\">\n     <g id=\"line2d_37\">\n      <path d=\"M 149.185693 378.43845 \nL 149.185693 226.29932 \n\" clip-path=\"url(#p52d775a3ff)\" style=\"fill: none; stroke: #cbcbcb\"/>\n     </g>\n     <g id=\"line2d_38\"/>\n     <g id=\"text_20\">\n      <!-- 0 -->\n      <g transform=\"translate(144.731943 392.576263) scale(0.14 -0.14)\">\n       <use xlink:href=\"#DejaVuSans-30\"/>\n      </g>\n     </g>\n    </g>\n    <g id=\"xtick_11\">\n     <g id=\"line2d_39\">\n      <path d=\"M 215.209408 378.43845 \nL 215.209408 226.29932 \n\" clip-path=\"url(#p52d775a3ff)\" style=\"fill: none; stroke: #cbcbcb\"/>\n     </g>\n     <g id=\"line2d_40\"/>\n     <g id=\"text_21\">\n      <!-- 2 -->\n      <g transform=\"translate(210.755658 392.576263) scale(0.14 -0.14)\">\n       <use xlink:href=\"#DejaVuSans-32\"/>\n      </g>\n     </g>\n    </g>\n   </g>\n   <g id=\"matplotlib.axis_6\">\n    <g id=\"ytick_9\">\n     <g id=\"line2d_41\">\n      <path d=\"M 40.246563 367.681138 \nL 258.124823 367.681138 \n\" clip-path=\"url(#p52d775a3ff)\" style=\"fill: none; stroke: #cbcbcb\"/>\n     </g>\n     <g id=\"line2d_42\"/>\n     <g id=\"text_22\">\n      <!-- −10 -->\n      <g transform=\"translate(7.2 373.000044) scale(0.14 -0.14)\">\n       <use xlink:href=\"#DejaVuSans-2212\"/>\n       <use xlink:href=\"#DejaVuSans-31\" x=\"83.789062\"/>\n       <use xlink:href=\"#DejaVuSans-30\" x=\"147.412109\"/>\n      </g>\n     </g>\n    </g>\n    <g id=\"ytick_10\">\n     <g id=\"line2d_43\">\n      <path d=\"M 40.246563 329.262165 \nL 258.124823 329.262165 \n\" clip-path=\"url(#p52d775a3ff)\" style=\"fill: none; stroke: #cbcbcb\"/>\n     </g>\n     <g id=\"line2d_44\"/>\n     <g id=\"text_23\">\n      <!-- −5 -->\n      <g transform=\"translate(16.1075 334.581072) scale(0.14 -0.14)\">\n       <use xlink:href=\"#DejaVuSans-2212\"/>\n       <use xlink:href=\"#DejaVuSans-35\" x=\"83.789062\"/>\n      </g>\n     </g>\n    </g>\n    <g id=\"ytick_11\">\n     <g id=\"line2d_45\">\n      <path d=\"M 40.246563 290.843193 \nL 258.124823 290.843193 \n\" clip-path=\"url(#p52d775a3ff)\" style=\"fill: none; stroke: #cbcbcb\"/>\n     </g>\n     <g id=\"line2d_46\"/>\n     <g id=\"text_24\">\n      <!-- 0 -->\n      <g transform=\"translate(27.839063 296.162099) scale(0.14 -0.14)\">\n       <use xlink:href=\"#DejaVuSans-30\"/>\n      </g>\n     </g>\n    </g>\n    <g id=\"ytick_12\">\n     <g id=\"line2d_47\">\n      <path d=\"M 40.246563 252.424221 \nL 258.124823 252.424221 \n\" clip-path=\"url(#p52d775a3ff)\" style=\"fill: none; stroke: #cbcbcb\"/>\n     </g>\n     <g id=\"line2d_48\"/>\n     <g id=\"text_25\">\n      <!-- 5 -->\n      <g transform=\"translate(27.839063 257.743127) scale(0.14 -0.14)\">\n       <use xlink:href=\"#DejaVuSans-35\"/>\n      </g>\n     </g>\n    </g>\n   </g>\n   <g id=\"line2d_49\">\n    <path d=\"M 50.15012 233.214735 \nL 54.111543 235.980901 \nL 58.072966 238.747067 \nL 62.034389 241.513233 \nL 65.995812 244.279399 \nL 69.957234 247.045565 \nL 73.918657 249.811731 \nL 77.88008 252.577897 \nL 81.841503 255.344063 \nL 85.802926 258.110229 \nL 89.764349 260.876395 \nL 93.725772 263.642561 \nL 97.687195 266.408727 \nL 101.648618 269.174893 \nL 105.610041 271.941059 \nL 109.571464 274.707225 \nL 113.532887 277.473391 \nL 117.49431 280.239557 \nL 121.455732 283.005723 \nL 125.417155 285.771889 \nL 129.378578 288.538055 \nL 133.340001 291.304221 \nL 137.301424 294.070387 \nL 141.262847 296.836553 \nL 145.22427 299.602719 \nL 149.185693 302.368885 \nL 153.147116 305.135051 \nL 157.108539 307.901217 \nL 161.069962 310.667383 \nL 165.031385 313.433549 \nL 168.992808 316.199715 \nL 172.95423 318.965881 \nL 176.915653 321.732047 \nL 180.877076 324.498213 \nL 184.838499 327.264379 \nL 188.799922 330.030545 \nL 192.761345 332.796711 \nL 196.722768 335.562877 \nL 200.684191 338.329043 \nL 204.645614 341.095209 \nL 208.607037 343.861375 \nL 212.56846 346.627541 \nL 216.529883 349.393707 \nL 220.491306 352.159873 \nL 224.452729 354.926039 \nL 228.414151 357.692205 \nL 232.375574 360.458371 \nL 236.336997 363.224537 \nL 240.29842 365.990703 \nL 244.259843 368.756869 \nL 248.221266 371.523035 \n\" clip-path=\"url(#p52d775a3ff)\" style=\"fill: none; stroke: #008fd5; stroke-width: 4\"/>\n   </g>\n   <g id=\"patch_13\">\n    <path d=\"M 40.246563 378.43845 \nL 40.246563 226.29932 \n\" style=\"fill: none; stroke: #f0f0f0; stroke-width: 3; stroke-linejoin: miter; stroke-linecap: square\"/>\n   </g>\n   <g id=\"patch_14\">\n    <path d=\"M 258.124823 378.43845 \nL 258.124823 226.29932 \n\" style=\"fill: none; stroke: #f0f0f0; stroke-width: 3; stroke-linejoin: miter; stroke-linecap: square\"/>\n   </g>\n   <g id=\"patch_15\">\n    <path d=\"M 40.246562 378.43845 \nL 258.124823 378.43845 \n\" style=\"fill: none; stroke: #f0f0f0; stroke-width: 3; stroke-linejoin: miter; stroke-linecap: square\"/>\n   </g>\n   <g id=\"patch_16\">\n    <path d=\"M 40.246562 226.29932 \nL 258.124823 226.29932 \n\" style=\"fill: none; stroke: #f0f0f0; stroke-width: 3; stroke-linejoin: miter; stroke-linecap: square\"/>\n   </g>\n   <g id=\"text_26\">\n    <!-- График y3 -->\n    <g transform=\"translate(93.621268 220.29932) scale(0.2016 -0.2016)\">\n     <defs>\n      <path id=\"DejaVuSans-33\" d=\"M 2597 2516 \nQ 3050 2419 3304 2112 \nQ 3559 1806 3559 1356 \nQ 3559 666 3084 287 \nQ 2609 -91 1734 -91 \nQ 1441 -91 1130 -33 \nQ 819 25 488 141 \nL 488 750 \nQ 750 597 1062 519 \nQ 1375 441 1716 441 \nQ 2309 441 2620 675 \nQ 2931 909 2931 1356 \nQ 2931 1769 2642 2001 \nQ 2353 2234 1838 2234 \nL 1294 2234 \nL 1294 2753 \nL 1863 2753 \nQ 2328 2753 2575 2939 \nQ 2822 3125 2822 3475 \nQ 2822 3834 2567 4026 \nQ 2313 4219 1838 4219 \nQ 1578 4219 1281 4162 \nQ 984 4106 628 3988 \nL 628 4550 \nQ 988 4650 1302 4700 \nQ 1616 4750 1894 4750 \nQ 2613 4750 3031 4423 \nQ 3450 4097 3450 3541 \nQ 3450 3153 3228 2886 \nQ 3006 2619 2597 2516 \nz\n\" transform=\"scale(0.015625)\"/>\n     </defs>\n     <use xlink:href=\"#DejaVuSans-413\"/>\n     <use xlink:href=\"#DejaVuSans-440\" x=\"60.986328\"/>\n     <use xlink:href=\"#DejaVuSans-430\" x=\"124.462891\"/>\n     <use xlink:href=\"#DejaVuSans-444\" x=\"185.742188\"/>\n     <use xlink:href=\"#DejaVuSans-438\" x=\"271.240234\"/>\n     <use xlink:href=\"#DejaVuSans-43a\" x=\"336.230469\"/>\n     <use xlink:href=\"#DejaVuSans-20\" x=\"396.630859\"/>\n     <use xlink:href=\"#DejaVuSans-79\" x=\"428.417969\"/>\n     <use xlink:href=\"#DejaVuSans-33\" x=\"487.597656\"/>\n    </g>\n   </g>\n  </g>\n  <g id=\"axes_4\">\n   <g id=\"patch_17\">\n    <path d=\"M 323.488302 378.43845 \nL 541.366563 378.43845 \nL 541.366563 226.29932 \nL 323.488302 226.29932 \nz\n\" style=\"fill: #f0f0f0\"/>\n   </g>\n   <g id=\"matplotlib.axis_7\">\n    <g id=\"xtick_12\">\n     <g id=\"line2d_50\">\n      <path d=\"M 366.403717 378.43845 \nL 366.403717 226.29932 \n\" clip-path=\"url(#p6f45450da7)\" style=\"fill: none; stroke: #cbcbcb\"/>\n     </g>\n     <g id=\"line2d_51\"/>\n     <g id=\"text_27\">\n      <!-- −2 -->\n      <g transform=\"translate(356.084185 392.576263) scale(0.14 -0.14)\">\n       <use xlink:href=\"#DejaVuSans-2212\"/>\n       <use xlink:href=\"#DejaVuSans-32\" x=\"83.789062\"/>\n      </g>\n     </g>\n    </g>\n    <g id=\"xtick_13\">\n     <g id=\"line2d_52\">\n      <path d=\"M 432.427432 378.43845 \nL 432.427432 226.29932 \n\" clip-path=\"url(#p6f45450da7)\" style=\"fill: none; stroke: #cbcbcb\"/>\n     </g>\n     <g id=\"line2d_53\"/>\n     <g id=\"text_28\">\n      <!-- 0 -->\n      <g transform=\"translate(427.973682 392.576263) scale(0.14 -0.14)\">\n       <use xlink:href=\"#DejaVuSans-30\"/>\n      </g>\n     </g>\n    </g>\n    <g id=\"xtick_14\">\n     <g id=\"line2d_54\">\n      <path d=\"M 498.451147 378.43845 \nL 498.451147 226.29932 \n\" clip-path=\"url(#p6f45450da7)\" style=\"fill: none; stroke: #cbcbcb\"/>\n     </g>\n     <g id=\"line2d_55\"/>\n     <g id=\"text_29\">\n      <!-- 2 -->\n      <g transform=\"translate(493.997397 392.576263) scale(0.14 -0.14)\">\n       <use xlink:href=\"#DejaVuSans-32\"/>\n      </g>\n     </g>\n    </g>\n   </g>\n   <g id=\"matplotlib.axis_8\">\n    <g id=\"ytick_13\">\n     <g id=\"line2d_56\">\n      <path d=\"M 323.488302 371.527066 \nL 541.366563 371.527066 \n\" clip-path=\"url(#p6f45450da7)\" style=\"fill: none; stroke: #cbcbcb\"/>\n     </g>\n     <g id=\"line2d_57\"/>\n     <g id=\"text_30\">\n      <!-- −1.0 -->\n      <g transform=\"translate(285.992364 376.845972) scale(0.14 -0.14)\">\n       <defs>\n        <path id=\"DejaVuSans-2e\" d=\"M 684 794 \nL 1344 794 \nL 1344 0 \nL 684 0 \nL 684 794 \nz\n\" transform=\"scale(0.015625)\"/>\n       </defs>\n       <use xlink:href=\"#DejaVuSans-2212\"/>\n       <use xlink:href=\"#DejaVuSans-31\" x=\"83.789062\"/>\n       <use xlink:href=\"#DejaVuSans-2e\" x=\"147.412109\"/>\n       <use xlink:href=\"#DejaVuSans-30\" x=\"179.199219\"/>\n      </g>\n     </g>\n    </g>\n    <g id=\"ytick_14\">\n     <g id=\"line2d_58\">\n      <path d=\"M 323.488302 336.947975 \nL 541.366563 336.947975 \n\" clip-path=\"url(#p6f45450da7)\" style=\"fill: none; stroke: #cbcbcb\"/>\n     </g>\n     <g id=\"line2d_59\"/>\n     <g id=\"text_31\">\n      <!-- −0.5 -->\n      <g transform=\"translate(285.992364 342.266881) scale(0.14 -0.14)\">\n       <use xlink:href=\"#DejaVuSans-2212\"/>\n       <use xlink:href=\"#DejaVuSans-30\" x=\"83.789062\"/>\n       <use xlink:href=\"#DejaVuSans-2e\" x=\"147.412109\"/>\n       <use xlink:href=\"#DejaVuSans-35\" x=\"179.199219\"/>\n      </g>\n     </g>\n    </g>\n    <g id=\"ytick_15\">\n     <g id=\"line2d_60\">\n      <path d=\"M 323.488302 302.368885 \nL 541.366563 302.368885 \n\" clip-path=\"url(#p6f45450da7)\" style=\"fill: none; stroke: #cbcbcb\"/>\n     </g>\n     <g id=\"line2d_61\"/>\n     <g id=\"text_32\">\n      <!-- 0.0 -->\n      <g transform=\"translate(297.723927 307.687791) scale(0.14 -0.14)\">\n       <use xlink:href=\"#DejaVuSans-30\"/>\n       <use xlink:href=\"#DejaVuSans-2e\" x=\"63.623047\"/>\n       <use xlink:href=\"#DejaVuSans-30\" x=\"95.410156\"/>\n      </g>\n     </g>\n    </g>\n    <g id=\"ytick_16\">\n     <g id=\"line2d_62\">\n      <path d=\"M 323.488302 267.789794 \nL 541.366563 267.789794 \n\" clip-path=\"url(#p6f45450da7)\" style=\"fill: none; stroke: #cbcbcb\"/>\n     </g>\n     <g id=\"line2d_63\"/>\n     <g id=\"text_33\">\n      <!-- 0.5 -->\n      <g transform=\"translate(297.723927 273.108701) scale(0.14 -0.14)\">\n       <use xlink:href=\"#DejaVuSans-30\"/>\n       <use xlink:href=\"#DejaVuSans-2e\" x=\"63.623047\"/>\n       <use xlink:href=\"#DejaVuSans-35\" x=\"95.410156\"/>\n      </g>\n     </g>\n    </g>\n    <g id=\"ytick_17\">\n     <g id=\"line2d_64\">\n      <path d=\"M 323.488302 233.210704 \nL 541.366563 233.210704 \n\" clip-path=\"url(#p6f45450da7)\" style=\"fill: none; stroke: #cbcbcb\"/>\n     </g>\n     <g id=\"line2d_65\"/>\n     <g id=\"text_34\">\n      <!-- 1.0 -->\n      <g transform=\"translate(297.723927 238.52961) scale(0.14 -0.14)\">\n       <use xlink:href=\"#DejaVuSans-31\"/>\n       <use xlink:href=\"#DejaVuSans-2e\" x=\"63.623047\"/>\n       <use xlink:href=\"#DejaVuSans-30\" x=\"95.410156\"/>\n      </g>\n     </g>\n    </g>\n   </g>\n   <g id=\"line2d_66\">\n    <path d=\"M 333.391859 312.128488 \nL 337.353282 320.254529 \nL 341.314705 328.123325 \nL 345.276128 335.621702 \nL 349.237551 342.641813 \nL 353.198974 349.082689 \nL 357.160396 354.851694 \nL 361.121819 359.865852 \nL 365.083242 364.053048 \nL 369.044665 367.353056 \nL 373.006088 369.718415 \nL 376.967511 371.115104 \nL 380.928934 371.523035 \nL 384.890357 370.93634 \nL 388.85178 369.363459 \nL 392.813203 366.827012 \nL 396.774626 363.363482 \nL 400.736049 359.022683 \nL 404.697472 353.867048 \nL 408.658895 347.970729 \nL 412.620317 341.418531 \nL 416.58174 334.304692 \nL 420.543163 326.73153 \nL 424.504586 318.807966 \nL 428.466009 310.647963 \nL 432.427432 302.368885 \nL 436.388855 294.089806 \nL 440.350278 285.929804 \nL 444.311701 278.00624 \nL 448.273124 270.433077 \nL 452.234547 263.319239 \nL 456.19597 256.76704 \nL 460.157393 250.870721 \nL 464.118815 245.715086 \nL 468.080238 241.374287 \nL 472.041661 237.910757 \nL 476.003084 235.374311 \nL 479.964507 233.801429 \nL 483.92593 233.214735 \nL 487.887353 233.622665 \nL 491.848776 235.019354 \nL 495.810199 237.384713 \nL 499.771622 240.684722 \nL 503.733045 244.871917 \nL 507.694468 249.886076 \nL 511.655891 255.65508 \nL 515.617313 262.095956 \nL 519.578736 269.116067 \nL 523.540159 276.614445 \nL 527.501582 284.483241 \nL 531.463005 292.609282 \n\" clip-path=\"url(#p6f45450da7)\" style=\"fill: none; stroke: #008fd5; stroke-width: 4\"/>\n   </g>\n   <g id=\"patch_18\">\n    <path d=\"M 323.488302 378.43845 \nL 323.488302 226.29932 \n\" style=\"fill: none; stroke: #f0f0f0; stroke-width: 3; stroke-linejoin: miter; stroke-linecap: square\"/>\n   </g>\n   <g id=\"patch_19\">\n    <path d=\"M 541.366563 378.43845 \nL 541.366563 226.29932 \n\" style=\"fill: none; stroke: #f0f0f0; stroke-width: 3; stroke-linejoin: miter; stroke-linecap: square\"/>\n   </g>\n   <g id=\"patch_20\">\n    <path d=\"M 323.488302 378.43845 \nL 541.366563 378.43845 \n\" style=\"fill: none; stroke: #f0f0f0; stroke-width: 3; stroke-linejoin: miter; stroke-linecap: square\"/>\n   </g>\n   <g id=\"patch_21\">\n    <path d=\"M 323.488302 226.29932 \nL 541.366563 226.29932 \n\" style=\"fill: none; stroke: #f0f0f0; stroke-width: 3; stroke-linejoin: miter; stroke-linecap: square\"/>\n   </g>\n   <g id=\"text_35\">\n    <!-- График y4 -->\n    <g transform=\"translate(376.863007 220.29932) scale(0.2016 -0.2016)\">\n     <use xlink:href=\"#DejaVuSans-413\"/>\n     <use xlink:href=\"#DejaVuSans-440\" x=\"60.986328\"/>\n     <use xlink:href=\"#DejaVuSans-430\" x=\"124.462891\"/>\n     <use xlink:href=\"#DejaVuSans-444\" x=\"185.742188\"/>\n     <use xlink:href=\"#DejaVuSans-438\" x=\"271.240234\"/>\n     <use xlink:href=\"#DejaVuSans-43a\" x=\"336.230469\"/>\n     <use xlink:href=\"#DejaVuSans-20\" x=\"396.630859\"/>\n     <use xlink:href=\"#DejaVuSans-79\" x=\"428.417969\"/>\n     <use xlink:href=\"#DejaVuSans-34\" x=\"487.597656\"/>\n    </g>\n   </g>\n  </g>\n </g>\n <defs>\n  <clipPath id=\"p3e1a7911e5\">\n   <rect x=\"40.246563\" y=\"28.51845\" width=\"217.878261\" height=\"152.13913\"/>\n  </clipPath>\n  <clipPath id=\"pa466a319d6\">\n   <rect x=\"323.488302\" y=\"28.51845\" width=\"217.878261\" height=\"152.13913\"/>\n  </clipPath>\n  <clipPath id=\"p52d775a3ff\">\n   <rect x=\"40.246563\" y=\"226.29932\" width=\"217.878261\" height=\"152.13913\"/>\n  </clipPath>\n  <clipPath id=\"p6f45450da7\">\n   <rect x=\"323.488302\" y=\"226.29932\" width=\"217.878261\" height=\"152.13913\"/>\n  </clipPath>\n </defs>\n</svg>\n"
          },
          "metadata": {}
        }
      ]
    },
    {
      "cell_type": "markdown",
      "source": [
        "## *Задание 4\n",
        "В этом задании мы будем работать с датасетом, в котором приведены данные по мошенничеству с кредитными данными: Credit Card Fraud Detection (информация об авторах: Andrea Dal Pozzolo, Olivier Caelen, Reid A. Johnson and Gianluca Bontempi. Calibrating Probability with Undersampling for Unbalanced\n",
        "Classification. In Symposium on Computational Intelligence and Data Mining (CIDM), IEEE, 2015).  \n",
        "\n",
        "Ознакомьтесь с описанием и скачайте датасет creditcard.csv с сайта Kaggle.com по ссылке:\n",
        "https://www.kaggle.com/mlg-ulb/creditcardfraud  \n",
        "\n",
        "Данный датасет является примером несбалансированных данных, так как мошеннические операции с картами встречаются реже обычных.  \n",
        "\n",
        "Импортируйте библиотеку Pandas, а также используйте для графиков стиль “fivethirtyeight”.  \n",
        "\n",
        "Посчитайте с помощью метода value_counts количество наблюдений для каждого значения целевой переменной Class и примените к полученным данным метод plot, чтобы построить столбчатую диаграмму. Затем постройте такую же диаграмму, используя логарифмический масштаб.  \n",
        "\n",
        "На следующем графике постройте две гистограммы по значениям признака V1 - одну для мошеннических транзакций (Class равен 1) и другую - для обычных (Class равен 0). Подберите значение аргумента density так, чтобы по вертикали графика было расположено не число наблюдений, а плотность распределения. Число бинов должно равняться 20 для обеих гистограмм, а коэффициент alpha сделайте равным 0.5, чтобы гистограммы были полупрозрачными и не загораживали друг друга. Создайте легенду с двумя значениями: “Class 0” и “Class 1”. Гистограмма\n",
        "обычных транзакций должна быть серого цвета, а мошеннических - красного. Горизонтальной оси дайте название “V1”."
      ],
      "metadata": {
        "id": "qz9rwnVe9U5p"
      }
    },
    {
      "cell_type": "code",
      "source": [
        "import pandas as pd\n",
        "import matplotlib.pyplot as plt\n",
        "\n",
        "# Устанавливаем стиль для графиков\n",
        "plt.style.use('fivethirtyeight')\n",
        "\n",
        "# Загружаем данные\n",
        "file_path = '/content/drive/MyDrive/creditcard.csv'\n",
        "df = pd.read_csv(file_path)\n",
        "\n",
        "# Выводим первые несколько строк данных для проверки\n",
        "df.head()"
      ],
      "metadata": {
        "colab": {
          "base_uri": "https://localhost:8080/",
          "height": 255
        },
        "id": "xjan--kUDhGP",
        "outputId": "79b8a777-6afa-45ed-f481-cb3e94aad4f0"
      },
      "execution_count": 1,
      "outputs": [
        {
          "output_type": "execute_result",
          "data": {
            "text/plain": [
              "   Time        V1        V2        V3        V4        V5        V6        V7  \\\n",
              "0   0.0 -1.359807 -0.072781  2.536347  1.378155 -0.338321  0.462388  0.239599   \n",
              "1   0.0  1.191857  0.266151  0.166480  0.448154  0.060018 -0.082361 -0.078803   \n",
              "2   1.0 -1.358354 -1.340163  1.773209  0.379780 -0.503198  1.800499  0.791461   \n",
              "3   1.0 -0.966272 -0.185226  1.792993 -0.863291 -0.010309  1.247203  0.237609   \n",
              "4   2.0 -1.158233  0.877737  1.548718  0.403034 -0.407193  0.095921  0.592941   \n",
              "\n",
              "         V8        V9  ...       V21       V22       V23       V24       V25  \\\n",
              "0  0.098698  0.363787  ... -0.018307  0.277838 -0.110474  0.066928  0.128539   \n",
              "1  0.085102 -0.255425  ... -0.225775 -0.638672  0.101288 -0.339846  0.167170   \n",
              "2  0.247676 -1.514654  ...  0.247998  0.771679  0.909412 -0.689281 -0.327642   \n",
              "3  0.377436 -1.387024  ... -0.108300  0.005274 -0.190321 -1.175575  0.647376   \n",
              "4 -0.270533  0.817739  ... -0.009431  0.798278 -0.137458  0.141267 -0.206010   \n",
              "\n",
              "        V26       V27       V28  Amount  Class  \n",
              "0 -0.189115  0.133558 -0.021053  149.62      0  \n",
              "1  0.125895 -0.008983  0.014724    2.69      0  \n",
              "2 -0.139097 -0.055353 -0.059752  378.66      0  \n",
              "3 -0.221929  0.062723  0.061458  123.50      0  \n",
              "4  0.502292  0.219422  0.215153   69.99      0  \n",
              "\n",
              "[5 rows x 31 columns]"
            ],
            "text/html": [
              "\n",
              "  <div id=\"df-6ba34f81-7fa7-4ae0-9f21-02583861f3d2\" class=\"colab-df-container\">\n",
              "    <div>\n",
              "<style scoped>\n",
              "    .dataframe tbody tr th:only-of-type {\n",
              "        vertical-align: middle;\n",
              "    }\n",
              "\n",
              "    .dataframe tbody tr th {\n",
              "        vertical-align: top;\n",
              "    }\n",
              "\n",
              "    .dataframe thead th {\n",
              "        text-align: right;\n",
              "    }\n",
              "</style>\n",
              "<table border=\"1\" class=\"dataframe\">\n",
              "  <thead>\n",
              "    <tr style=\"text-align: right;\">\n",
              "      <th></th>\n",
              "      <th>Time</th>\n",
              "      <th>V1</th>\n",
              "      <th>V2</th>\n",
              "      <th>V3</th>\n",
              "      <th>V4</th>\n",
              "      <th>V5</th>\n",
              "      <th>V6</th>\n",
              "      <th>V7</th>\n",
              "      <th>V8</th>\n",
              "      <th>V9</th>\n",
              "      <th>...</th>\n",
              "      <th>V21</th>\n",
              "      <th>V22</th>\n",
              "      <th>V23</th>\n",
              "      <th>V24</th>\n",
              "      <th>V25</th>\n",
              "      <th>V26</th>\n",
              "      <th>V27</th>\n",
              "      <th>V28</th>\n",
              "      <th>Amount</th>\n",
              "      <th>Class</th>\n",
              "    </tr>\n",
              "  </thead>\n",
              "  <tbody>\n",
              "    <tr>\n",
              "      <th>0</th>\n",
              "      <td>0.0</td>\n",
              "      <td>-1.359807</td>\n",
              "      <td>-0.072781</td>\n",
              "      <td>2.536347</td>\n",
              "      <td>1.378155</td>\n",
              "      <td>-0.338321</td>\n",
              "      <td>0.462388</td>\n",
              "      <td>0.239599</td>\n",
              "      <td>0.098698</td>\n",
              "      <td>0.363787</td>\n",
              "      <td>...</td>\n",
              "      <td>-0.018307</td>\n",
              "      <td>0.277838</td>\n",
              "      <td>-0.110474</td>\n",
              "      <td>0.066928</td>\n",
              "      <td>0.128539</td>\n",
              "      <td>-0.189115</td>\n",
              "      <td>0.133558</td>\n",
              "      <td>-0.021053</td>\n",
              "      <td>149.62</td>\n",
              "      <td>0</td>\n",
              "    </tr>\n",
              "    <tr>\n",
              "      <th>1</th>\n",
              "      <td>0.0</td>\n",
              "      <td>1.191857</td>\n",
              "      <td>0.266151</td>\n",
              "      <td>0.166480</td>\n",
              "      <td>0.448154</td>\n",
              "      <td>0.060018</td>\n",
              "      <td>-0.082361</td>\n",
              "      <td>-0.078803</td>\n",
              "      <td>0.085102</td>\n",
              "      <td>-0.255425</td>\n",
              "      <td>...</td>\n",
              "      <td>-0.225775</td>\n",
              "      <td>-0.638672</td>\n",
              "      <td>0.101288</td>\n",
              "      <td>-0.339846</td>\n",
              "      <td>0.167170</td>\n",
              "      <td>0.125895</td>\n",
              "      <td>-0.008983</td>\n",
              "      <td>0.014724</td>\n",
              "      <td>2.69</td>\n",
              "      <td>0</td>\n",
              "    </tr>\n",
              "    <tr>\n",
              "      <th>2</th>\n",
              "      <td>1.0</td>\n",
              "      <td>-1.358354</td>\n",
              "      <td>-1.340163</td>\n",
              "      <td>1.773209</td>\n",
              "      <td>0.379780</td>\n",
              "      <td>-0.503198</td>\n",
              "      <td>1.800499</td>\n",
              "      <td>0.791461</td>\n",
              "      <td>0.247676</td>\n",
              "      <td>-1.514654</td>\n",
              "      <td>...</td>\n",
              "      <td>0.247998</td>\n",
              "      <td>0.771679</td>\n",
              "      <td>0.909412</td>\n",
              "      <td>-0.689281</td>\n",
              "      <td>-0.327642</td>\n",
              "      <td>-0.139097</td>\n",
              "      <td>-0.055353</td>\n",
              "      <td>-0.059752</td>\n",
              "      <td>378.66</td>\n",
              "      <td>0</td>\n",
              "    </tr>\n",
              "    <tr>\n",
              "      <th>3</th>\n",
              "      <td>1.0</td>\n",
              "      <td>-0.966272</td>\n",
              "      <td>-0.185226</td>\n",
              "      <td>1.792993</td>\n",
              "      <td>-0.863291</td>\n",
              "      <td>-0.010309</td>\n",
              "      <td>1.247203</td>\n",
              "      <td>0.237609</td>\n",
              "      <td>0.377436</td>\n",
              "      <td>-1.387024</td>\n",
              "      <td>...</td>\n",
              "      <td>-0.108300</td>\n",
              "      <td>0.005274</td>\n",
              "      <td>-0.190321</td>\n",
              "      <td>-1.175575</td>\n",
              "      <td>0.647376</td>\n",
              "      <td>-0.221929</td>\n",
              "      <td>0.062723</td>\n",
              "      <td>0.061458</td>\n",
              "      <td>123.50</td>\n",
              "      <td>0</td>\n",
              "    </tr>\n",
              "    <tr>\n",
              "      <th>4</th>\n",
              "      <td>2.0</td>\n",
              "      <td>-1.158233</td>\n",
              "      <td>0.877737</td>\n",
              "      <td>1.548718</td>\n",
              "      <td>0.403034</td>\n",
              "      <td>-0.407193</td>\n",
              "      <td>0.095921</td>\n",
              "      <td>0.592941</td>\n",
              "      <td>-0.270533</td>\n",
              "      <td>0.817739</td>\n",
              "      <td>...</td>\n",
              "      <td>-0.009431</td>\n",
              "      <td>0.798278</td>\n",
              "      <td>-0.137458</td>\n",
              "      <td>0.141267</td>\n",
              "      <td>-0.206010</td>\n",
              "      <td>0.502292</td>\n",
              "      <td>0.219422</td>\n",
              "      <td>0.215153</td>\n",
              "      <td>69.99</td>\n",
              "      <td>0</td>\n",
              "    </tr>\n",
              "  </tbody>\n",
              "</table>\n",
              "<p>5 rows × 31 columns</p>\n",
              "</div>\n",
              "    <div class=\"colab-df-buttons\">\n",
              "\n",
              "  <div class=\"colab-df-container\">\n",
              "    <button class=\"colab-df-convert\" onclick=\"convertToInteractive('df-6ba34f81-7fa7-4ae0-9f21-02583861f3d2')\"\n",
              "            title=\"Convert this dataframe to an interactive table.\"\n",
              "            style=\"display:none;\">\n",
              "\n",
              "  <svg xmlns=\"http://www.w3.org/2000/svg\" height=\"24px\" viewBox=\"0 -960 960 960\">\n",
              "    <path d=\"M120-120v-720h720v720H120Zm60-500h600v-160H180v160Zm220 220h160v-160H400v160Zm0 220h160v-160H400v160ZM180-400h160v-160H180v160Zm440 0h160v-160H620v160ZM180-180h160v-160H180v160Zm440 0h160v-160H620v160Z\"/>\n",
              "  </svg>\n",
              "    </button>\n",
              "\n",
              "  <style>\n",
              "    .colab-df-container {\n",
              "      display:flex;\n",
              "      gap: 12px;\n",
              "    }\n",
              "\n",
              "    .colab-df-convert {\n",
              "      background-color: #E8F0FE;\n",
              "      border: none;\n",
              "      border-radius: 50%;\n",
              "      cursor: pointer;\n",
              "      display: none;\n",
              "      fill: #1967D2;\n",
              "      height: 32px;\n",
              "      padding: 0 0 0 0;\n",
              "      width: 32px;\n",
              "    }\n",
              "\n",
              "    .colab-df-convert:hover {\n",
              "      background-color: #E2EBFA;\n",
              "      box-shadow: 0px 1px 2px rgba(60, 64, 67, 0.3), 0px 1px 3px 1px rgba(60, 64, 67, 0.15);\n",
              "      fill: #174EA6;\n",
              "    }\n",
              "\n",
              "    .colab-df-buttons div {\n",
              "      margin-bottom: 4px;\n",
              "    }\n",
              "\n",
              "    [theme=dark] .colab-df-convert {\n",
              "      background-color: #3B4455;\n",
              "      fill: #D2E3FC;\n",
              "    }\n",
              "\n",
              "    [theme=dark] .colab-df-convert:hover {\n",
              "      background-color: #434B5C;\n",
              "      box-shadow: 0px 1px 3px 1px rgba(0, 0, 0, 0.15);\n",
              "      filter: drop-shadow(0px 1px 2px rgba(0, 0, 0, 0.3));\n",
              "      fill: #FFFFFF;\n",
              "    }\n",
              "  </style>\n",
              "\n",
              "    <script>\n",
              "      const buttonEl =\n",
              "        document.querySelector('#df-6ba34f81-7fa7-4ae0-9f21-02583861f3d2 button.colab-df-convert');\n",
              "      buttonEl.style.display =\n",
              "        google.colab.kernel.accessAllowed ? 'block' : 'none';\n",
              "\n",
              "      async function convertToInteractive(key) {\n",
              "        const element = document.querySelector('#df-6ba34f81-7fa7-4ae0-9f21-02583861f3d2');\n",
              "        const dataTable =\n",
              "          await google.colab.kernel.invokeFunction('convertToInteractive',\n",
              "                                                    [key], {});\n",
              "        if (!dataTable) return;\n",
              "\n",
              "        const docLinkHtml = 'Like what you see? Visit the ' +\n",
              "          '<a target=\"_blank\" href=https://colab.research.google.com/notebooks/data_table.ipynb>data table notebook</a>'\n",
              "          + ' to learn more about interactive tables.';\n",
              "        element.innerHTML = '';\n",
              "        dataTable['output_type'] = 'display_data';\n",
              "        await google.colab.output.renderOutput(dataTable, element);\n",
              "        const docLink = document.createElement('div');\n",
              "        docLink.innerHTML = docLinkHtml;\n",
              "        element.appendChild(docLink);\n",
              "      }\n",
              "    </script>\n",
              "  </div>\n",
              "\n",
              "\n",
              "<div id=\"df-f83b553e-0d50-49cd-b2ef-b5bcfeb75014\">\n",
              "  <button class=\"colab-df-quickchart\" onclick=\"quickchart('df-f83b553e-0d50-49cd-b2ef-b5bcfeb75014')\"\n",
              "            title=\"Suggest charts\"\n",
              "            style=\"display:none;\">\n",
              "\n",
              "<svg xmlns=\"http://www.w3.org/2000/svg\" height=\"24px\"viewBox=\"0 0 24 24\"\n",
              "     width=\"24px\">\n",
              "    <g>\n",
              "        <path d=\"M19 3H5c-1.1 0-2 .9-2 2v14c0 1.1.9 2 2 2h14c1.1 0 2-.9 2-2V5c0-1.1-.9-2-2-2zM9 17H7v-7h2v7zm4 0h-2V7h2v10zm4 0h-2v-4h2v4z\"/>\n",
              "    </g>\n",
              "</svg>\n",
              "  </button>\n",
              "\n",
              "<style>\n",
              "  .colab-df-quickchart {\n",
              "      --bg-color: #E8F0FE;\n",
              "      --fill-color: #1967D2;\n",
              "      --hover-bg-color: #E2EBFA;\n",
              "      --hover-fill-color: #174EA6;\n",
              "      --disabled-fill-color: #AAA;\n",
              "      --disabled-bg-color: #DDD;\n",
              "  }\n",
              "\n",
              "  [theme=dark] .colab-df-quickchart {\n",
              "      --bg-color: #3B4455;\n",
              "      --fill-color: #D2E3FC;\n",
              "      --hover-bg-color: #434B5C;\n",
              "      --hover-fill-color: #FFFFFF;\n",
              "      --disabled-bg-color: #3B4455;\n",
              "      --disabled-fill-color: #666;\n",
              "  }\n",
              "\n",
              "  .colab-df-quickchart {\n",
              "    background-color: var(--bg-color);\n",
              "    border: none;\n",
              "    border-radius: 50%;\n",
              "    cursor: pointer;\n",
              "    display: none;\n",
              "    fill: var(--fill-color);\n",
              "    height: 32px;\n",
              "    padding: 0;\n",
              "    width: 32px;\n",
              "  }\n",
              "\n",
              "  .colab-df-quickchart:hover {\n",
              "    background-color: var(--hover-bg-color);\n",
              "    box-shadow: 0 1px 2px rgba(60, 64, 67, 0.3), 0 1px 3px 1px rgba(60, 64, 67, 0.15);\n",
              "    fill: var(--button-hover-fill-color);\n",
              "  }\n",
              "\n",
              "  .colab-df-quickchart-complete:disabled,\n",
              "  .colab-df-quickchart-complete:disabled:hover {\n",
              "    background-color: var(--disabled-bg-color);\n",
              "    fill: var(--disabled-fill-color);\n",
              "    box-shadow: none;\n",
              "  }\n",
              "\n",
              "  .colab-df-spinner {\n",
              "    border: 2px solid var(--fill-color);\n",
              "    border-color: transparent;\n",
              "    border-bottom-color: var(--fill-color);\n",
              "    animation:\n",
              "      spin 1s steps(1) infinite;\n",
              "  }\n",
              "\n",
              "  @keyframes spin {\n",
              "    0% {\n",
              "      border-color: transparent;\n",
              "      border-bottom-color: var(--fill-color);\n",
              "      border-left-color: var(--fill-color);\n",
              "    }\n",
              "    20% {\n",
              "      border-color: transparent;\n",
              "      border-left-color: var(--fill-color);\n",
              "      border-top-color: var(--fill-color);\n",
              "    }\n",
              "    30% {\n",
              "      border-color: transparent;\n",
              "      border-left-color: var(--fill-color);\n",
              "      border-top-color: var(--fill-color);\n",
              "      border-right-color: var(--fill-color);\n",
              "    }\n",
              "    40% {\n",
              "      border-color: transparent;\n",
              "      border-right-color: var(--fill-color);\n",
              "      border-top-color: var(--fill-color);\n",
              "    }\n",
              "    60% {\n",
              "      border-color: transparent;\n",
              "      border-right-color: var(--fill-color);\n",
              "    }\n",
              "    80% {\n",
              "      border-color: transparent;\n",
              "      border-right-color: var(--fill-color);\n",
              "      border-bottom-color: var(--fill-color);\n",
              "    }\n",
              "    90% {\n",
              "      border-color: transparent;\n",
              "      border-bottom-color: var(--fill-color);\n",
              "    }\n",
              "  }\n",
              "</style>\n",
              "\n",
              "  <script>\n",
              "    async function quickchart(key) {\n",
              "      const quickchartButtonEl =\n",
              "        document.querySelector('#' + key + ' button');\n",
              "      quickchartButtonEl.disabled = true;  // To prevent multiple clicks.\n",
              "      quickchartButtonEl.classList.add('colab-df-spinner');\n",
              "      try {\n",
              "        const charts = await google.colab.kernel.invokeFunction(\n",
              "            'suggestCharts', [key], {});\n",
              "      } catch (error) {\n",
              "        console.error('Error during call to suggestCharts:', error);\n",
              "      }\n",
              "      quickchartButtonEl.classList.remove('colab-df-spinner');\n",
              "      quickchartButtonEl.classList.add('colab-df-quickchart-complete');\n",
              "    }\n",
              "    (() => {\n",
              "      let quickchartButtonEl =\n",
              "        document.querySelector('#df-f83b553e-0d50-49cd-b2ef-b5bcfeb75014 button');\n",
              "      quickchartButtonEl.style.display =\n",
              "        google.colab.kernel.accessAllowed ? 'block' : 'none';\n",
              "    })();\n",
              "  </script>\n",
              "</div>\n",
              "\n",
              "    </div>\n",
              "  </div>\n"
            ],
            "application/vnd.google.colaboratory.intrinsic+json": {
              "type": "dataframe",
              "variable_name": "df"
            }
          },
          "metadata": {},
          "execution_count": 1
        }
      ]
    },
    {
      "cell_type": "code",
      "source": [
        "# Считаем количество наблюдений для каждого значения целевой переменной Class\n",
        "class_counts = df['Class'].value_counts()\n",
        "\n",
        "# Строим столбчатую диаграмму\n",
        "class_counts.plot(kind='bar')\n",
        "plt.title('Class Distribution')\n",
        "plt.xlabel('Class')\n",
        "plt.ylabel('Frequency')\n",
        "plt.show()\n",
        "\n",
        "# Строим столбчатую диаграмму с логарифмическим масштабом\n",
        "class_counts.plot(kind='bar', log=True)\n",
        "plt.title('Class Distribution (Log Scale)')\n",
        "plt.xlabel('Class')\n",
        "plt.ylabel('Frequency (Log Scale)')\n",
        "plt.show()\n"
      ],
      "metadata": {
        "colab": {
          "base_uri": "https://localhost:8080/",
          "height": 985
        },
        "id": "N3pCM-vSMcTv",
        "outputId": "12091055-fb48-4340-b739-2ee8a5c40f10"
      },
      "execution_count": 2,
      "outputs": [
        {
          "output_type": "display_data",
          "data": {
            "text/plain": [
              "<Figure size 640x480 with 1 Axes>"
            ],
            "image/png": "[encoded data removed]"
          },
          "metadata": {}
        },
        {
          "output_type": "display_data",
          "data": {
            "text/plain": [
              "<Figure size 640x480 with 1 Axes>"
            ],
            "image/png": "[encoded data removed]"
          },
          "metadata": {}
        }
      ]
    },
    {
      "cell_type": "markdown",
      "source": [
        "*Распределение классов:*\n",
        "\n",
        "_* Первый график показывает количество наблюдений для каждого значения целевой переменной Class._  \n",
        "_* Второй график показывает то же самое, но с логарифмическим масштабом, чтобы лучше визуализировать несбалансированность классов.*_*"
      ],
      "metadata": {
        "id": "iltp6ILmN2vh"
      }
    },
    {
      "cell_type": "code",
      "source": [
        "# Фильтруем данные по значениям Class\n",
        "fraud = df[df['Class'] == 1]\n",
        "non_fraud = df[df['Class'] == 0]\n",
        "\n",
        "# Строим гистограммы\n",
        "plt.hist(non_fraud['V1'], bins=20, density=True, alpha=0.5, color='grey', label='Class 0')\n",
        "plt.hist(fraud['V1'], bins=20, density=True, alpha=0.5, color='red', label='Class 1')\n",
        "\n",
        "# Добавляем легенду\n",
        "plt.legend()\n",
        "\n",
        "# Добавляем названия осей и заголовок\n",
        "plt.xlabel('V1')\n",
        "plt.ylabel('Density')\n",
        "plt.title('Distribution of V1 by Class')\n",
        "plt.show()\n"
      ],
      "metadata": {
        "colab": {
          "base_uri": "https://localhost:8080/",
          "height": 508
        },
        "id": "wV5e_iEQM1mI",
        "outputId": "5efb5e36-c1e5-4b7b-b320-1a7f2e201d05"
      },
      "execution_count": 3,
      "outputs": [
        {
          "output_type": "display_data",
          "data": {
            "text/plain": [
              "<Figure size 640x480 with 1 Axes>"
            ],
            "image/png": "[encoded data removed]"
          },
          "metadata": {}
        }
      ]
    },
    {
      "cell_type": "markdown",
      "source": [
        "*Гистограммы для признака V1 отдельно для мошеннических транзакций (красный цвет) и обычных транзакций (серый цвет). Эти графики позволяют сравнить распределение признака V1 между двумя классами.*"
      ],
      "metadata": {
        "id": "Q2i__f7MOBKQ"
      }
    },
    {
      "cell_type": "markdown",
      "source": [
        "## **Задание на повторение материала"
      ],
      "metadata": {
        "id": "ESDpvew49U3_"
      }
    },
    {
      "cell_type": "markdown",
      "source": [
        "1. Создать одномерный массив Numpy под названием a из 12 последовательных целых чисел чисел от 12 до 24 невключительно"
      ],
      "metadata": {
        "id": "O3g5LBgZ9U1D"
      }
    },
    {
      "cell_type": "code",
      "source": [
        "import numpy as np\n",
        "\n",
        "# Создаём массив a из 12 последовательных целых чисел от 12 до 24 невключительно\n",
        "a = np.arange(12, 24)\n",
        "\n",
        "# Выведем массив a для проверки\n",
        "print(a)\n"
      ],
      "metadata": {
        "colab": {
          "base_uri": "https://localhost:8080/"
        },
        "id": "5VPTO0_DQt-A",
        "outputId": "3fc98003-6b0f-4bc0-a47e-20e43d82162e"
      },
      "execution_count": 7,
      "outputs": [
        {
          "output_type": "stream",
          "name": "stdout",
          "text": [
            "[12 13 14 15 16 17 18 19 20 21 22 23]\n"
          ]
        }
      ]
    },
    {
      "cell_type": "markdown",
      "source": [
        "2. Создать 5 двумерных массивов разной формы из массива a. Не использовать в аргументах метода reshape число -1."
      ],
      "metadata": {
        "id": "Db3eNQlq9UzQ"
      }
    },
    {
      "cell_type": "code",
      "source": [
        "# Создаём 5 двумерных массивов разной формы из массива a\n",
        "array_2x6 = a.reshape(2, 6)\n",
        "array_3x4 = a.reshape(3, 4)\n",
        "array_4x3 = a.reshape(4, 3)\n",
        "array_6x2 = a.reshape(6, 2)\n",
        "array_1x12 = a.reshape(1, 12)\n",
        "\n",
        "# Выведем массивы для проверки\n",
        "print(\"2x6 array:\\n\", array_2x6)\n",
        "print(\"\\n3x4 array:\\n\", array_3x4)\n",
        "print(\"\\n4x3 array:\\n\", array_4x3)\n",
        "print(\"\\n6x2 array:\\n\", array_6x2)\n",
        "print(\"\\n1x12 array:\\n\", array_1x12)"
      ],
      "metadata": {
        "colab": {
          "base_uri": "https://localhost:8080/"
        },
        "id": "_U0m0vChQ_oY",
        "outputId": "9826ba4a-7d8d-449c-98f5-544fa9899bfe"
      },
      "execution_count": 8,
      "outputs": [
        {
          "output_type": "stream",
          "name": "stdout",
          "text": [
            "2x6 array:\n",
            " [[12 13 14 15 16 17]\n",
            " [18 19 20 21 22 23]]\n",
            "\n",
            "3x4 array:\n",
            " [[12 13 14 15]\n",
            " [16 17 18 19]\n",
            " [20 21 22 23]]\n",
            "\n",
            "4x3 array:\n",
            " [[12 13 14]\n",
            " [15 16 17]\n",
            " [18 19 20]\n",
            " [21 22 23]]\n",
            "\n",
            "6x2 array:\n",
            " [[12 13]\n",
            " [14 15]\n",
            " [16 17]\n",
            " [18 19]\n",
            " [20 21]\n",
            " [22 23]]\n",
            "\n",
            "1x12 array:\n",
            " [[12 13 14 15 16 17 18 19 20 21 22 23]]\n"
          ]
        }
      ]
    },
    {
      "cell_type": "markdown",
      "source": [
        "3. Создать 5 двумерных массивов разной формы из массива a. Использовать в аргументах метода reshape число -1 (в трех примерах - для обозначения числа столбцов, в двух - для строк)."
      ],
      "metadata": {
        "id": "vFaf9iGf9Uv8"
      }
    },
    {
      "cell_type": "code",
      "source": [
        "# Используем -1 для обозначения числа столбцов\n",
        "array_2x_ = a.reshape(2, -1)\n",
        "array_3x_ = a.reshape(3, -1)\n",
        "array_4x_ = a.reshape(4, -1)\n",
        "\n",
        "# Используем -1 для обозначения числа строк\n",
        "array_x3_ = a.reshape(-1, 3)\n",
        "array_x4_ = a.reshape(-1, 4)\n",
        "\n",
        "# Выведем массивы для проверки\n",
        "print(\"2x-1 array (2x6):\\n\", array_2x_)\n",
        "print(\"\\n3x-1 array (3x4):\\n\", array_3x_)\n",
        "print(\"\\n4x-1 array (4x3):\\n\", array_4x_)\n",
        "print(\"\\nx3 array (4x3):\\n\", array_x3_)\n",
        "print(\"\\nx4 array (3x4):\\n\", array_x4_)\n"
      ],
      "metadata": {
        "colab": {
          "base_uri": "https://localhost:8080/"
        },
        "id": "TUkjQlEsRfPK",
        "outputId": "c0a86850-0052-4b38-bb42-4d53911f5973"
      },
      "execution_count": 9,
      "outputs": [
        {
          "output_type": "stream",
          "name": "stdout",
          "text": [
            "2x-1 array (2x6):\n",
            " [[12 13 14 15 16 17]\n",
            " [18 19 20 21 22 23]]\n",
            "\n",
            "3x-1 array (3x4):\n",
            " [[12 13 14 15]\n",
            " [16 17 18 19]\n",
            " [20 21 22 23]]\n",
            "\n",
            "4x-1 array (4x3):\n",
            " [[12 13 14]\n",
            " [15 16 17]\n",
            " [18 19 20]\n",
            " [21 22 23]]\n",
            "\n",
            "x3 array (4x3):\n",
            " [[12 13 14]\n",
            " [15 16 17]\n",
            " [18 19 20]\n",
            " [21 22 23]]\n",
            "\n",
            "x4 array (3x4):\n",
            " [[12 13 14 15]\n",
            " [16 17 18 19]\n",
            " [20 21 22 23]]\n"
          ]
        }
      ]
    },
    {
      "cell_type": "markdown",
      "source": [
        "4. Можно ли массив Numpy, состоящий из одного столбца и 12 строк, назвать одномерным?"
      ],
      "metadata": {
        "id": "R2kqlXCV9UuX"
      }
    },
    {
      "cell_type": "markdown",
      "source": [
        "Нет, массив Numpy, состоящий из одного столбца и 12 строк, не является одномерным. Он является двумерным массивом с размерностью (12, 1).\n",
        "\n",
        "Для уточнения:\n",
        "\n",
        "Одномерный массив имеет форму (n,), где n — количество элементов.\n",
        "Двумерный массив имеет форму (m, n), где m — количество строк, а n — количество столбцов."
      ],
      "metadata": {
        "id": "8ti2J9DmRzBM"
      }
    },
    {
      "cell_type": "markdown",
      "source": [
        "5. Создать массив из 3 строк и 4 столбцов, состоящий из случайных чисел с плавающей запятой из нормального распределения со средним, равным 0 и среднеквадратичным отклонением, равным 1.0. Получить из этого массива одномерный массив с таким же атрибутом size, как и исходный массив."
      ],
      "metadata": {
        "id": "MG7e35UP9Uq9"
      }
    },
    {
      "cell_type": "code",
      "source": [
        "import numpy as np\n",
        "\n",
        "# Создаём двумерный массив 3x4 из случайных чисел нормального распределения\n",
        "array_2d = np.random.normal(0, 1.0, (3, 4))\n",
        "\n",
        "# Преобразуем его в одномерный массив\n",
        "array_1d = array_2d.flatten()\n",
        "\n",
        "# Выведем массивы и их размеры для проверки\n",
        "print(\"Двумерный массив 3x4:\\n\", array_2d)\n",
        "print(\"Форма двумерного массива:\", array_2d.shape)\n",
        "print(\"Размер двумерного массива:\", array_2d.size)\n",
        "\n",
        "print(\"\\nОдномерный массив:\\n\", array_1d)\n",
        "print(\"Форма одномерного массива:\", array_1d.shape)\n",
        "print(\"Размер одномерного массива:\", array_1d.size)\n"
      ],
      "metadata": {
        "colab": {
          "base_uri": "https://localhost:8080/"
        },
        "id": "fCh64yiQSE82",
        "outputId": "7f2ae874-f21c-45ce-ae20-32bb21b92259"
      },
      "execution_count": 10,
      "outputs": [
        {
          "output_type": "stream",
          "name": "stdout",
          "text": [
            "Двумерный массив 3x4:\n",
            " [[-0.60962972  0.46976968  0.43025297 -1.87852565]\n",
            " [-1.40558551 -0.31872631 -1.95375421 -2.18105798]\n",
            " [-0.21346415 -1.72859461 -1.09446647  0.74867069]]\n",
            "Форма двумерного массива: (3, 4)\n",
            "Размер двумерного массива: 12\n",
            "\n",
            "Одномерный массив:\n",
            " [-0.60962972  0.46976968  0.43025297 -1.87852565 -1.40558551 -0.31872631\n",
            " -1.95375421 -2.18105798 -0.21346415 -1.72859461 -1.09446647  0.74867069]\n",
            "Форма одномерного массива: (12,)\n",
            "Размер одномерного массива: 12\n"
          ]
        }
      ]
    },
    {
      "cell_type": "markdown",
      "source": [
        "6. Создать массив a, состоящий из целых чисел, убывающих от 20 до 0 невключительно с интервалом 2."
      ],
      "metadata": {
        "id": "u7L4bnTX9UpW"
      }
    },
    {
      "cell_type": "code",
      "source": [
        "import numpy as np\n",
        "\n",
        "a = np.arange(20, 0, -2)\n",
        "print(a)\n"
      ],
      "metadata": {
        "colab": {
          "base_uri": "https://localhost:8080/"
        },
        "id": "uUVFBjzlSdE8",
        "outputId": "935259b7-359f-4151-85b3-ca7519edc41b"
      },
      "execution_count": 11,
      "outputs": [
        {
          "output_type": "stream",
          "name": "stdout",
          "text": [
            "[20 18 16 14 12 10  8  6  4  2]\n"
          ]
        }
      ]
    },
    {
      "cell_type": "markdown",
      "source": [
        "7. Создать массив b, состоящий из 1 строки и 10 столбцов: целых чисел, убывающих от 20 до 1 невключительно с интервалом 2. В чем разница между массивами a и b?"
      ],
      "metadata": {
        "id": "H90Tsv599UmI"
      }
    },
    {
      "cell_type": "code",
      "source": [
        "import numpy as np\n",
        "\n",
        "b = np.arange(20, 1, -2).reshape(1, -1)\n",
        "print(b)\n"
      ],
      "metadata": {
        "colab": {
          "base_uri": "https://localhost:8080/"
        },
        "id": "BX43TtmQSnvZ",
        "outputId": "e0077f18-6634-4671-957f-068e855b1060"
      },
      "execution_count": 12,
      "outputs": [
        {
          "output_type": "stream",
          "name": "stdout",
          "text": [
            "[[20 18 16 14 12 10  8  6  4  2]]\n"
          ]
        }
      ]
    },
    {
      "cell_type": "markdown",
      "source": [
        "Разница между массивами a и b:\n",
        "\n",
        "1. Формат:\n",
        "\n",
        "a: Одномерный массив (вектор), содержащий числа от 20 до 2, убывающие с интервалом 2.  \n",
        "b: Двумерный массив с одной строкой и десятью столбцами, содержащий те же числа, но представленные в виде матрицы.  \n",
        "\n",
        "2. Размерность:\n",
        "\n",
        "a: Размерность (shape) (10,), где 10 — это количество элементов.  \n",
        "b: Размерность (1, 10), где 1 — количество строк, а 10 — количество столбцов.  \n",
        "\n",
        "Так что a — это просто одномерный массив чисел, а b — это двумерный массив с одной строкой и несколькими столбцами"
      ],
      "metadata": {
        "id": "vAku_sJlSvtv"
      }
    },
    {
      "cell_type": "markdown",
      "source": [
        "8. Вертикально соединить массивы a и b. a - двумерный массив из нулей, число строк которого больше 1 и на 1 меньше, чем число строк двумерного массива b, состоящего из единиц. Итоговый массив v должен иметь атрибут size, равный 10."
      ],
      "metadata": {
        "id": "YF-EFngV9Ukp"
      }
    },
    {
      "cell_type": "code",
      "source": [
        "import numpy as np\n",
        "\n",
        "# Создаем массив a с нулями\n",
        "rows_a = 2  # Примерное количество строк\n",
        "cols_a = 2  # Количество столбцов\n",
        "a = np.zeros((rows_a, cols_a), dtype=int)\n",
        "\n",
        "# Создаем массив b с единицами, который на 1 строку больше, чем массив a\n",
        "rows_b = rows_a + 1\n",
        "b = np.ones((rows_b, cols_a), dtype=int)\n",
        "\n",
        "# Объединяем массивы a и b вертикально\n",
        "v = np.vstack((a, b))\n",
        "\n",
        "# Проверяем размерность итогового массива\n",
        "print(\"Массив v:\\n\", v)\n",
        "print(\"Размерность массива v:\", v.size)\n"
      ],
      "metadata": {
        "colab": {
          "base_uri": "https://localhost:8080/"
        },
        "id": "cH4zgqU5TXwL",
        "outputId": "ae1d5066-07bc-4d40-8467-08b7c9b0fc12"
      },
      "execution_count": 14,
      "outputs": [
        {
          "output_type": "stream",
          "name": "stdout",
          "text": [
            "Массив v:\n",
            " [[0 0]\n",
            " [0 0]\n",
            " [1 1]\n",
            " [1 1]\n",
            " [1 1]]\n",
            "Размерность массива v: 10\n"
          ]
        }
      ]
    },
    {
      "cell_type": "markdown",
      "source": [
        "9. Создать одномерный массив а, состоящий из последовательности целых чисел от 0 до 12. Поменять форму этого массива, чтобы получилась матрица A (двумерный массив Numpy), состоящая из 4 строк и 3 столбцов. Получить матрицу At путем транспонирования матрицы A. Получить матрицу B, умножив матрицу A на матрицу At с помощью матричного умножения. Какой размер имеет матрица B? Получится ли вычислить обратную матрицу для матрицы B и почему?"
      ],
      "metadata": {
        "id": "jqvoq7aN9Uhh"
      }
    },
    {
      "cell_type": "code",
      "source": [
        "import numpy as np\n",
        "\n",
        "# Создаём одномерный массив a\n",
        "a = np.arange(13)  # Массив от 0 до 12 (всего 13 элементов)\n",
        "\n",
        "# Преобразование в матрицу A размером 4 строки и 3 столбца\n",
        "A = a[:12].reshape(4, 3)  # Убираем последний элемент (12), чтобы получить 12 элементов\n",
        "print(\"Матрица A:\\n\", A)\n",
        "\n",
        "# Транспонирование матрицы A для получения матрицы At\n",
        "At = A.T\n",
        "print(\"Матрица At:\\n\", At)\n",
        "\n",
        "# Матричное умножение A на At для получения матрицы B\n",
        "B = np.dot(A, At)\n",
        "print(\"Матрица B:\\n\", B)\n",
        "\n",
        "# Определение размера матрицы B и возможности вычисления обратной матрицы\n",
        "print(\"Размер матрицы B:\", B.shape)\n",
        "print(\"Можно ли вычислить обратную матрицу для матрицы B?\", np.linalg.matrix_rank(B) == B.shape[0])\n"
      ],
      "metadata": {
        "colab": {
          "base_uri": "https://localhost:8080/"
        },
        "id": "cr_UQsnKUvqE",
        "outputId": "988b1552-eef0-4e82-e83e-21cd79394018"
      },
      "execution_count": 15,
      "outputs": [
        {
          "output_type": "stream",
          "name": "stdout",
          "text": [
            "Матрица A:\n",
            " [[ 0  1  2]\n",
            " [ 3  4  5]\n",
            " [ 6  7  8]\n",
            " [ 9 10 11]]\n",
            "Матрица At:\n",
            " [[ 0  3  6  9]\n",
            " [ 1  4  7 10]\n",
            " [ 2  5  8 11]]\n",
            "Матрица B:\n",
            " [[  5  14  23  32]\n",
            " [ 14  50  86 122]\n",
            " [ 23  86 149 212]\n",
            " [ 32 122 212 302]]\n",
            "Размер матрицы B: (4, 4)\n",
            "Можно ли вычислить обратную матрицу для матрицы B? False\n"
          ]
        }
      ]
    },
    {
      "cell_type": "markdown",
      "source": [
        "Разбор результата:\n",
        "\n",
        "* Размер матрицы B:  \n",
        "\n",
        "Матрица B получается в результате умножения матрицы A размером 4x3 на её транспонированную матрицу At размером 3x4. Итоговая матрица B будет иметь размерность 4x4.  \n",
        "\n",
        "* Обратная матрица для B:\n",
        "\n",
        "Для того чтобы матрица B имела обратную матрицу, она должна быть квадратной и невырожденной (т.е., её определитель не должен быть равен нулю). В данном случае, размер матрицы B 4x4, и её обратная матрица существует только в том случае, если её ранг равен 4 (что соответствует её размеру)."
      ],
      "metadata": {
        "id": "YIVCZQ0ZVc_g"
      }
    },
    {
      "cell_type": "markdown",
      "source": [
        "10. Инициализируйте генератор случайных числе с помощью объекта seed, равного 42."
      ],
      "metadata": {
        "id": "5p01y9wy9Ufe"
      }
    },
    {
      "cell_type": "code",
      "source": [
        "import numpy as np\n",
        "\n",
        "# Инициализируем генератор случайных чисел с помощью seed\n",
        "np.random.seed(42)\n",
        "\n",
        "# Проверим работу генератора, создав случайный массив\n",
        "random_array = np.random.rand(5)  # Создаем массив из 5 случайных чисел от 0 до 1\n",
        "print(\"Случайный массив:\", random_array)\n"
      ],
      "metadata": {
        "colab": {
          "base_uri": "https://localhost:8080/"
        },
        "id": "0knT_08uVtRW",
        "outputId": "00def9cc-726c-42e7-a338-52d057cf790e"
      },
      "execution_count": 16,
      "outputs": [
        {
          "output_type": "stream",
          "name": "stdout",
          "text": [
            "Случайный массив: [0.37454012 0.95071431 0.73199394 0.59865848 0.15601864]\n"
          ]
        }
      ]
    },
    {
      "cell_type": "markdown",
      "source": [
        "11. Создайте одномерный массив c, составленный из последовательности 16-ти случайных равномерно распределенных целых чисел от 0 до 16 невключительно."
      ],
      "metadata": {
        "id": "ZQedPiow9Uck"
      }
    },
    {
      "cell_type": "code",
      "source": [
        "import numpy as np\n",
        "\n",
        "# Инициализация генератора случайных чисел\n",
        "np.random.seed(42)  # Для воспроизводимости\n",
        "\n",
        "# Создание одномерного массива c из 16 случайных целых чисел от 0 до 16 (невключительно)\n",
        "c = np.random.randint(0, 16, size=16)\n",
        "print(\"Массив c:\", c)\n"
      ],
      "metadata": {
        "colab": {
          "base_uri": "https://localhost:8080/"
        },
        "id": "IgZaAo0eWGAE",
        "outputId": "9310d29e-4011-4f0f-9c1b-b3c474e621be"
      },
      "execution_count": 17,
      "outputs": [
        {
          "output_type": "stream",
          "name": "stdout",
          "text": [
            "Массив c: [ 6  3 12 14 10  7 12  4  6  9  2  6 10 10  7  4]\n"
          ]
        }
      ]
    },
    {
      "cell_type": "markdown",
      "source": [
        "12. Поменяйте его форму так, чтобы получилась квадратная матрица C. Получите матрицу D, поэлементно прибавив матрицу B из предыдущего вопроса к матрице C, умноженной на 10. Вычислите определитель, ранг и обратную матрицу D_inv для D."
      ],
      "metadata": {
        "id": "K8Av_RvN9Uaw"
      }
    },
    {
      "cell_type": "code",
      "source": [
        "import numpy as np\n",
        "\n",
        "# Инициализация генератора случайных чисел\n",
        "np.random.seed(42)\n",
        "\n",
        "# Создание одномерного массива c из 16 случайных целых чисел от 0 до 16 (невключительно)\n",
        "c = np.random.randint(0, 16, size=16)\n",
        "print(\"Массив c:\", c)\n",
        "\n",
        "# Преобразование массива c в квадратную матрицу C размером 4x4\n",
        "C = c.reshape(4, 4)\n",
        "print(\"Матрица C:\\n\", C)\n",
        "\n",
        "# Создаем матрицу B из предыдущего вопроса\n",
        "# Для воспроизводимости используем тот же seed\n",
        "np.random.seed(42)\n",
        "A = np.arange(12).reshape(4, 3)\n",
        "At = A.T\n",
        "B = np.dot(A, At)\n",
        "print(\"Матрица B:\\n\", B)\n",
        "\n",
        "# Создаем матрицу D\n",
        "D = B + C * 10\n",
        "print(\"Матрица D:\\n\", D)\n",
        "\n",
        "# Вычисление определителя, ранга и обратной матрицы для D\n",
        "det_D = np.linalg.det(D)\n",
        "rank_D = np.linalg.matrix_rank(D)\n",
        "\n",
        "try:\n",
        "    D_inv = np.linalg.inv(D)\n",
        "    inv_exists = True\n",
        "except np.linalg.LinAlgError:\n",
        "    D_inv = None\n",
        "    inv_exists = False\n",
        "\n",
        "print(\"Определитель матрицы D:\", det_D)\n",
        "print(\"Ранг матрицы D:\", rank_D)\n",
        "print(\"Обратная матрица D_inv:\\n\", D_inv if inv_exists else \"Обратная матрица не существует\")\n"
      ],
      "metadata": {
        "colab": {
          "base_uri": "https://localhost:8080/"
        },
        "id": "0GWO4ViEWw2K",
        "outputId": "0a2d6dc6-a795-4c02-fc54-dda55ed4fe5a"
      },
      "execution_count": 18,
      "outputs": [
        {
          "output_type": "stream",
          "name": "stdout",
          "text": [
            "Массив c: [ 6  3 12 14 10  7 12  4  6  9  2  6 10 10  7  4]\n",
            "Матрица C:\n",
            " [[ 6  3 12 14]\n",
            " [10  7 12  4]\n",
            " [ 6  9  2  6]\n",
            " [10 10  7  4]]\n",
            "Матрица B:\n",
            " [[  5  14  23  32]\n",
            " [ 14  50  86 122]\n",
            " [ 23  86 149 212]\n",
            " [ 32 122 212 302]]\n",
            "Матрица D:\n",
            " [[ 65  44 143 172]\n",
            " [114 120 206 162]\n",
            " [ 83 176 169 272]\n",
            " [132 222 282 342]]\n",
            "Определитель матрицы D: -28511999.999999944\n",
            "Ранг матрицы D: 4\n",
            "Обратная матрица D_inv:\n",
            " [[ 0.00935396  0.04486532  0.05897517 -0.07286055]\n",
            " [-0.01503577 -0.00122896 -0.00192971  0.00967873]\n",
            " [-0.00356692 -0.01782828 -0.04152146  0.04326178]\n",
            " [ 0.00909091 -0.00181818  0.01272727 -0.01090909]]\n"
          ]
        }
      ]
    },
    {
      "cell_type": "markdown",
      "source": [
        "13. Приравняйте к нулю отрицательные числа в матрице D_inv, а положительные - к единице. Убедитесь, что в матрице D_inv остались только нули и единицы. С помощью функции numpy.where, используя матрицу D_inv в качестве маски, а матрицы B и C - в качестве источников данных, получите матрицу E размером 4x4. Элементы матрицы E, для которых соответствующий элемент матрицы D_inv равен 1, должны быть равны соответствующему элементу матрицы B, а элементы матрицы E, для которых соответствующий элемент матрицы D_inv равен 0, должны быть равны соответствующему элементу матрицы C."
      ],
      "metadata": {
        "id": "BDDDvtdWBJ5S"
      }
    },
    {
      "cell_type": "code",
      "execution_count": 19,
      "metadata": {
        "colab": {
          "base_uri": "https://localhost:8080/"
        },
        "id": "oweiBQwG9LVs",
        "outputId": "1fbfc49d-2177-4724-b00a-b96949e5e58b"
      },
      "outputs": [
        {
          "output_type": "stream",
          "name": "stdout",
          "text": [
            "Массив c: [ 6  3 12 14 10  7 12  4  6  9  2  6 10 10  7  4]\n",
            "Матрица C:\n",
            " [[ 6  3 12 14]\n",
            " [10  7 12  4]\n",
            " [ 6  9  2  6]\n",
            " [10 10  7  4]]\n",
            "Матрица B:\n",
            " [[  5  14  23  32]\n",
            " [ 14  50  86 122]\n",
            " [ 23  86 149 212]\n",
            " [ 32 122 212 302]]\n",
            "Матрица D:\n",
            " [[ 65  44 143 172]\n",
            " [114 120 206 162]\n",
            " [ 83 176 169 272]\n",
            " [132 222 282 342]]\n",
            "Определитель матрицы D: -28511999.999999944\n",
            "Ранг матрицы D: 4\n",
            "Обратная матрица D_inv:\n",
            " [[ 0.00935396  0.04486532  0.05897517 -0.07286055]\n",
            " [-0.01503577 -0.00122896 -0.00192971  0.00967873]\n",
            " [-0.00356692 -0.01782828 -0.04152146  0.04326178]\n",
            " [ 0.00909091 -0.00181818  0.01272727 -0.01090909]]\n",
            "Матрица D_inv после преобразования:\n",
            " [[1 1 1 0]\n",
            " [0 0 0 1]\n",
            " [0 0 0 1]\n",
            " [1 0 1 0]]\n",
            "Матрица E:\n",
            " [[  5  14  23  14]\n",
            " [ 10   7  12 122]\n",
            " [  6   9   2 212]\n",
            " [ 32  10 212   4]]\n"
          ]
        }
      ],
      "source": [
        "import numpy as np\n",
        "\n",
        "# Инициализация генератора случайных чисел\n",
        "np.random.seed(42)\n",
        "\n",
        "# Создание одномерного массива c из 16 случайных целых чисел от 0 до 16 (невключительно)\n",
        "c = np.random.randint(0, 16, size=16)\n",
        "print(\"Массив c:\", c)\n",
        "\n",
        "# Преобразование массива c в квадратную матрицу C размером 4x4\n",
        "C = c.reshape(4, 4)\n",
        "print(\"Матрица C:\\n\", C)\n",
        "\n",
        "# Создаем матрицу B из предыдущего вопроса\n",
        "# Для воспроизводимости используем тот же seed\n",
        "A = np.arange(12).reshape(4, 3)\n",
        "At = A.T\n",
        "B = np.dot(A, At)\n",
        "print(\"Матрица B:\\n\", B)\n",
        "\n",
        "# Создаем матрицу D\n",
        "D = B + C * 10\n",
        "print(\"Матрица D:\\n\", D)\n",
        "\n",
        "# Вычисление определителя, ранга и обратной матрицы для D\n",
        "det_D = np.linalg.det(D)\n",
        "rank_D = np.linalg.matrix_rank(D)\n",
        "\n",
        "try:\n",
        "    D_inv = np.linalg.inv(D)\n",
        "    inv_exists = True\n",
        "except np.linalg.LinAlgError:\n",
        "    D_inv = None\n",
        "    inv_exists = False\n",
        "\n",
        "print(\"Определитель матрицы D:\", det_D)\n",
        "print(\"Ранг матрицы D:\", rank_D)\n",
        "print(\"Обратная матрица D_inv:\\n\", D_inv if inv_exists else \"Обратная матрица не существует\")\n",
        "\n",
        "# Приравниваем отрицательные числа в D_inv к 0, а положительные - к 1\n",
        "if inv_exists:\n",
        "    D_inv_binary = np.where(D_inv > 0, 1, 0)\n",
        "    print(\"Матрица D_inv после преобразования:\\n\", D_inv_binary)\n",
        "\n",
        "    # Используем numpy.where для создания матрицы E\n",
        "    E = np.where(D_inv_binary == 1, B, C)\n",
        "    print(\"Матрица E:\\n\", E)\n",
        "else:\n",
        "    print(\"Матрица D_inv не существует, поэтому создание матрицы E невозможно.\")\n"
      ]
    }
  ]
}